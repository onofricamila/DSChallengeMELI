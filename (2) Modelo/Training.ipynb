{
 "cells": [
  {
   "cell_type": "code",
   "execution_count": 1,
   "metadata": {},
   "outputs": [],
   "source": [
    "import os\n",
    "os.chdir(\"..\") "
   ]
  },
  {
   "cell_type": "code",
   "execution_count": 2,
   "metadata": {},
   "outputs": [],
   "source": [
    "import json\n",
    "from urllib.request import urlopen\n",
    "import urllib\n",
    "import pandas as pd\n",
    "from tqdm.notebook import tqdm\n",
    "import matplotlib.pyplot as plt\n",
    "import seaborn as sn\n",
    "from sklearn.preprocessing import LabelEncoder\n",
    "from sklearn.model_selection import GridSearchCV\n",
    "from sklearn.linear_model import LogisticRegression \n",
    "from xgboost import XGBClassifier\n",
    "from sklearn.neural_network import MLPClassifier\n",
    "from imblearn.over_sampling import SMOTE \n",
    "from sklearn.pipeline import Pipeline\n",
    "from sklearn.pipeline import make_pipeline, make_union\n",
    "from utils.Transformers2 import FillNaDict, DFFeatureUnion, ColumnSelector, DFStandardScaler, DummyTransformer, DFKBinsOrdinalDiscretizer, DFOrdinalEncoder\n",
    "import numpy as np\n",
    "from utils.MinMaxScalerOutliers import MinMaxScalerQ\n",
    "from sklearn.model_selection import GridSearchCV\n",
    "import joblib"
   ]
  },
  {
   "cell_type": "code",
   "execution_count": 3,
   "metadata": {},
   "outputs": [
    {
     "data": {
      "text/html": [
       "<style>.container { width:100% !important; }</style>"
      ],
      "text/plain": [
       "<IPython.core.display.HTML object>"
      ]
     },
     "metadata": {},
     "output_type": "display_data"
    },
    {
     "data": {
      "text/html": [
       "<style>.prompt { font-size: 08px !important; }</style>"
      ],
      "text/plain": [
       "<IPython.core.display.HTML object>"
      ]
     },
     "metadata": {},
     "output_type": "display_data"
    }
   ],
   "source": [
    "from IPython.core.display import display, HTML\n",
    "display(HTML(\"<style>.container { width:100% !important; }</style>\"))\n",
    "display(HTML(\"<style>.prompt { font-size: 08px !important; }</style>\"))\n",
    "pd.options.display.max_columns = None\n",
    "pd.options.display.max_rows = 100"
   ]
  },
  {
   "cell_type": "code",
   "execution_count": 4,
   "metadata": {},
   "outputs": [],
   "source": [
    "seed = 1111"
   ]
  },
  {
   "cell_type": "code",
   "execution_count": 5,
   "metadata": {},
   "outputs": [],
   "source": [
    "data_path = \"data/\""
   ]
  },
  {
   "cell_type": "code",
   "execution_count": 6,
   "metadata": {},
   "outputs": [
    {
     "data": {
      "text/html": [
       "<div>\n",
       "<style scoped>\n",
       "    .dataframe tbody tr th:only-of-type {\n",
       "        vertical-align: middle;\n",
       "    }\n",
       "\n",
       "    .dataframe tbody tr th {\n",
       "        vertical-align: top;\n",
       "    }\n",
       "\n",
       "    .dataframe thead th {\n",
       "        text-align: right;\n",
       "    }\n",
       "</style>\n",
       "<table border=\"1\" class=\"dataframe\">\n",
       "  <thead>\n",
       "    <tr style=\"text-align: right;\">\n",
       "      <th></th>\n",
       "      <th>installments.quantity</th>\n",
       "      <th>installments.rate</th>\n",
       "      <th>id</th>\n",
       "      <th>site_id</th>\n",
       "      <th>title</th>\n",
       "      <th>price</th>\n",
       "      <th>currency_id</th>\n",
       "      <th>available_quantity</th>\n",
       "      <th>sold_quantity</th>\n",
       "      <th>buying_mode</th>\n",
       "      <th>listing_type_id</th>\n",
       "      <th>condition</th>\n",
       "      <th>accepts_mercadopago</th>\n",
       "      <th>category_id</th>\n",
       "      <th>is_official_store</th>\n",
       "      <th>catalog_product_id</th>\n",
       "      <th>tags</th>\n",
       "      <th>catalog_listing</th>\n",
       "      <th>seller.id</th>\n",
       "      <th>seller.car_dealer</th>\n",
       "      <th>seller.real_estate_agency</th>\n",
       "      <th>seller.tags</th>\n",
       "      <th>seller.seller_reputation.transactions.total</th>\n",
       "      <th>seller.seller_reputation.transactions.canceled</th>\n",
       "      <th>seller.seller_reputation.transactions.period</th>\n",
       "      <th>seller.seller_reputation.transactions.ratings.negative</th>\n",
       "      <th>seller.seller_reputation.transactions.ratings.positive</th>\n",
       "      <th>seller.seller_reputation.transactions.ratings.neutral</th>\n",
       "      <th>seller.seller_reputation.transactions.completed</th>\n",
       "      <th>seller.seller_reputation.power_seller_status</th>\n",
       "      <th>seller.seller_reputation.metrics.claims.rate</th>\n",
       "      <th>seller.seller_reputation.metrics.delayed_handling_time.rate</th>\n",
       "      <th>seller.seller_reputation.metrics.delayed_handling_time.value</th>\n",
       "      <th>seller.seller_reputation.metrics.delayed_handling_time.period</th>\n",
       "      <th>seller.seller_reputation.metrics.sales.period</th>\n",
       "      <th>seller.seller_reputation.metrics.sales.completed</th>\n",
       "      <th>seller.seller_reputation.metrics.cancellations.rate</th>\n",
       "      <th>seller.seller_reputation.metrics.cancellations.value</th>\n",
       "      <th>seller.seller_reputation.metrics.cancellations.period</th>\n",
       "      <th>prices.prices</th>\n",
       "      <th>address.state_name</th>\n",
       "      <th>shipping.free_shipping</th>\n",
       "      <th>shipping.mode</th>\n",
       "      <th>shipping.tags</th>\n",
       "      <th>shipping.logistic_type</th>\n",
       "      <th>shipping.store_pick_up</th>\n",
       "      <th>seller.seller_reputation.real_level</th>\n",
       "      <th>root_category_id</th>\n",
       "      <th>root_category_name</th>\n",
       "      <th>discount</th>\n",
       "      <th>category_name</th>\n",
       "      <th>categories_from_root</th>\n",
       "    </tr>\n",
       "  </thead>\n",
       "  <tbody>\n",
       "    <tr>\n",
       "      <th>0</th>\n",
       "      <td>12.0</td>\n",
       "      <td>70.17</td>\n",
       "      <td>MLA896914637</td>\n",
       "      <td>MLA</td>\n",
       "      <td>Magnetron Para Microondas Modelo 2m219g 2m 219 G</td>\n",
       "      <td>1850.0</td>\n",
       "      <td>ARS</td>\n",
       "      <td>1</td>\n",
       "      <td>50</td>\n",
       "      <td>buy_it_now</td>\n",
       "      <td>gold_special</td>\n",
       "      <td>new</td>\n",
       "      <td>1</td>\n",
       "      <td>MLA455062</td>\n",
       "      <td>0</td>\n",
       "      <td>NaN</td>\n",
       "      <td>['brand_verified', 'good_quality_picture', 'go...</td>\n",
       "      <td>0</td>\n",
       "      <td>169949346</td>\n",
       "      <td>0</td>\n",
       "      <td>0</td>\n",
       "      <td>['normal', 'user_info_verified', 'credits_prio...</td>\n",
       "      <td>22721.0</td>\n",
       "      <td>906.0</td>\n",
       "      <td>historic</td>\n",
       "      <td>0.01</td>\n",
       "      <td>0.98</td>\n",
       "      <td>0.01</td>\n",
       "      <td>21815.0</td>\n",
       "      <td>platinum</td>\n",
       "      <td>0.0053</td>\n",
       "      <td>0.0011</td>\n",
       "      <td>4.0</td>\n",
       "      <td>60 days</td>\n",
       "      <td>60 days</td>\n",
       "      <td>3587.0</td>\n",
       "      <td>0.0029</td>\n",
       "      <td>11.0</td>\n",
       "      <td>60 days</td>\n",
       "      <td>[{'id': '2', 'type': 'standard', 'conditions':...</td>\n",
       "      <td>Buenos Aires</td>\n",
       "      <td>0</td>\n",
       "      <td>me2</td>\n",
       "      <td>[]</td>\n",
       "      <td>cross_docking</td>\n",
       "      <td>0</td>\n",
       "      <td>NaN</td>\n",
       "      <td>MLA5726</td>\n",
       "      <td>Electrodomésticos y Aires Ac.</td>\n",
       "      <td>NaN</td>\n",
       "      <td>Magnetrones</td>\n",
       "      <td>['Electrodomésticos y Aires Ac.', 'Cocción', '...</td>\n",
       "    </tr>\n",
       "    <tr>\n",
       "      <th>1</th>\n",
       "      <td>12.0</td>\n",
       "      <td>70.17</td>\n",
       "      <td>MLA689849716</td>\n",
       "      <td>MLA</td>\n",
       "      <td>Motor Y Pedal P/máquinas De Coser Familiar Sin...</td>\n",
       "      <td>4890.0</td>\n",
       "      <td>ARS</td>\n",
       "      <td>1</td>\n",
       "      <td>250</td>\n",
       "      <td>buy_it_now</td>\n",
       "      <td>gold_special</td>\n",
       "      <td>new</td>\n",
       "      <td>1</td>\n",
       "      <td>MLA116430</td>\n",
       "      <td>0</td>\n",
       "      <td>NaN</td>\n",
       "      <td>['good_quality_thumbnail', 'loyalty_discount_e...</td>\n",
       "      <td>0</td>\n",
       "      <td>93137649</td>\n",
       "      <td>0</td>\n",
       "      <td>0</td>\n",
       "      <td>['normal', 'user_info_verified', 'credits_prio...</td>\n",
       "      <td>4037.0</td>\n",
       "      <td>175.0</td>\n",
       "      <td>historic</td>\n",
       "      <td>0.00</td>\n",
       "      <td>1.00</td>\n",
       "      <td>0.00</td>\n",
       "      <td>3862.0</td>\n",
       "      <td>platinum</td>\n",
       "      <td>0.0000</td>\n",
       "      <td>0.0221</td>\n",
       "      <td>17.0</td>\n",
       "      <td>60 days</td>\n",
       "      <td>60 days</td>\n",
       "      <td>758.0</td>\n",
       "      <td>0.0000</td>\n",
       "      <td>0.0</td>\n",
       "      <td>60 days</td>\n",
       "      <td>[{'id': '3', 'type': 'standard', 'conditions':...</td>\n",
       "      <td>Buenos Aires</td>\n",
       "      <td>1</td>\n",
       "      <td>me2</td>\n",
       "      <td>['fulfillment', 'mandatory_free_shipping']</td>\n",
       "      <td>fulfillment</td>\n",
       "      <td>0</td>\n",
       "      <td>NaN</td>\n",
       "      <td>MLA5726</td>\n",
       "      <td>Electrodomésticos y Aires Ac.</td>\n",
       "      <td>NaN</td>\n",
       "      <td>Otros Accesorios</td>\n",
       "      <td>['Electrodomésticos y Aires Ac.', 'Pequeños El...</td>\n",
       "    </tr>\n",
       "    <tr>\n",
       "      <th>2</th>\n",
       "      <td>NaN</td>\n",
       "      <td>NaN</td>\n",
       "      <td>MLA909338268</td>\n",
       "      <td>MLA</td>\n",
       "      <td>Honda Civic 1.8 Exs At 140cv - 127218 - C(p)</td>\n",
       "      <td>1480000.0</td>\n",
       "      <td>ARS</td>\n",
       "      <td>1</td>\n",
       "      <td>0</td>\n",
       "      <td>classified</td>\n",
       "      <td>gold_premium</td>\n",
       "      <td>used</td>\n",
       "      <td>1</td>\n",
       "      <td>MLA1744</td>\n",
       "      <td>0</td>\n",
       "      <td>MLA8713970</td>\n",
       "      <td>['good_quality_thumbnail', 'good_quality_pictu...</td>\n",
       "      <td>0</td>\n",
       "      <td>439841655</td>\n",
       "      <td>1</td>\n",
       "      <td>0</td>\n",
       "      <td>['car_dealer', 'user_info_verified', 'messages...</td>\n",
       "      <td>150.0</td>\n",
       "      <td>72.0</td>\n",
       "      <td>historic</td>\n",
       "      <td>0.02</td>\n",
       "      <td>0.93</td>\n",
       "      <td>0.05</td>\n",
       "      <td>78.0</td>\n",
       "      <td>NaN</td>\n",
       "      <td>0.0000</td>\n",
       "      <td>0.0000</td>\n",
       "      <td>0.0</td>\n",
       "      <td>365 days</td>\n",
       "      <td>365 days</td>\n",
       "      <td>78.0</td>\n",
       "      <td>0.0000</td>\n",
       "      <td>0.0</td>\n",
       "      <td>365 days</td>\n",
       "      <td>[{'id': '2', 'type': 'standard', 'conditions':...</td>\n",
       "      <td>Capital Federal</td>\n",
       "      <td>0</td>\n",
       "      <td>not_specified</td>\n",
       "      <td>[]</td>\n",
       "      <td>not_specified</td>\n",
       "      <td>0</td>\n",
       "      <td>NaN</td>\n",
       "      <td>MLA1743</td>\n",
       "      <td>Autos, Motos y Otros</td>\n",
       "      <td>NaN</td>\n",
       "      <td>Autos y Camionetas</td>\n",
       "      <td>['Autos, Motos y Otros', 0                    ...</td>\n",
       "    </tr>\n",
       "    <tr>\n",
       "      <th>3</th>\n",
       "      <td>12.0</td>\n",
       "      <td>70.17</td>\n",
       "      <td>MLA750172551</td>\n",
       "      <td>MLA</td>\n",
       "      <td>Radio Yongnuo Rf-603 Ver Ii / Nikon O Canon / ...</td>\n",
       "      <td>6688.0</td>\n",
       "      <td>ARS</td>\n",
       "      <td>1</td>\n",
       "      <td>100</td>\n",
       "      <td>buy_it_now</td>\n",
       "      <td>gold_special</td>\n",
       "      <td>new</td>\n",
       "      <td>1</td>\n",
       "      <td>MLA411998</td>\n",
       "      <td>0</td>\n",
       "      <td>NaN</td>\n",
       "      <td>['good_quality_picture', 'good_quality_thumbna...</td>\n",
       "      <td>0</td>\n",
       "      <td>141498690</td>\n",
       "      <td>0</td>\n",
       "      <td>0</td>\n",
       "      <td>['normal', 'user_info_verified', 'credits_prio...</td>\n",
       "      <td>14212.0</td>\n",
       "      <td>786.0</td>\n",
       "      <td>historic</td>\n",
       "      <td>0.00</td>\n",
       "      <td>1.00</td>\n",
       "      <td>0.00</td>\n",
       "      <td>13426.0</td>\n",
       "      <td>platinum</td>\n",
       "      <td>0.0057</td>\n",
       "      <td>0.0102</td>\n",
       "      <td>23.0</td>\n",
       "      <td>60 days</td>\n",
       "      <td>60 days</td>\n",
       "      <td>2325.0</td>\n",
       "      <td>0.0000</td>\n",
       "      <td>0.0</td>\n",
       "      <td>60 days</td>\n",
       "      <td>[{'id': '1', 'type': 'standard', 'conditions':...</td>\n",
       "      <td>Capital Federal</td>\n",
       "      <td>1</td>\n",
       "      <td>me2</td>\n",
       "      <td>['fulfillment', 'self_service_out', 'mandatory...</td>\n",
       "      <td>fulfillment</td>\n",
       "      <td>0</td>\n",
       "      <td>NaN</td>\n",
       "      <td>MLA1039</td>\n",
       "      <td>Cámaras y Accesorios</td>\n",
       "      <td>NaN</td>\n",
       "      <td>Disparadores</td>\n",
       "      <td>['Cámaras y Accesorios', 'Accesorios para Cáma...</td>\n",
       "    </tr>\n",
       "    <tr>\n",
       "      <th>4</th>\n",
       "      <td>NaN</td>\n",
       "      <td>NaN</td>\n",
       "      <td>MLA853999531</td>\n",
       "      <td>MLA</td>\n",
       "      <td>1, 2 Y 3 Ambientes Con Cocheras Opcionales</td>\n",
       "      <td>110000.0</td>\n",
       "      <td>USD</td>\n",
       "      <td>1</td>\n",
       "      <td>0</td>\n",
       "      <td>classified</td>\n",
       "      <td>gold</td>\n",
       "      <td>new</td>\n",
       "      <td>0</td>\n",
       "      <td>MLA401806</td>\n",
       "      <td>0</td>\n",
       "      <td>NaN</td>\n",
       "      <td>['good_quality_picture']</td>\n",
       "      <td>0</td>\n",
       "      <td>102898425</td>\n",
       "      <td>0</td>\n",
       "      <td>1</td>\n",
       "      <td>['real_estate_agency', 'user_info_verified', '...</td>\n",
       "      <td>0.0</td>\n",
       "      <td>0.0</td>\n",
       "      <td>historic</td>\n",
       "      <td>0.00</td>\n",
       "      <td>0.00</td>\n",
       "      <td>0.00</td>\n",
       "      <td>0.0</td>\n",
       "      <td>NaN</td>\n",
       "      <td>0.0000</td>\n",
       "      <td>0.0000</td>\n",
       "      <td>0.0</td>\n",
       "      <td>365 days</td>\n",
       "      <td>365 days</td>\n",
       "      <td>0.0</td>\n",
       "      <td>0.0000</td>\n",
       "      <td>0.0</td>\n",
       "      <td>365 days</td>\n",
       "      <td>[{'id': 'ea8dcebd-edbd-4d6d-a0b9-47ca0be38a3b'...</td>\n",
       "      <td>Capital Federal</td>\n",
       "      <td>0</td>\n",
       "      <td>not_specified</td>\n",
       "      <td>[]</td>\n",
       "      <td>not_specified</td>\n",
       "      <td>0</td>\n",
       "      <td>NaN</td>\n",
       "      <td>MLA1459</td>\n",
       "      <td>Inmuebles</td>\n",
       "      <td>NaN</td>\n",
       "      <td>Emprendimientos</td>\n",
       "      <td>['Inmuebles', 'Departamentos', 'Venta', 0     ...</td>\n",
       "    </tr>\n",
       "  </tbody>\n",
       "</table>\n",
       "</div>"
      ],
      "text/plain": [
       "   installments.quantity  installments.rate            id site_id  \\\n",
       "0                   12.0              70.17  MLA896914637     MLA   \n",
       "1                   12.0              70.17  MLA689849716     MLA   \n",
       "2                    NaN                NaN  MLA909338268     MLA   \n",
       "3                   12.0              70.17  MLA750172551     MLA   \n",
       "4                    NaN                NaN  MLA853999531     MLA   \n",
       "\n",
       "                                               title      price currency_id  \\\n",
       "0   Magnetron Para Microondas Modelo 2m219g 2m 219 G     1850.0         ARS   \n",
       "1  Motor Y Pedal P/máquinas De Coser Familiar Sin...     4890.0         ARS   \n",
       "2       Honda Civic 1.8 Exs At 140cv - 127218 - C(p)  1480000.0         ARS   \n",
       "3  Radio Yongnuo Rf-603 Ver Ii / Nikon O Canon / ...     6688.0         ARS   \n",
       "4         1, 2 Y 3 Ambientes Con Cocheras Opcionales   110000.0         USD   \n",
       "\n",
       "   available_quantity  sold_quantity buying_mode listing_type_id condition  \\\n",
       "0                   1             50  buy_it_now    gold_special       new   \n",
       "1                   1            250  buy_it_now    gold_special       new   \n",
       "2                   1              0  classified    gold_premium      used   \n",
       "3                   1            100  buy_it_now    gold_special       new   \n",
       "4                   1              0  classified            gold       new   \n",
       "\n",
       "   accepts_mercadopago category_id  is_official_store catalog_product_id  \\\n",
       "0                    1   MLA455062                  0                NaN   \n",
       "1                    1   MLA116430                  0                NaN   \n",
       "2                    1     MLA1744                  0         MLA8713970   \n",
       "3                    1   MLA411998                  0                NaN   \n",
       "4                    0   MLA401806                  0                NaN   \n",
       "\n",
       "                                                tags  catalog_listing  \\\n",
       "0  ['brand_verified', 'good_quality_picture', 'go...                0   \n",
       "1  ['good_quality_thumbnail', 'loyalty_discount_e...                0   \n",
       "2  ['good_quality_thumbnail', 'good_quality_pictu...                0   \n",
       "3  ['good_quality_picture', 'good_quality_thumbna...                0   \n",
       "4                           ['good_quality_picture']                0   \n",
       "\n",
       "   seller.id  seller.car_dealer  seller.real_estate_agency  \\\n",
       "0  169949346                  0                          0   \n",
       "1   93137649                  0                          0   \n",
       "2  439841655                  1                          0   \n",
       "3  141498690                  0                          0   \n",
       "4  102898425                  0                          1   \n",
       "\n",
       "                                         seller.tags  \\\n",
       "0  ['normal', 'user_info_verified', 'credits_prio...   \n",
       "1  ['normal', 'user_info_verified', 'credits_prio...   \n",
       "2  ['car_dealer', 'user_info_verified', 'messages...   \n",
       "3  ['normal', 'user_info_verified', 'credits_prio...   \n",
       "4  ['real_estate_agency', 'user_info_verified', '...   \n",
       "\n",
       "   seller.seller_reputation.transactions.total  \\\n",
       "0                                      22721.0   \n",
       "1                                       4037.0   \n",
       "2                                        150.0   \n",
       "3                                      14212.0   \n",
       "4                                          0.0   \n",
       "\n",
       "   seller.seller_reputation.transactions.canceled  \\\n",
       "0                                           906.0   \n",
       "1                                           175.0   \n",
       "2                                            72.0   \n",
       "3                                           786.0   \n",
       "4                                             0.0   \n",
       "\n",
       "  seller.seller_reputation.transactions.period  \\\n",
       "0                                     historic   \n",
       "1                                     historic   \n",
       "2                                     historic   \n",
       "3                                     historic   \n",
       "4                                     historic   \n",
       "\n",
       "   seller.seller_reputation.transactions.ratings.negative  \\\n",
       "0                                               0.01        \n",
       "1                                               0.00        \n",
       "2                                               0.02        \n",
       "3                                               0.00        \n",
       "4                                               0.00        \n",
       "\n",
       "   seller.seller_reputation.transactions.ratings.positive  \\\n",
       "0                                               0.98        \n",
       "1                                               1.00        \n",
       "2                                               0.93        \n",
       "3                                               1.00        \n",
       "4                                               0.00        \n",
       "\n",
       "   seller.seller_reputation.transactions.ratings.neutral  \\\n",
       "0                                               0.01       \n",
       "1                                               0.00       \n",
       "2                                               0.05       \n",
       "3                                               0.00       \n",
       "4                                               0.00       \n",
       "\n",
       "   seller.seller_reputation.transactions.completed  \\\n",
       "0                                          21815.0   \n",
       "1                                           3862.0   \n",
       "2                                             78.0   \n",
       "3                                          13426.0   \n",
       "4                                              0.0   \n",
       "\n",
       "  seller.seller_reputation.power_seller_status  \\\n",
       "0                                     platinum   \n",
       "1                                     platinum   \n",
       "2                                          NaN   \n",
       "3                                     platinum   \n",
       "4                                          NaN   \n",
       "\n",
       "   seller.seller_reputation.metrics.claims.rate  \\\n",
       "0                                        0.0053   \n",
       "1                                        0.0000   \n",
       "2                                        0.0000   \n",
       "3                                        0.0057   \n",
       "4                                        0.0000   \n",
       "\n",
       "   seller.seller_reputation.metrics.delayed_handling_time.rate  \\\n",
       "0                                             0.0011             \n",
       "1                                             0.0221             \n",
       "2                                             0.0000             \n",
       "3                                             0.0102             \n",
       "4                                             0.0000             \n",
       "\n",
       "   seller.seller_reputation.metrics.delayed_handling_time.value  \\\n",
       "0                                                4.0              \n",
       "1                                               17.0              \n",
       "2                                                0.0              \n",
       "3                                               23.0              \n",
       "4                                                0.0              \n",
       "\n",
       "  seller.seller_reputation.metrics.delayed_handling_time.period  \\\n",
       "0                                            60 days              \n",
       "1                                            60 days              \n",
       "2                                           365 days              \n",
       "3                                            60 days              \n",
       "4                                           365 days              \n",
       "\n",
       "  seller.seller_reputation.metrics.sales.period  \\\n",
       "0                                       60 days   \n",
       "1                                       60 days   \n",
       "2                                      365 days   \n",
       "3                                       60 days   \n",
       "4                                      365 days   \n",
       "\n",
       "   seller.seller_reputation.metrics.sales.completed  \\\n",
       "0                                            3587.0   \n",
       "1                                             758.0   \n",
       "2                                              78.0   \n",
       "3                                            2325.0   \n",
       "4                                               0.0   \n",
       "\n",
       "   seller.seller_reputation.metrics.cancellations.rate  \\\n",
       "0                                             0.0029     \n",
       "1                                             0.0000     \n",
       "2                                             0.0000     \n",
       "3                                             0.0000     \n",
       "4                                             0.0000     \n",
       "\n",
       "   seller.seller_reputation.metrics.cancellations.value  \\\n",
       "0                                               11.0      \n",
       "1                                                0.0      \n",
       "2                                                0.0      \n",
       "3                                                0.0      \n",
       "4                                                0.0      \n",
       "\n",
       "  seller.seller_reputation.metrics.cancellations.period  \\\n",
       "0                                            60 days      \n",
       "1                                            60 days      \n",
       "2                                           365 days      \n",
       "3                                            60 days      \n",
       "4                                           365 days      \n",
       "\n",
       "                                       prices.prices address.state_name  \\\n",
       "0  [{'id': '2', 'type': 'standard', 'conditions':...       Buenos Aires   \n",
       "1  [{'id': '3', 'type': 'standard', 'conditions':...       Buenos Aires   \n",
       "2  [{'id': '2', 'type': 'standard', 'conditions':...    Capital Federal   \n",
       "3  [{'id': '1', 'type': 'standard', 'conditions':...    Capital Federal   \n",
       "4  [{'id': 'ea8dcebd-edbd-4d6d-a0b9-47ca0be38a3b'...    Capital Federal   \n",
       "\n",
       "   shipping.free_shipping  shipping.mode  \\\n",
       "0                       0            me2   \n",
       "1                       1            me2   \n",
       "2                       0  not_specified   \n",
       "3                       1            me2   \n",
       "4                       0  not_specified   \n",
       "\n",
       "                                       shipping.tags shipping.logistic_type  \\\n",
       "0                                                 []          cross_docking   \n",
       "1         ['fulfillment', 'mandatory_free_shipping']            fulfillment   \n",
       "2                                                 []          not_specified   \n",
       "3  ['fulfillment', 'self_service_out', 'mandatory...            fulfillment   \n",
       "4                                                 []          not_specified   \n",
       "\n",
       "   shipping.store_pick_up seller.seller_reputation.real_level  \\\n",
       "0                       0                                 NaN   \n",
       "1                       0                                 NaN   \n",
       "2                       0                                 NaN   \n",
       "3                       0                                 NaN   \n",
       "4                       0                                 NaN   \n",
       "\n",
       "  root_category_id             root_category_name  discount  \\\n",
       "0          MLA5726  Electrodomésticos y Aires Ac.       NaN   \n",
       "1          MLA5726  Electrodomésticos y Aires Ac.       NaN   \n",
       "2          MLA1743           Autos, Motos y Otros       NaN   \n",
       "3          MLA1039           Cámaras y Accesorios       NaN   \n",
       "4          MLA1459                      Inmuebles       NaN   \n",
       "\n",
       "        category_name                               categories_from_root  \n",
       "0         Magnetrones  ['Electrodomésticos y Aires Ac.', 'Cocción', '...  \n",
       "1    Otros Accesorios  ['Electrodomésticos y Aires Ac.', 'Pequeños El...  \n",
       "2  Autos y Camionetas  ['Autos, Motos y Otros', 0                    ...  \n",
       "3        Disparadores  ['Cámaras y Accesorios', 'Accesorios para Cáma...  \n",
       "4     Emprendimientos  ['Inmuebles', 'Departamentos', 'Venta', 0     ...  "
      ]
     },
     "execution_count": 6,
     "metadata": {},
     "output_type": "execute_result"
    }
   ],
   "source": [
    "X_train = pd.read_csv(data_path + 'train.csv', sep='\\t', encoding='utf-8', )  \n",
    "X_train.head()"
   ]
  },
  {
   "cell_type": "code",
   "execution_count": 7,
   "metadata": {},
   "outputs": [
    {
     "data": {
      "text/plain": [
       "(23194, 52)"
      ]
     },
     "execution_count": 7,
     "metadata": {},
     "output_type": "execute_result"
    }
   ],
   "source": [
    "X_train.shape"
   ]
  },
  {
   "cell_type": "code",
   "execution_count": 8,
   "metadata": {
    "scrolled": true
   },
   "outputs": [
    {
     "data": {
      "text/plain": [
       "count    2818.000000\n",
       "mean        0.180847\n",
       "std         0.119029\n",
       "min         0.000000\n",
       "25%         0.080000\n",
       "50%         0.158469\n",
       "75%         0.259146\n",
       "max         0.720000\n",
       "Name: discount, dtype: float64"
      ]
     },
     "execution_count": 8,
     "metadata": {},
     "output_type": "execute_result"
    }
   ],
   "source": [
    "X_train.discount.describe()"
   ]
  },
  {
   "cell_type": "code",
   "execution_count": 11,
   "metadata": {
    "scrolled": false
   },
   "outputs": [
    {
     "data": {
      "text/plain": [
       "count       23009.00\n",
       "mean       126819.38\n",
       "std       1129333.64\n",
       "min             1.00\n",
       "25%           820.00\n",
       "50%          1899.00\n",
       "75%          5149.00\n",
       "max      85518000.00\n",
       "Name: price, dtype: float64"
      ]
     },
     "execution_count": 11,
     "metadata": {},
     "output_type": "execute_result"
    }
   ],
   "source": [
    "X_train.price.describe().round(2)"
   ]
  },
  {
   "cell_type": "code",
   "execution_count": 14,
   "metadata": {
    "scrolled": true
   },
   "outputs": [
    {
     "data": {
      "text/plain": [
       "count    21510.00\n",
       "mean        63.82\n",
       "std         20.14\n",
       "min          0.00\n",
       "25%         70.17\n",
       "50%         70.17\n",
       "75%         70.17\n",
       "max         70.17\n",
       "Name: installments.rate, dtype: float64"
      ]
     },
     "execution_count": 14,
     "metadata": {},
     "output_type": "execute_result"
    }
   ],
   "source": [
    "X_train['installments.rate'].describe().round(2)"
   ]
  },
  {
   "cell_type": "code",
   "execution_count": 17,
   "metadata": {
    "scrolled": true
   },
   "outputs": [
    {
     "ename": "KeyError",
     "evalue": "'installments'",
     "output_type": "error",
     "traceback": [
      "\u001b[1;31m---------------------------------------------------------------------------\u001b[0m",
      "\u001b[1;31mKeyError\u001b[0m                                  Traceback (most recent call last)",
      "\u001b[1;32mc:\\users\\a309549\\appdata\\local\\programs\\python\\python39\\lib\\site-packages\\pandas\\core\\indexes\\base.py\u001b[0m in \u001b[0;36mget_loc\u001b[1;34m(self, key, method, tolerance)\u001b[0m\n\u001b[0;32m   3079\u001b[0m             \u001b[1;32mtry\u001b[0m\u001b[1;33m:\u001b[0m\u001b[1;33m\u001b[0m\u001b[1;33m\u001b[0m\u001b[0m\n\u001b[1;32m-> 3080\u001b[1;33m                 \u001b[1;32mreturn\u001b[0m \u001b[0mself\u001b[0m\u001b[1;33m.\u001b[0m\u001b[0m_engine\u001b[0m\u001b[1;33m.\u001b[0m\u001b[0mget_loc\u001b[0m\u001b[1;33m(\u001b[0m\u001b[0mcasted_key\u001b[0m\u001b[1;33m)\u001b[0m\u001b[1;33m\u001b[0m\u001b[1;33m\u001b[0m\u001b[0m\n\u001b[0m\u001b[0;32m   3081\u001b[0m             \u001b[1;32mexcept\u001b[0m \u001b[0mKeyError\u001b[0m \u001b[1;32mas\u001b[0m \u001b[0merr\u001b[0m\u001b[1;33m:\u001b[0m\u001b[1;33m\u001b[0m\u001b[1;33m\u001b[0m\u001b[0m\n",
      "\u001b[1;32mpandas\\_libs\\index.pyx\u001b[0m in \u001b[0;36mpandas._libs.index.IndexEngine.get_loc\u001b[1;34m()\u001b[0m\n",
      "\u001b[1;32mpandas\\_libs\\index.pyx\u001b[0m in \u001b[0;36mpandas._libs.index.IndexEngine.get_loc\u001b[1;34m()\u001b[0m\n",
      "\u001b[1;32mpandas\\_libs\\hashtable_class_helper.pxi\u001b[0m in \u001b[0;36mpandas._libs.hashtable.PyObjectHashTable.get_item\u001b[1;34m()\u001b[0m\n",
      "\u001b[1;32mpandas\\_libs\\hashtable_class_helper.pxi\u001b[0m in \u001b[0;36mpandas._libs.hashtable.PyObjectHashTable.get_item\u001b[1;34m()\u001b[0m\n",
      "\u001b[1;31mKeyError\u001b[0m: 'installments'",
      "\nThe above exception was the direct cause of the following exception:\n",
      "\u001b[1;31mKeyError\u001b[0m                                  Traceback (most recent call last)",
      "\u001b[1;32m<ipython-input-17-b8dba9cda0b8>\u001b[0m in \u001b[0;36m<module>\u001b[1;34m\u001b[0m\n\u001b[1;32m----> 1\u001b[1;33m \u001b[0mX_train\u001b[0m\u001b[1;33m[\u001b[0m\u001b[1;34m'installments'\u001b[0m\u001b[1;33m]\u001b[0m\u001b[1;33m.\u001b[0m\u001b[0mdescribe\u001b[0m\u001b[1;33m(\u001b[0m\u001b[1;33m)\u001b[0m\u001b[1;33m.\u001b[0m\u001b[0mround\u001b[0m\u001b[1;33m(\u001b[0m\u001b[1;36m2\u001b[0m\u001b[1;33m)\u001b[0m\u001b[1;33m\u001b[0m\u001b[1;33m\u001b[0m\u001b[0m\n\u001b[0m",
      "\u001b[1;32mc:\\users\\a309549\\appdata\\local\\programs\\python\\python39\\lib\\site-packages\\pandas\\core\\frame.py\u001b[0m in \u001b[0;36m__getitem__\u001b[1;34m(self, key)\u001b[0m\n\u001b[0;32m   3022\u001b[0m             \u001b[1;32mif\u001b[0m \u001b[0mself\u001b[0m\u001b[1;33m.\u001b[0m\u001b[0mcolumns\u001b[0m\u001b[1;33m.\u001b[0m\u001b[0mnlevels\u001b[0m \u001b[1;33m>\u001b[0m \u001b[1;36m1\u001b[0m\u001b[1;33m:\u001b[0m\u001b[1;33m\u001b[0m\u001b[1;33m\u001b[0m\u001b[0m\n\u001b[0;32m   3023\u001b[0m                 \u001b[1;32mreturn\u001b[0m \u001b[0mself\u001b[0m\u001b[1;33m.\u001b[0m\u001b[0m_getitem_multilevel\u001b[0m\u001b[1;33m(\u001b[0m\u001b[0mkey\u001b[0m\u001b[1;33m)\u001b[0m\u001b[1;33m\u001b[0m\u001b[1;33m\u001b[0m\u001b[0m\n\u001b[1;32m-> 3024\u001b[1;33m             \u001b[0mindexer\u001b[0m \u001b[1;33m=\u001b[0m \u001b[0mself\u001b[0m\u001b[1;33m.\u001b[0m\u001b[0mcolumns\u001b[0m\u001b[1;33m.\u001b[0m\u001b[0mget_loc\u001b[0m\u001b[1;33m(\u001b[0m\u001b[0mkey\u001b[0m\u001b[1;33m)\u001b[0m\u001b[1;33m\u001b[0m\u001b[1;33m\u001b[0m\u001b[0m\n\u001b[0m\u001b[0;32m   3025\u001b[0m             \u001b[1;32mif\u001b[0m \u001b[0mis_integer\u001b[0m\u001b[1;33m(\u001b[0m\u001b[0mindexer\u001b[0m\u001b[1;33m)\u001b[0m\u001b[1;33m:\u001b[0m\u001b[1;33m\u001b[0m\u001b[1;33m\u001b[0m\u001b[0m\n\u001b[0;32m   3026\u001b[0m                 \u001b[0mindexer\u001b[0m \u001b[1;33m=\u001b[0m \u001b[1;33m[\u001b[0m\u001b[0mindexer\u001b[0m\u001b[1;33m]\u001b[0m\u001b[1;33m\u001b[0m\u001b[1;33m\u001b[0m\u001b[0m\n",
      "\u001b[1;32mc:\\users\\a309549\\appdata\\local\\programs\\python\\python39\\lib\\site-packages\\pandas\\core\\indexes\\base.py\u001b[0m in \u001b[0;36mget_loc\u001b[1;34m(self, key, method, tolerance)\u001b[0m\n\u001b[0;32m   3080\u001b[0m                 \u001b[1;32mreturn\u001b[0m \u001b[0mself\u001b[0m\u001b[1;33m.\u001b[0m\u001b[0m_engine\u001b[0m\u001b[1;33m.\u001b[0m\u001b[0mget_loc\u001b[0m\u001b[1;33m(\u001b[0m\u001b[0mcasted_key\u001b[0m\u001b[1;33m)\u001b[0m\u001b[1;33m\u001b[0m\u001b[1;33m\u001b[0m\u001b[0m\n\u001b[0;32m   3081\u001b[0m             \u001b[1;32mexcept\u001b[0m \u001b[0mKeyError\u001b[0m \u001b[1;32mas\u001b[0m \u001b[0merr\u001b[0m\u001b[1;33m:\u001b[0m\u001b[1;33m\u001b[0m\u001b[1;33m\u001b[0m\u001b[0m\n\u001b[1;32m-> 3082\u001b[1;33m                 \u001b[1;32mraise\u001b[0m \u001b[0mKeyError\u001b[0m\u001b[1;33m(\u001b[0m\u001b[0mkey\u001b[0m\u001b[1;33m)\u001b[0m \u001b[1;32mfrom\u001b[0m \u001b[0merr\u001b[0m\u001b[1;33m\u001b[0m\u001b[1;33m\u001b[0m\u001b[0m\n\u001b[0m\u001b[0;32m   3083\u001b[0m \u001b[1;33m\u001b[0m\u001b[0m\n\u001b[0;32m   3084\u001b[0m         \u001b[1;32mif\u001b[0m \u001b[0mtolerance\u001b[0m \u001b[1;32mis\u001b[0m \u001b[1;32mnot\u001b[0m \u001b[1;32mNone\u001b[0m\u001b[1;33m:\u001b[0m\u001b[1;33m\u001b[0m\u001b[1;33m\u001b[0m\u001b[0m\n",
      "\u001b[1;31mKeyError\u001b[0m: 'installments'"
     ]
    }
   ],
   "source": [
    "X_train['installments'].describe().round(2)"
   ]
  },
  {
   "cell_type": "code",
   "execution_count": null,
   "metadata": {},
   "outputs": [],
   "source": [
    "X_train.dtypes"
   ]
  },
  {
   "cell_type": "code",
   "execution_count": null,
   "metadata": {},
   "outputs": [],
   "source": [
    "aux = X_train.copy()"
   ]
  },
  {
   "cell_type": "markdown",
   "metadata": {},
   "source": [
    "## Target"
   ]
  },
  {
   "cell_type": "code",
   "execution_count": null,
   "metadata": {
    "scrolled": false
   },
   "outputs": [],
   "source": [
    "X_train.sold_quantity.value_counts().sort_index()"
   ]
  },
  {
   "cell_type": "markdown",
   "metadata": {},
   "source": [
    "<p style=\"color:red; font-weight: bold\">Vamos a intentar probar unificar las categorias iniciales, considerando este tipo de decisiones, en caso de quen hagan que el modelo de mejor, deben consultarse siempre con el negocio </p>"
   ]
  },
  {
   "cell_type": "code",
   "execution_count": null,
   "metadata": {},
   "outputs": [],
   "source": [
    "X_train[\"sold_quantity\"] = [x if x >= 5 else 1 for x in X_train[\"sold_quantity\"]]"
   ]
  },
  {
   "cell_type": "code",
   "execution_count": null,
   "metadata": {
    "scrolled": false
   },
   "outputs": [],
   "source": [
    "X_train.sold_quantity.value_counts().sort_index()"
   ]
  },
  {
   "cell_type": "markdown",
   "metadata": {},
   "source": [
    "# y"
   ]
  },
  {
   "cell_type": "code",
   "execution_count": null,
   "metadata": {},
   "outputs": [],
   "source": [
    "y = X_train.sold_quantity"
   ]
  },
  {
   "cell_type": "code",
   "execution_count": null,
   "metadata": {},
   "outputs": [],
   "source": [
    "X_train = X_train.drop(['sold_quantity'], axis= 1)"
   ]
  },
  {
   "cell_type": "markdown",
   "metadata": {},
   "source": [
    "## corrMatrix - post pipeline"
   ]
  },
  {
   "cell_type": "markdown",
   "metadata": {},
   "source": [
    "selected_columns = [\n",
    "    \n",
    "]"
   ]
  },
  {
   "cell_type": "markdown",
   "metadata": {},
   "source": [
    "corrMatrix = df[selected_columns].corr()\n",
    "corrMatrix"
   ]
  },
  {
   "cell_type": "markdown",
   "metadata": {},
   "source": [
    "sn.heatmap(corrMatrix, annot=True)\n",
    "plt.show()"
   ]
  },
  {
   "cell_type": "markdown",
   "metadata": {},
   "source": [
    "## LabelEncoder"
   ]
  },
  {
   "cell_type": "markdown",
   "metadata": {},
   "source": [
    "enc = LabelEncoder()\n",
    "enc.fit(y)\n",
    "y_transformed = enc.transform(y)"
   ]
  },
  {
   "cell_type": "markdown",
   "metadata": {
    "scrolled": true
   },
   "source": [
    "pd.Series(y_transformed).value_counts(normalize=True).sort_index().plot.barh()"
   ]
  },
  {
   "cell_type": "markdown",
   "metadata": {},
   "source": [
    "## SMOTE strategy"
   ]
  },
  {
   "cell_type": "code",
   "execution_count": null,
   "metadata": {},
   "outputs": [],
   "source": [
    "dic = pd.Series(y).value_counts().sort_index().to_dict()\n",
    "dic"
   ]
  },
  {
   "cell_type": "code",
   "execution_count": null,
   "metadata": {},
   "outputs": [],
   "source": [
    "threshold = 3000\n",
    "prop = 1.5"
   ]
  },
  {
   "cell_type": "code",
   "execution_count": null,
   "metadata": {},
   "outputs": [],
   "source": [
    "smote_sampling_strategy = {key: int(value*prop) if value < threshold else value for key, value in dic.items()}\n",
    "smote_sampling_strategy"
   ]
  },
  {
   "cell_type": "markdown",
   "metadata": {},
   "source": [
    "## IDs  + columnas a descartar"
   ]
  },
  {
   "cell_type": "code",
   "execution_count": null,
   "metadata": {},
   "outputs": [],
   "source": [
    "id_cols = [\n",
    "'id',\n",
    "'site_id',\n",
    "'title',\n",
    "'category_id',\n",
    "'seller.id',\n",
    "'catalog_product_id',\n",
    "'root_category_id',\n",
    "'root_category_name',\n",
    "'category_name',\n",
    "]"
   ]
  },
  {
   "cell_type": "code",
   "execution_count": null,
   "metadata": {},
   "outputs": [],
   "source": [
    "columns_discard = [\n",
    "    'tags',\n",
    "    'seller.tags', \n",
    "    'shipping.tags',\n",
    "    'categories_from_root', \n",
    "    'prices.prices'\n",
    "\n",
    "]"
   ]
  },
  {
   "cell_type": "code",
   "execution_count": null,
   "metadata": {},
   "outputs": [],
   "source": [
    "ids_df = X_train[id_cols].copy()\n",
    "X_train = X_train.drop(id_cols + columns_discard, axis= 1)"
   ]
  },
  {
   "cell_type": "markdown",
   "metadata": {},
   "source": [
    "## Columns"
   ]
  },
  {
   "cell_type": "code",
   "execution_count": null,
   "metadata": {},
   "outputs": [],
   "source": [
    "discard_columns = [\n",
    "    'tags', \n",
    "    'categories_from_root',\n",
    "    'shipping.tags',\n",
    "]"
   ]
  },
  {
   "cell_type": "code",
   "execution_count": null,
   "metadata": {},
   "outputs": [],
   "source": [
    "cols_preproc = [x for x in X_train.columns if x not in discard_columns] \n",
    "cols_preproc"
   ]
  },
  {
   "cell_type": "code",
   "execution_count": null,
   "metadata": {},
   "outputs": [],
   "source": [
    "numeric_features = X_train.select_dtypes(include=['int64', 'float64']).columns.to_list()\n",
    "# numeric_features"
   ]
  },
  {
   "cell_type": "code",
   "execution_count": null,
   "metadata": {},
   "outputs": [],
   "source": [
    "categorical_ord_enc = [\n",
    "    'available_quantity',\n",
    "    'installments.quantity',\n",
    "]"
   ]
  },
  {
   "cell_type": "code",
   "execution_count": null,
   "metadata": {
    "scrolled": true
   },
   "outputs": [],
   "source": [
    "categorical_features = X_train.select_dtypes(include=['object']).columns.to_list() \n",
    "categorical_features"
   ]
  },
  {
   "cell_type": "code",
   "execution_count": null,
   "metadata": {},
   "outputs": [],
   "source": []
  },
  {
   "cell_type": "markdown",
   "metadata": {},
   "source": [
    "## NA"
   ]
  },
  {
   "cell_type": "markdown",
   "metadata": {},
   "source": [
    "Nota: para las categóricas habría que consultar con expertos del dominio en cómo completar"
   ]
  },
  {
   "cell_type": "code",
   "execution_count": null,
   "metadata": {},
   "outputs": [],
   "source": [
    "fillNA = {\n",
    "    'cat': {},\n",
    "    'num': {},\n",
    "}\n",
    "for x in numeric_features:\n",
    "    fillNA['num'][x] = 0 #'__NA__'\n",
    "    \n",
    "for x in numeric_features:\n",
    "    fillNA['cat'][x] = '__NA__'"
   ]
  },
  {
   "cell_type": "code",
   "execution_count": null,
   "metadata": {},
   "outputs": [],
   "source": [
    "fillNA"
   ]
  },
  {
   "cell_type": "markdown",
   "metadata": {},
   "source": [
    "## PIPELINES"
   ]
  },
  {
   "cell_type": "code",
   "execution_count": null,
   "metadata": {},
   "outputs": [],
   "source": [
    "numeric_transformer = Pipeline(steps=[\n",
    "    ('extractor',ColumnSelector(numeric_features)),\n",
    "    ('imputer',FillNaDict(col_fill_dict = fillNA['num'])),\n",
    "    ('binarizer',DFKBinsOrdinalDiscretizer(n_bins=5,cols=numeric_features))\n",
    "    ])\n",
    "\n",
    "categorical_transformer = Pipeline(steps=[\n",
    "    ('extractor',ColumnSelector(categorical_features)),\n",
    "    ('imputer', FillNaDict(col_fill_dict = fillNA['cat'])),\n",
    "    ('dummies', DummyTransformer(categorical_features))\n",
    "    ])\n",
    "\n",
    "sel_ini_transformer = Pipeline(steps=[\n",
    "    ('extractor',ColumnSelector(cols_preproc))\n",
    "])\n",
    "\n",
    "# DFFeatureUnion\n",
    "feat_un = DFFeatureUnion([\n",
    "            ('categoricals',categorical_transformer),\n",
    "            ('numeric',numeric_transformer),\n",
    "            ])\n",
    "\n",
    "# pipeline_base\n",
    "pipeline_base = Pipeline(steps=[('seleccionFeatsIni',sel_ini_transformer),\n",
    "                                ('final_features',feat_un)])\n",
    "pipeline_base"
   ]
  },
  {
   "cell_type": "markdown",
   "metadata": {},
   "source": [
    "## Pipeline con MinMaxScaler para vars numéricas"
   ]
  },
  {
   "cell_type": "code",
   "execution_count": null,
   "metadata": {},
   "outputs": [],
   "source": [
    "numeric_transformer_w_scaler = Pipeline(steps=[\n",
    "    ('extractor',ColumnSelector(numeric_features)),\n",
    "    ('imputer',FillNaDict(col_fill_dict= fillNA['num'])),\n",
    "    ('binarizer',MinMaxScalerQ(X_train, columns=numeric_features, q_min = 0.25, q_max = 0.75))\n",
    "    ])\n",
    "\n",
    "# DFFeatureUnion\n",
    "feat_un2 = DFFeatureUnion([\n",
    "            ('categoricals',categorical_transformer),\n",
    "            ('numeric',numeric_transformer_w_scaler),\n",
    "            ])\n",
    "\n",
    "# pipeline_w_num_scaler\n",
    "pipeline_w_num_scaler = Pipeline(steps=[('seleccionFeatsIni',sel_ini_transformer),\n",
    "                                ('final_features',feat_un2)])"
   ]
  },
  {
   "cell_type": "code",
   "execution_count": null,
   "metadata": {},
   "outputs": [],
   "source": [
    "pipeline_w_num_scaler.steps[1][1].transformer_list[1] "
   ]
  },
  {
   "cell_type": "code",
   "execution_count": null,
   "metadata": {},
   "outputs": [],
   "source": []
  },
  {
   "cell_type": "code",
   "execution_count": null,
   "metadata": {},
   "outputs": [],
   "source": []
  },
  {
   "cell_type": "markdown",
   "metadata": {},
   "source": [
    "## MODELS"
   ]
  },
  {
   "cell_type": "code",
   "execution_count": null,
   "metadata": {},
   "outputs": [],
   "source": [
    "models = {         \n",
    "          'xgb':XGBClassifier(),\n",
    "          \n",
    "          'lr': LogisticRegression(),\n",
    "          \n",
    "          'mlp':MLPClassifier(),\n",
    "}"
   ]
  },
  {
   "cell_type": "code",
   "execution_count": null,
   "metadata": {},
   "outputs": [],
   "source": [
    "hparams = {'xgb':{'max_depth':[3,5,7,8,10], 'gamma': [1,2,5,10,15,20], 'n_jobs':[7], 'learning_rate': [0.001, 0.01, 0.05, 0.1], 'n_estimators':[100, 150, 200, 300, 500],\n",
    "                 'colsample_bytree': [0.2, 0.3, 0.5], 'seed': [seed]},\n",
    "     \n",
    "          'lr': {'multi_class': ['multinomial', 'ovr'], 'class_weight':['balanced'], 'C': [0.01, 0.1, 1, 10, 20], 'solver': ['saga', 'newton-cg'], 'random_state':[seed]},\n",
    "    \n",
    "          \n",
    "          'mlp':{'solver':[\"adam\", 'sgd'], 'hidden_layer_sizes' : [(64, 64, 64), (64, 64, 64, 64), (64, 64, 64, 64, 64)], 'activation' : ['relu'], 'learning_rate_init' : [0.001, 0.01, 0.05], 'alpha' : [0.0001, 0.05, 0.001],\n",
    "                 'max_iter':[1800], 'batch_size':[64, 256], 'learning_rate': ['constant','adaptive'], 'random_state':[seed]},         \n",
    "     \n",
    "}"
   ]
  },
  {
   "cell_type": "code",
   "execution_count": null,
   "metadata": {},
   "outputs": [],
   "source": [
    "diccionario_entrenamiento = {\n",
    "                            'xgb': {},\n",
    "                            'lr': {},\n",
    "                            'mlp': {},\n",
    "}\n",
    "                                                         \n",
    "for valor in diccionario_entrenamiento.keys():\n",
    "    diccionario_entrenamiento[valor]['model'] = models[valor]\n",
    "    diccionario_entrenamiento[valor]['params'] = hparams[valor]\n"
   ]
  },
  {
   "cell_type": "code",
   "execution_count": null,
   "metadata": {},
   "outputs": [],
   "source": []
  },
  {
   "cell_type": "markdown",
   "metadata": {},
   "source": [
    "## TRAINING"
   ]
  },
  {
   "cell_type": "code",
   "execution_count": null,
   "metadata": {},
   "outputs": [],
   "source": [
    "X_train = X_train.reset_index(drop=True)"
   ]
  },
  {
   "cell_type": "code",
   "execution_count": null,
   "metadata": {},
   "outputs": [],
   "source": [
    "cv_n = 5 # para aprovechar toda la data ... son muy pocos registros!"
   ]
  },
  {
   "cell_type": "code",
   "execution_count": null,
   "metadata": {},
   "outputs": [],
   "source": [
    "models_path = data_path + \"/models/\"\n"
   ]
  },
  {
   "cell_type": "code",
   "execution_count": null,
   "metadata": {},
   "outputs": [],
   "source": [
    "pipeline = pipeline_base"
   ]
  },
  {
   "cell_type": "code",
   "execution_count": null,
   "metadata": {},
   "outputs": [],
   "source": [
    "Y_train_copy = y.copy()"
   ]
  },
  {
   "cell_type": "code",
   "execution_count": null,
   "metadata": {},
   "outputs": [],
   "source": [
    "X_train_copy = X_train.copy()\n",
    "X_train_copy = pipeline.fit_transform(X_train_copy) \n",
    "X_train_copy.reset_index(drop=True, inplace= True)\n"
   ]
  },
  {
   "cell_type": "code",
   "execution_count": null,
   "metadata": {},
   "outputs": [],
   "source": [
    "path_pipeline = data_path + 'pipeline.joblib'\n",
    "joblib.dump(pipeline, path_pipeline)\n"
   ]
  },
  {
   "cell_type": "code",
   "execution_count": null,
   "metadata": {
    "scrolled": false
   },
   "outputs": [],
   "source": [
    "X_train_copy.head()"
   ]
  },
  {
   "cell_type": "code",
   "execution_count": null,
   "metadata": {
    "scrolled": true
   },
   "outputs": [],
   "source": [
    "X_train_copy.discount.value_counts()"
   ]
  },
  {
   "cell_type": "code",
   "execution_count": null,
   "metadata": {
    "scrolled": true
   },
   "outputs": [],
   "source": [
    "X_train_copy['installments.quantity'].describe()"
   ]
  },
  {
   "cell_type": "code",
   "execution_count": null,
   "metadata": {
    "scrolled": false
   },
   "outputs": [],
   "source": [
    "X_train_copy['installments.rate'].describe()"
   ]
  },
  {
   "cell_type": "code",
   "execution_count": null,
   "metadata": {
    "scrolled": false
   },
   "outputs": [],
   "source": [
    "X_train_copy['price'].value_counts()"
   ]
  },
  {
   "cell_type": "markdown",
   "metadata": {},
   "source": [
    "## smote"
   ]
  },
  {
   "cell_type": "code",
   "execution_count": null,
   "metadata": {},
   "outputs": [],
   "source": [
    "oversample = SMOTE(n_jobs=7,\n",
    "                  sampling_strategy= smote_sampling_strategy)\n",
    "X_train_copy, Y_train_copy = oversample.fit_resample(X_train_copy, Y_train_copy)\n"
   ]
  },
  {
   "cell_type": "markdown",
   "metadata": {},
   "source": [
    "Instancias por clase post resampling:"
   ]
  },
  {
   "cell_type": "code",
   "execution_count": null,
   "metadata": {},
   "outputs": [],
   "source": [
    "Y_train_copy.value_counts().sort_index()"
   ]
  },
  {
   "cell_type": "code",
   "execution_count": null,
   "metadata": {},
   "outputs": [],
   "source": [
    "columns_names = X_train_copy.columns\n",
    "columns_names"
   ]
  },
  {
   "cell_type": "code",
   "execution_count": null,
   "metadata": {},
   "outputs": [],
   "source": [
    "path_columns = data_path + 'cols.joblib'\n",
    "joblib.dump(columns_names, path_columns)"
   ]
  },
  {
   "cell_type": "code",
   "execution_count": null,
   "metadata": {},
   "outputs": [],
   "source": [
    "models_path_template = models_path + '{}.joblib'"
   ]
  },
  {
   "cell_type": "code",
   "execution_count": null,
   "metadata": {},
   "outputs": [],
   "source": [
    "basic_opt_params = {'scoring': 'f1_macro', 'cv': cv_n, 'n_jobs': 7}"
   ]
  },
  {
   "cell_type": "code",
   "execution_count": null,
   "metadata": {},
   "outputs": [],
   "source": [
    "for valor in diccionario_entrenamiento.keys():\n",
    "    model = diccionario_entrenamiento[valor]['model']\n",
    "    params = diccionario_entrenamiento[valor]['params']\n",
    "    \n",
    "    opt = GridSearchCV(estimator=model, param_grid=params, )\n",
    "    opt.set_params(**basic_opt_params)\n",
    "    fit = opt.fit(X_train_copy[columns_names], Y_train_copy)\n",
    "    \n",
    "    # persisto el best estimator para cada uno\n",
    "    model_name = models_path_template.format(valor)\n",
    "    if valor == 'xgb':\n",
    "        fit.best_estimator_.save_model(model_name)\n",
    "    else:\n",
    "        joblib.dump(fit.best_estimator_, model_name)"
   ]
  },
  {
   "cell_type": "code",
   "execution_count": null,
   "metadata": {},
   "outputs": [],
   "source": []
  }
 ],
 "metadata": {
  "kernelspec": {
   "display_name": "Python 3",
   "language": "python",
   "name": "python3"
  },
  "language_info": {
   "codemirror_mode": {
    "name": "ipython",
    "version": 3
   },
   "file_extension": ".py",
   "mimetype": "text/x-python",
   "name": "python",
   "nbconvert_exporter": "python",
   "pygments_lexer": "ipython3",
   "version": "3.9.2"
  }
 },
 "nbformat": 4,
 "nbformat_minor": 4
}
