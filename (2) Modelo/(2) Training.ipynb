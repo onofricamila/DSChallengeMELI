{
 "cells": [
  {
   "cell_type": "markdown",
   "metadata": {},
   "source": [
    "Todo: \n",
    "\n",
    "    - sacar las bool de las numéricas,\n",
    "    - ver que le esta haciendo a las ord\n",
    "    - DONE ver si tengo que usar el label encoder\n",
    "    - ver bien los transformers (aplicar diferentes a var numericas?)\n",
    "    - reentrenar"
   ]
  },
  {
   "cell_type": "code",
   "execution_count": 1,
   "metadata": {},
   "outputs": [],
   "source": [
    "import os\n",
    "os.chdir(\"..\") "
   ]
  },
  {
   "cell_type": "code",
   "execution_count": 2,
   "metadata": {},
   "outputs": [],
   "source": [
    "import json\n",
    "from urllib.request import urlopen\n",
    "import urllib\n",
    "import pandas as pd\n",
    "import matplotlib.pyplot as plt\n",
    "import seaborn as sn\n",
    "from sklearn.preprocessing import LabelEncoder\n",
    "from sklearn.model_selection import GridSearchCV\n",
    "from sklearn.linear_model import LogisticRegression \n",
    "from xgboost import XGBClassifier\n",
    "from sklearn.neural_network import MLPClassifier\n",
    "from imblearn.over_sampling import SMOTE \n",
    "from sklearn.pipeline import Pipeline\n",
    "from sklearn.pipeline import make_pipeline, make_union\n",
    "from utils.Transformers2 import FillNaDict, DFFeatureUnion, ColumnSelector, DFStandardScaler, DummyTransformer, DFKBinsOrdinalDiscretizer, DFOrdinalEncoder\n",
    "import numpy as np\n",
    "from utils.MinMaxScalerOutliers import MinMaxScalerQ\n",
    "from sklearn.model_selection import GridSearchCV\n",
    "import joblib\n",
    "from tqdm import tqdm\n"
   ]
  },
  {
   "cell_type": "code",
   "execution_count": 3,
   "metadata": {},
   "outputs": [
    {
     "data": {
      "text/html": [
       "<style>.container { width:100% !important; }</style>"
      ],
      "text/plain": [
       "<IPython.core.display.HTML object>"
      ]
     },
     "metadata": {},
     "output_type": "display_data"
    },
    {
     "data": {
      "text/html": [
       "<style>.prompt { font-size: 08px !important; }</style>"
      ],
      "text/plain": [
       "<IPython.core.display.HTML object>"
      ]
     },
     "metadata": {},
     "output_type": "display_data"
    }
   ],
   "source": [
    "from IPython.core.display import display, HTML\n",
    "display(HTML(\"<style>.container { width:100% !important; }</style>\"))\n",
    "display(HTML(\"<style>.prompt { font-size: 08px !important; }</style>\"))\n",
    "pd.options.display.max_columns = None\n",
    "pd.options.display.max_rows = 100"
   ]
  },
  {
   "cell_type": "code",
   "execution_count": 4,
   "metadata": {},
   "outputs": [],
   "source": [
    "seed = 1111"
   ]
  },
  {
   "cell_type": "code",
   "execution_count": 5,
   "metadata": {},
   "outputs": [],
   "source": [
    "data_path = \"data/\""
   ]
  },
  {
   "cell_type": "code",
   "execution_count": 6,
   "metadata": {},
   "outputs": [
    {
     "data": {
      "text/html": [
       "<div>\n",
       "<style scoped>\n",
       "    .dataframe tbody tr th:only-of-type {\n",
       "        vertical-align: middle;\n",
       "    }\n",
       "\n",
       "    .dataframe tbody tr th {\n",
       "        vertical-align: top;\n",
       "    }\n",
       "\n",
       "    .dataframe thead th {\n",
       "        text-align: right;\n",
       "    }\n",
       "</style>\n",
       "<table border=\"1\" class=\"dataframe\">\n",
       "  <thead>\n",
       "    <tr style=\"text-align: right;\">\n",
       "      <th></th>\n",
       "      <th>installments.quantity</th>\n",
       "      <th>installments.rate</th>\n",
       "      <th>id</th>\n",
       "      <th>site_id</th>\n",
       "      <th>title</th>\n",
       "      <th>price</th>\n",
       "      <th>currency_id</th>\n",
       "      <th>available_quantity</th>\n",
       "      <th>sold_quantity</th>\n",
       "      <th>buying_mode</th>\n",
       "      <th>listing_type_id</th>\n",
       "      <th>condition</th>\n",
       "      <th>accepts_mercadopago</th>\n",
       "      <th>category_id</th>\n",
       "      <th>is_official_store</th>\n",
       "      <th>catalog_product_id</th>\n",
       "      <th>catalog_listing</th>\n",
       "      <th>seller.id</th>\n",
       "      <th>seller.car_dealer</th>\n",
       "      <th>seller.real_estate_agency</th>\n",
       "      <th>seller.seller_reputation.transactions.total</th>\n",
       "      <th>seller.seller_reputation.transactions.canceled</th>\n",
       "      <th>seller.seller_reputation.transactions.period</th>\n",
       "      <th>seller.seller_reputation.transactions.ratings.negative</th>\n",
       "      <th>seller.seller_reputation.transactions.ratings.positive</th>\n",
       "      <th>seller.seller_reputation.transactions.ratings.neutral</th>\n",
       "      <th>seller.seller_reputation.transactions.completed</th>\n",
       "      <th>seller.seller_reputation.power_seller_status</th>\n",
       "      <th>seller.seller_reputation.metrics.claims.rate</th>\n",
       "      <th>seller.seller_reputation.metrics.delayed_handling_time.rate</th>\n",
       "      <th>seller.seller_reputation.metrics.sales.period</th>\n",
       "      <th>seller.seller_reputation.metrics.sales.completed</th>\n",
       "      <th>seller.seller_reputation.metrics.cancellations.rate</th>\n",
       "      <th>address.state_name</th>\n",
       "      <th>shipping.free_shipping</th>\n",
       "      <th>shipping.mode</th>\n",
       "      <th>shipping.logistic_type</th>\n",
       "      <th>shipping.store_pick_up</th>\n",
       "      <th>seller.seller_reputation.real_level</th>\n",
       "      <th>root_category_id</th>\n",
       "      <th>root_category_name</th>\n",
       "      <th>discount</th>\n",
       "      <th>category_name</th>\n",
       "    </tr>\n",
       "  </thead>\n",
       "  <tbody>\n",
       "    <tr>\n",
       "      <th>0</th>\n",
       "      <td>12.0</td>\n",
       "      <td>70.17</td>\n",
       "      <td>MLA896914637</td>\n",
       "      <td>MLA</td>\n",
       "      <td>Magnetron Para Microondas Modelo 2m219g 2m 219 G</td>\n",
       "      <td>1850.0</td>\n",
       "      <td>ARS</td>\n",
       "      <td>1</td>\n",
       "      <td>50</td>\n",
       "      <td>buy_it_now</td>\n",
       "      <td>gold_special</td>\n",
       "      <td>new</td>\n",
       "      <td>1</td>\n",
       "      <td>MLA455062</td>\n",
       "      <td>0</td>\n",
       "      <td>NaN</td>\n",
       "      <td>0</td>\n",
       "      <td>169949346</td>\n",
       "      <td>0</td>\n",
       "      <td>0</td>\n",
       "      <td>22721.0</td>\n",
       "      <td>906.0</td>\n",
       "      <td>historic</td>\n",
       "      <td>0.01</td>\n",
       "      <td>0.98</td>\n",
       "      <td>0.01</td>\n",
       "      <td>21815.0</td>\n",
       "      <td>platinum</td>\n",
       "      <td>0.0053</td>\n",
       "      <td>0.0011</td>\n",
       "      <td>60 days</td>\n",
       "      <td>3587.0</td>\n",
       "      <td>0.0029</td>\n",
       "      <td>Buenos Aires</td>\n",
       "      <td>0</td>\n",
       "      <td>me2</td>\n",
       "      <td>cross_docking</td>\n",
       "      <td>0</td>\n",
       "      <td>NaN</td>\n",
       "      <td>MLA5726</td>\n",
       "      <td>Electrodomésticos y Aires Ac.</td>\n",
       "      <td>NaN</td>\n",
       "      <td>Magnetrones</td>\n",
       "    </tr>\n",
       "    <tr>\n",
       "      <th>1</th>\n",
       "      <td>12.0</td>\n",
       "      <td>70.17</td>\n",
       "      <td>MLA689849716</td>\n",
       "      <td>MLA</td>\n",
       "      <td>Motor Y Pedal P/máquinas De Coser Familiar Sin...</td>\n",
       "      <td>4890.0</td>\n",
       "      <td>ARS</td>\n",
       "      <td>1</td>\n",
       "      <td>250</td>\n",
       "      <td>buy_it_now</td>\n",
       "      <td>gold_special</td>\n",
       "      <td>new</td>\n",
       "      <td>1</td>\n",
       "      <td>MLA116430</td>\n",
       "      <td>0</td>\n",
       "      <td>NaN</td>\n",
       "      <td>0</td>\n",
       "      <td>93137649</td>\n",
       "      <td>0</td>\n",
       "      <td>0</td>\n",
       "      <td>4037.0</td>\n",
       "      <td>175.0</td>\n",
       "      <td>historic</td>\n",
       "      <td>0.00</td>\n",
       "      <td>1.00</td>\n",
       "      <td>0.00</td>\n",
       "      <td>3862.0</td>\n",
       "      <td>platinum</td>\n",
       "      <td>0.0000</td>\n",
       "      <td>0.0221</td>\n",
       "      <td>60 days</td>\n",
       "      <td>758.0</td>\n",
       "      <td>0.0000</td>\n",
       "      <td>Buenos Aires</td>\n",
       "      <td>1</td>\n",
       "      <td>me2</td>\n",
       "      <td>fulfillment</td>\n",
       "      <td>0</td>\n",
       "      <td>NaN</td>\n",
       "      <td>MLA5726</td>\n",
       "      <td>Electrodomésticos y Aires Ac.</td>\n",
       "      <td>NaN</td>\n",
       "      <td>Otros Accesorios</td>\n",
       "    </tr>\n",
       "    <tr>\n",
       "      <th>2</th>\n",
       "      <td>NaN</td>\n",
       "      <td>NaN</td>\n",
       "      <td>MLA909338268</td>\n",
       "      <td>MLA</td>\n",
       "      <td>Honda Civic 1.8 Exs At 140cv - 127218 - C(p)</td>\n",
       "      <td>1480000.0</td>\n",
       "      <td>ARS</td>\n",
       "      <td>1</td>\n",
       "      <td>0</td>\n",
       "      <td>classified</td>\n",
       "      <td>gold_premium</td>\n",
       "      <td>used</td>\n",
       "      <td>1</td>\n",
       "      <td>MLA1744</td>\n",
       "      <td>0</td>\n",
       "      <td>MLA8713970</td>\n",
       "      <td>0</td>\n",
       "      <td>439841655</td>\n",
       "      <td>1</td>\n",
       "      <td>0</td>\n",
       "      <td>150.0</td>\n",
       "      <td>72.0</td>\n",
       "      <td>historic</td>\n",
       "      <td>0.02</td>\n",
       "      <td>0.93</td>\n",
       "      <td>0.05</td>\n",
       "      <td>78.0</td>\n",
       "      <td>NaN</td>\n",
       "      <td>0.0000</td>\n",
       "      <td>0.0000</td>\n",
       "      <td>365 days</td>\n",
       "      <td>78.0</td>\n",
       "      <td>0.0000</td>\n",
       "      <td>Capital Federal</td>\n",
       "      <td>0</td>\n",
       "      <td>not_specified</td>\n",
       "      <td>not_specified</td>\n",
       "      <td>0</td>\n",
       "      <td>NaN</td>\n",
       "      <td>MLA1743</td>\n",
       "      <td>Autos, Motos y Otros</td>\n",
       "      <td>NaN</td>\n",
       "      <td>Autos y Camionetas</td>\n",
       "    </tr>\n",
       "    <tr>\n",
       "      <th>3</th>\n",
       "      <td>12.0</td>\n",
       "      <td>70.17</td>\n",
       "      <td>MLA750172551</td>\n",
       "      <td>MLA</td>\n",
       "      <td>Radio Yongnuo Rf-603 Ver Ii / Nikon O Canon / ...</td>\n",
       "      <td>6688.0</td>\n",
       "      <td>ARS</td>\n",
       "      <td>1</td>\n",
       "      <td>100</td>\n",
       "      <td>buy_it_now</td>\n",
       "      <td>gold_special</td>\n",
       "      <td>new</td>\n",
       "      <td>1</td>\n",
       "      <td>MLA411998</td>\n",
       "      <td>0</td>\n",
       "      <td>NaN</td>\n",
       "      <td>0</td>\n",
       "      <td>141498690</td>\n",
       "      <td>0</td>\n",
       "      <td>0</td>\n",
       "      <td>14212.0</td>\n",
       "      <td>786.0</td>\n",
       "      <td>historic</td>\n",
       "      <td>0.00</td>\n",
       "      <td>1.00</td>\n",
       "      <td>0.00</td>\n",
       "      <td>13426.0</td>\n",
       "      <td>platinum</td>\n",
       "      <td>0.0057</td>\n",
       "      <td>0.0102</td>\n",
       "      <td>60 days</td>\n",
       "      <td>2325.0</td>\n",
       "      <td>0.0000</td>\n",
       "      <td>Capital Federal</td>\n",
       "      <td>1</td>\n",
       "      <td>me2</td>\n",
       "      <td>fulfillment</td>\n",
       "      <td>0</td>\n",
       "      <td>NaN</td>\n",
       "      <td>MLA1039</td>\n",
       "      <td>Cámaras y Accesorios</td>\n",
       "      <td>NaN</td>\n",
       "      <td>Disparadores</td>\n",
       "    </tr>\n",
       "    <tr>\n",
       "      <th>4</th>\n",
       "      <td>NaN</td>\n",
       "      <td>NaN</td>\n",
       "      <td>MLA853999531</td>\n",
       "      <td>MLA</td>\n",
       "      <td>1, 2 Y 3 Ambientes Con Cocheras Opcionales</td>\n",
       "      <td>110000.0</td>\n",
       "      <td>USD</td>\n",
       "      <td>1</td>\n",
       "      <td>0</td>\n",
       "      <td>classified</td>\n",
       "      <td>gold</td>\n",
       "      <td>new</td>\n",
       "      <td>0</td>\n",
       "      <td>MLA401806</td>\n",
       "      <td>0</td>\n",
       "      <td>NaN</td>\n",
       "      <td>0</td>\n",
       "      <td>102898425</td>\n",
       "      <td>0</td>\n",
       "      <td>1</td>\n",
       "      <td>0.0</td>\n",
       "      <td>0.0</td>\n",
       "      <td>historic</td>\n",
       "      <td>0.00</td>\n",
       "      <td>0.00</td>\n",
       "      <td>0.00</td>\n",
       "      <td>0.0</td>\n",
       "      <td>NaN</td>\n",
       "      <td>0.0000</td>\n",
       "      <td>0.0000</td>\n",
       "      <td>365 days</td>\n",
       "      <td>0.0</td>\n",
       "      <td>0.0000</td>\n",
       "      <td>Capital Federal</td>\n",
       "      <td>0</td>\n",
       "      <td>not_specified</td>\n",
       "      <td>not_specified</td>\n",
       "      <td>0</td>\n",
       "      <td>NaN</td>\n",
       "      <td>MLA1459</td>\n",
       "      <td>Inmuebles</td>\n",
       "      <td>NaN</td>\n",
       "      <td>Emprendimientos</td>\n",
       "    </tr>\n",
       "  </tbody>\n",
       "</table>\n",
       "</div>"
      ],
      "text/plain": [
       "   installments.quantity  installments.rate            id site_id  \\\n",
       "0                   12.0              70.17  MLA896914637     MLA   \n",
       "1                   12.0              70.17  MLA689849716     MLA   \n",
       "2                    NaN                NaN  MLA909338268     MLA   \n",
       "3                   12.0              70.17  MLA750172551     MLA   \n",
       "4                    NaN                NaN  MLA853999531     MLA   \n",
       "\n",
       "                                               title      price currency_id  \\\n",
       "0   Magnetron Para Microondas Modelo 2m219g 2m 219 G     1850.0         ARS   \n",
       "1  Motor Y Pedal P/máquinas De Coser Familiar Sin...     4890.0         ARS   \n",
       "2       Honda Civic 1.8 Exs At 140cv - 127218 - C(p)  1480000.0         ARS   \n",
       "3  Radio Yongnuo Rf-603 Ver Ii / Nikon O Canon / ...     6688.0         ARS   \n",
       "4         1, 2 Y 3 Ambientes Con Cocheras Opcionales   110000.0         USD   \n",
       "\n",
       "   available_quantity  sold_quantity buying_mode listing_type_id condition  \\\n",
       "0                   1             50  buy_it_now    gold_special       new   \n",
       "1                   1            250  buy_it_now    gold_special       new   \n",
       "2                   1              0  classified    gold_premium      used   \n",
       "3                   1            100  buy_it_now    gold_special       new   \n",
       "4                   1              0  classified            gold       new   \n",
       "\n",
       "   accepts_mercadopago category_id  is_official_store catalog_product_id  \\\n",
       "0                    1   MLA455062                  0                NaN   \n",
       "1                    1   MLA116430                  0                NaN   \n",
       "2                    1     MLA1744                  0         MLA8713970   \n",
       "3                    1   MLA411998                  0                NaN   \n",
       "4                    0   MLA401806                  0                NaN   \n",
       "\n",
       "   catalog_listing  seller.id  seller.car_dealer  seller.real_estate_agency  \\\n",
       "0                0  169949346                  0                          0   \n",
       "1                0   93137649                  0                          0   \n",
       "2                0  439841655                  1                          0   \n",
       "3                0  141498690                  0                          0   \n",
       "4                0  102898425                  0                          1   \n",
       "\n",
       "   seller.seller_reputation.transactions.total  \\\n",
       "0                                      22721.0   \n",
       "1                                       4037.0   \n",
       "2                                        150.0   \n",
       "3                                      14212.0   \n",
       "4                                          0.0   \n",
       "\n",
       "   seller.seller_reputation.transactions.canceled  \\\n",
       "0                                           906.0   \n",
       "1                                           175.0   \n",
       "2                                            72.0   \n",
       "3                                           786.0   \n",
       "4                                             0.0   \n",
       "\n",
       "  seller.seller_reputation.transactions.period  \\\n",
       "0                                     historic   \n",
       "1                                     historic   \n",
       "2                                     historic   \n",
       "3                                     historic   \n",
       "4                                     historic   \n",
       "\n",
       "   seller.seller_reputation.transactions.ratings.negative  \\\n",
       "0                                               0.01        \n",
       "1                                               0.00        \n",
       "2                                               0.02        \n",
       "3                                               0.00        \n",
       "4                                               0.00        \n",
       "\n",
       "   seller.seller_reputation.transactions.ratings.positive  \\\n",
       "0                                               0.98        \n",
       "1                                               1.00        \n",
       "2                                               0.93        \n",
       "3                                               1.00        \n",
       "4                                               0.00        \n",
       "\n",
       "   seller.seller_reputation.transactions.ratings.neutral  \\\n",
       "0                                               0.01       \n",
       "1                                               0.00       \n",
       "2                                               0.05       \n",
       "3                                               0.00       \n",
       "4                                               0.00       \n",
       "\n",
       "   seller.seller_reputation.transactions.completed  \\\n",
       "0                                          21815.0   \n",
       "1                                           3862.0   \n",
       "2                                             78.0   \n",
       "3                                          13426.0   \n",
       "4                                              0.0   \n",
       "\n",
       "  seller.seller_reputation.power_seller_status  \\\n",
       "0                                     platinum   \n",
       "1                                     platinum   \n",
       "2                                          NaN   \n",
       "3                                     platinum   \n",
       "4                                          NaN   \n",
       "\n",
       "   seller.seller_reputation.metrics.claims.rate  \\\n",
       "0                                        0.0053   \n",
       "1                                        0.0000   \n",
       "2                                        0.0000   \n",
       "3                                        0.0057   \n",
       "4                                        0.0000   \n",
       "\n",
       "   seller.seller_reputation.metrics.delayed_handling_time.rate  \\\n",
       "0                                             0.0011             \n",
       "1                                             0.0221             \n",
       "2                                             0.0000             \n",
       "3                                             0.0102             \n",
       "4                                             0.0000             \n",
       "\n",
       "  seller.seller_reputation.metrics.sales.period  \\\n",
       "0                                       60 days   \n",
       "1                                       60 days   \n",
       "2                                      365 days   \n",
       "3                                       60 days   \n",
       "4                                      365 days   \n",
       "\n",
       "   seller.seller_reputation.metrics.sales.completed  \\\n",
       "0                                            3587.0   \n",
       "1                                             758.0   \n",
       "2                                              78.0   \n",
       "3                                            2325.0   \n",
       "4                                               0.0   \n",
       "\n",
       "   seller.seller_reputation.metrics.cancellations.rate address.state_name  \\\n",
       "0                                             0.0029         Buenos Aires   \n",
       "1                                             0.0000         Buenos Aires   \n",
       "2                                             0.0000      Capital Federal   \n",
       "3                                             0.0000      Capital Federal   \n",
       "4                                             0.0000      Capital Federal   \n",
       "\n",
       "   shipping.free_shipping  shipping.mode shipping.logistic_type  \\\n",
       "0                       0            me2          cross_docking   \n",
       "1                       1            me2            fulfillment   \n",
       "2                       0  not_specified          not_specified   \n",
       "3                       1            me2            fulfillment   \n",
       "4                       0  not_specified          not_specified   \n",
       "\n",
       "   shipping.store_pick_up seller.seller_reputation.real_level  \\\n",
       "0                       0                                 NaN   \n",
       "1                       0                                 NaN   \n",
       "2                       0                                 NaN   \n",
       "3                       0                                 NaN   \n",
       "4                       0                                 NaN   \n",
       "\n",
       "  root_category_id             root_category_name  discount  \\\n",
       "0          MLA5726  Electrodomésticos y Aires Ac.       NaN   \n",
       "1          MLA5726  Electrodomésticos y Aires Ac.       NaN   \n",
       "2          MLA1743           Autos, Motos y Otros       NaN   \n",
       "3          MLA1039           Cámaras y Accesorios       NaN   \n",
       "4          MLA1459                      Inmuebles       NaN   \n",
       "\n",
       "        category_name  \n",
       "0         Magnetrones  \n",
       "1    Otros Accesorios  \n",
       "2  Autos y Camionetas  \n",
       "3        Disparadores  \n",
       "4     Emprendimientos  "
      ]
     },
     "execution_count": 6,
     "metadata": {},
     "output_type": "execute_result"
    }
   ],
   "source": [
    "X_train = pd.read_csv(data_path + 'train.csv', sep='\\t', encoding='utf-8', )  \n",
    "X_train.head()"
   ]
  },
  {
   "cell_type": "code",
   "execution_count": 7,
   "metadata": {},
   "outputs": [
    {
     "data": {
      "text/plain": [
       "(23194, 43)"
      ]
     },
     "execution_count": 7,
     "metadata": {},
     "output_type": "execute_result"
    }
   ],
   "source": [
    "X_train.shape"
   ]
  },
  {
   "cell_type": "code",
   "execution_count": 8,
   "metadata": {
    "scrolled": true
   },
   "outputs": [
    {
     "data": {
      "text/plain": [
       "count    2818.000000\n",
       "mean        0.180847\n",
       "std         0.119029\n",
       "min         0.000000\n",
       "25%         0.080000\n",
       "50%         0.158469\n",
       "75%         0.259146\n",
       "max         0.720000\n",
       "Name: discount, dtype: float64"
      ]
     },
     "execution_count": 8,
     "metadata": {},
     "output_type": "execute_result"
    }
   ],
   "source": [
    "X_train.discount.describe()"
   ]
  },
  {
   "cell_type": "code",
   "execution_count": 58,
   "metadata": {
    "scrolled": true
   },
   "outputs": [
    {
     "data": {
      "text/plain": [
       "1        13394\n",
       "50        2604\n",
       "500       2445\n",
       "250       1515\n",
       "100       1109\n",
       "150        768\n",
       "5000       698\n",
       "200        424\n",
       "50000      237\n",
       "Name: available_quantity, dtype: int64"
      ]
     },
     "execution_count": 58,
     "metadata": {},
     "output_type": "execute_result"
    }
   ],
   "source": [
    "X_train.available_quantity.value_counts()"
   ]
  },
  {
   "cell_type": "code",
   "execution_count": 56,
   "metadata": {
    "scrolled": true
   },
   "outputs": [
    {
     "data": {
      "text/plain": [
       "0    20961\n",
       "1     2233\n",
       "Name: is_official_store, dtype: int64"
      ]
     },
     "execution_count": 56,
     "metadata": {},
     "output_type": "execute_result"
    }
   ],
   "source": [
    "X_train.is_official_store.value_counts()"
   ]
  },
  {
   "cell_type": "code",
   "execution_count": 9,
   "metadata": {
    "scrolled": false
   },
   "outputs": [
    {
     "data": {
      "text/plain": [
       "count       23009.00\n",
       "mean       126819.38\n",
       "std       1129333.64\n",
       "min             1.00\n",
       "25%           820.00\n",
       "50%          1899.00\n",
       "75%          5149.00\n",
       "max      85518000.00\n",
       "Name: price, dtype: float64"
      ]
     },
     "execution_count": 9,
     "metadata": {},
     "output_type": "execute_result"
    }
   ],
   "source": [
    "X_train.price.describe().round(2)"
   ]
  },
  {
   "cell_type": "code",
   "execution_count": 10,
   "metadata": {
    "scrolled": true
   },
   "outputs": [
    {
     "data": {
      "text/plain": [
       "count    21510.00\n",
       "mean        63.82\n",
       "std         20.14\n",
       "min          0.00\n",
       "25%         70.17\n",
       "50%         70.17\n",
       "75%         70.17\n",
       "max         70.17\n",
       "Name: installments.rate, dtype: float64"
      ]
     },
     "execution_count": 10,
     "metadata": {},
     "output_type": "execute_result"
    }
   ],
   "source": [
    "X_train['installments.rate'].describe().round(2)"
   ]
  },
  {
   "cell_type": "code",
   "execution_count": 11,
   "metadata": {},
   "outputs": [],
   "source": [
    "aux = X_train.copy()"
   ]
  },
  {
   "cell_type": "markdown",
   "metadata": {},
   "source": [
    "## Target"
   ]
  },
  {
   "cell_type": "code",
   "execution_count": 12,
   "metadata": {
    "scrolled": false
   },
   "outputs": [
    {
     "data": {
      "text/plain": [
       "0        2340\n",
       "1         215\n",
       "2         180\n",
       "3         172\n",
       "4         154\n",
       "5        1768\n",
       "25       1384\n",
       "50       2108\n",
       "100      1556\n",
       "150      1326\n",
       "200      1078\n",
       "250      3493\n",
       "500      6885\n",
       "5000      528\n",
       "50000       7\n",
       "Name: sold_quantity, dtype: int64"
      ]
     },
     "execution_count": 12,
     "metadata": {},
     "output_type": "execute_result"
    }
   ],
   "source": [
    "X_train.sold_quantity.value_counts().sort_index()"
   ]
  },
  {
   "cell_type": "markdown",
   "metadata": {},
   "source": [
    "<p style=\"color:red; font-weight: bold\">Vamos a intentar probar unificar las categorias iniciales, considerando este tipo de decisiones, en caso de quen hagan que el modelo de mejor, deben consultarse siempre con el negocio </p>"
   ]
  },
  {
   "cell_type": "code",
   "execution_count": 13,
   "metadata": {},
   "outputs": [],
   "source": [
    "X_train[\"sold_quantity\"] = [x if x >= 5 else 1 for x in X_train[\"sold_quantity\"]]"
   ]
  },
  {
   "cell_type": "code",
   "execution_count": 14,
   "metadata": {
    "scrolled": false
   },
   "outputs": [
    {
     "data": {
      "text/plain": [
       "1        3061\n",
       "5        1768\n",
       "25       1384\n",
       "50       2108\n",
       "100      1556\n",
       "150      1326\n",
       "200      1078\n",
       "250      3493\n",
       "500      6885\n",
       "5000      528\n",
       "50000       7\n",
       "Name: sold_quantity, dtype: int64"
      ]
     },
     "execution_count": 14,
     "metadata": {},
     "output_type": "execute_result"
    }
   ],
   "source": [
    "X_train.sold_quantity.value_counts().sort_index()"
   ]
  },
  {
   "cell_type": "markdown",
   "metadata": {},
   "source": [
    "# y"
   ]
  },
  {
   "cell_type": "code",
   "execution_count": 15,
   "metadata": {},
   "outputs": [],
   "source": [
    "y = X_train.sold_quantity"
   ]
  },
  {
   "cell_type": "code",
   "execution_count": 16,
   "metadata": {},
   "outputs": [],
   "source": [
    "X_train = X_train.drop(['sold_quantity'], axis= 1)"
   ]
  },
  {
   "cell_type": "markdown",
   "metadata": {},
   "source": [
    "## LabelEncoder"
   ]
  },
  {
   "cell_type": "markdown",
   "metadata": {},
   "source": [
    "enc = LabelEncoder()\n",
    "enc.fit(y)\n",
    "y_transformed = enc.transform(y)"
   ]
  },
  {
   "cell_type": "markdown",
   "metadata": {
    "scrolled": true
   },
   "source": [
    "pd.Series(y_transformed).value_counts(normalize=True).sort_index().plot.barh()"
   ]
  },
  {
   "cell_type": "markdown",
   "metadata": {},
   "source": [
    "## SMOTE strategy"
   ]
  },
  {
   "cell_type": "code",
   "execution_count": 17,
   "metadata": {},
   "outputs": [
    {
     "data": {
      "text/plain": [
       "{1: 3061,\n",
       " 5: 1768,\n",
       " 25: 1384,\n",
       " 50: 2108,\n",
       " 100: 1556,\n",
       " 150: 1326,\n",
       " 200: 1078,\n",
       " 250: 3493,\n",
       " 500: 6885,\n",
       " 5000: 528,\n",
       " 50000: 7}"
      ]
     },
     "execution_count": 17,
     "metadata": {},
     "output_type": "execute_result"
    }
   ],
   "source": [
    "dic = pd.Series(y).value_counts().sort_index().to_dict()\n",
    "dic"
   ]
  },
  {
   "cell_type": "code",
   "execution_count": 18,
   "metadata": {},
   "outputs": [],
   "source": [
    "threshold = 3000\n",
    "prop = 1.5"
   ]
  },
  {
   "cell_type": "code",
   "execution_count": 19,
   "metadata": {},
   "outputs": [
    {
     "data": {
      "text/plain": [
       "{1: 3061,\n",
       " 5: 2652,\n",
       " 25: 2076,\n",
       " 50: 3162,\n",
       " 100: 2334,\n",
       " 150: 1989,\n",
       " 200: 1617,\n",
       " 250: 3493,\n",
       " 500: 6885,\n",
       " 5000: 792,\n",
       " 50000: 10}"
      ]
     },
     "execution_count": 19,
     "metadata": {},
     "output_type": "execute_result"
    }
   ],
   "source": [
    "smote_sampling_strategy = {key: int(value*prop) if value < threshold else value for key, value in dic.items()}\n",
    "smote_sampling_strategy"
   ]
  },
  {
   "cell_type": "markdown",
   "metadata": {},
   "source": [
    "## IDs  + columnas a descartar"
   ]
  },
  {
   "cell_type": "code",
   "execution_count": 20,
   "metadata": {},
   "outputs": [],
   "source": [
    "id_cols = [\n",
    "'id',\n",
    "'site_id',\n",
    "'title',\n",
    "'category_id',\n",
    "'seller.id',\n",
    "'catalog_product_id',\n",
    "'root_category_id',\n",
    "'root_category_name',\n",
    "'category_name',\n",
    "]"
   ]
  },
  {
   "cell_type": "code",
   "execution_count": 21,
   "metadata": {},
   "outputs": [],
   "source": [
    "columns_discard = [\n",
    "    'tags',\n",
    "    'seller.tags', \n",
    "    'shipping.tags',\n",
    "    'categories_from_root', \n",
    "    'prices.prices',\n",
    "    'seller.seller_reputation.metrics.delayed_handling_time.value',\n",
    "    'seller.seller_reputation.metrics.delayed_handling_time.period',\n",
    "    'seller.seller_reputation.metrics.cancellations.value',\n",
    "    'seller.seller_reputation.metrics.cancellations.period',\n",
    "    ]"
   ]
  },
  {
   "cell_type": "code",
   "execution_count": 22,
   "metadata": {},
   "outputs": [],
   "source": [
    "ids_df = X_train[id_cols].copy()\n",
    "X_train = X_train.drop(id_cols, axis= 1) # + columns_discard"
   ]
  },
  {
   "cell_type": "code",
   "execution_count": 23,
   "metadata": {
    "scrolled": true
   },
   "outputs": [
    {
     "data": {
      "text/plain": [
       "installments.quantity                                          float64\n",
       "installments.rate                                              float64\n",
       "price                                                          float64\n",
       "currency_id                                                     object\n",
       "available_quantity                                               int64\n",
       "buying_mode                                                     object\n",
       "listing_type_id                                                 object\n",
       "condition                                                       object\n",
       "accepts_mercadopago                                              int64\n",
       "is_official_store                                                int64\n",
       "catalog_listing                                                  int64\n",
       "seller.car_dealer                                                int64\n",
       "seller.real_estate_agency                                        int64\n",
       "seller.seller_reputation.transactions.total                    float64\n",
       "seller.seller_reputation.transactions.canceled                 float64\n",
       "seller.seller_reputation.transactions.period                    object\n",
       "seller.seller_reputation.transactions.ratings.negative         float64\n",
       "seller.seller_reputation.transactions.ratings.positive         float64\n",
       "seller.seller_reputation.transactions.ratings.neutral          float64\n",
       "seller.seller_reputation.transactions.completed                float64\n",
       "seller.seller_reputation.power_seller_status                    object\n",
       "seller.seller_reputation.metrics.claims.rate                   float64\n",
       "seller.seller_reputation.metrics.delayed_handling_time.rate    float64\n",
       "seller.seller_reputation.metrics.sales.period                   object\n",
       "seller.seller_reputation.metrics.sales.completed               float64\n",
       "seller.seller_reputation.metrics.cancellations.rate            float64\n",
       "address.state_name                                              object\n",
       "shipping.free_shipping                                           int64\n",
       "shipping.mode                                                   object\n",
       "shipping.logistic_type                                          object\n",
       "shipping.store_pick_up                                           int64\n",
       "seller.seller_reputation.real_level                             object\n",
       "discount                                                       float64\n",
       "dtype: object"
      ]
     },
     "execution_count": 23,
     "metadata": {},
     "output_type": "execute_result"
    }
   ],
   "source": [
    "X_train.dtypes"
   ]
  },
  {
   "cell_type": "markdown",
   "metadata": {},
   "source": [
    "## Columns"
   ]
  },
  {
   "cell_type": "code",
   "execution_count": 24,
   "metadata": {},
   "outputs": [
    {
     "data": {
      "text/plain": [
       "Index(['installments.quantity', 'installments.rate', 'price', 'currency_id',\n",
       "       'available_quantity', 'buying_mode', 'listing_type_id', 'condition',\n",
       "       'accepts_mercadopago', 'is_official_store', 'catalog_listing',\n",
       "       'seller.car_dealer', 'seller.real_estate_agency',\n",
       "       'seller.seller_reputation.transactions.total',\n",
       "       'seller.seller_reputation.transactions.canceled',\n",
       "       'seller.seller_reputation.transactions.period',\n",
       "       'seller.seller_reputation.transactions.ratings.negative',\n",
       "       'seller.seller_reputation.transactions.ratings.positive',\n",
       "       'seller.seller_reputation.transactions.ratings.neutral',\n",
       "       'seller.seller_reputation.transactions.completed',\n",
       "       'seller.seller_reputation.power_seller_status',\n",
       "       'seller.seller_reputation.metrics.claims.rate',\n",
       "       'seller.seller_reputation.metrics.delayed_handling_time.rate',\n",
       "       'seller.seller_reputation.metrics.sales.period',\n",
       "       'seller.seller_reputation.metrics.sales.completed',\n",
       "       'seller.seller_reputation.metrics.cancellations.rate',\n",
       "       'address.state_name', 'shipping.free_shipping', 'shipping.mode',\n",
       "       'shipping.logistic_type', 'shipping.store_pick_up',\n",
       "       'seller.seller_reputation.real_level', 'discount'],\n",
       "      dtype='object')"
      ]
     },
     "execution_count": 24,
     "metadata": {},
     "output_type": "execute_result"
    }
   ],
   "source": [
    "cols_preproc = X_train.columns\n",
    "cols_preproc"
   ]
  },
  {
   "cell_type": "code",
   "execution_count": 25,
   "metadata": {},
   "outputs": [],
   "source": [
    "categorical_ord_enc = [\n",
    "    'available_quantity',\n",
    "    'installments.quantity',\n",
    "]"
   ]
  },
  {
   "cell_type": "code",
   "execution_count": 26,
   "metadata": {},
   "outputs": [
    {
     "data": {
      "text/plain": [
       "['installments.rate',\n",
       " 'price',\n",
       " 'accepts_mercadopago',\n",
       " 'is_official_store',\n",
       " 'catalog_listing',\n",
       " 'seller.car_dealer',\n",
       " 'seller.real_estate_agency',\n",
       " 'seller.seller_reputation.transactions.total',\n",
       " 'seller.seller_reputation.transactions.canceled',\n",
       " 'seller.seller_reputation.transactions.ratings.negative',\n",
       " 'seller.seller_reputation.transactions.ratings.positive',\n",
       " 'seller.seller_reputation.transactions.ratings.neutral',\n",
       " 'seller.seller_reputation.transactions.completed',\n",
       " 'seller.seller_reputation.metrics.claims.rate',\n",
       " 'seller.seller_reputation.metrics.delayed_handling_time.rate',\n",
       " 'seller.seller_reputation.metrics.sales.completed',\n",
       " 'seller.seller_reputation.metrics.cancellations.rate',\n",
       " 'shipping.free_shipping',\n",
       " 'shipping.store_pick_up',\n",
       " 'discount']"
      ]
     },
     "execution_count": 26,
     "metadata": {},
     "output_type": "execute_result"
    }
   ],
   "source": [
    "numeric_features = X_train.select_dtypes(include=['int64', 'float64']).drop(categorical_ord_enc, axis = 1).columns.to_list()\n",
    "numeric_features"
   ]
  },
  {
   "cell_type": "code",
   "execution_count": 27,
   "metadata": {
    "scrolled": true
   },
   "outputs": [
    {
     "data": {
      "text/plain": [
       "['currency_id',\n",
       " 'buying_mode',\n",
       " 'listing_type_id',\n",
       " 'condition',\n",
       " 'seller.seller_reputation.transactions.period',\n",
       " 'seller.seller_reputation.power_seller_status',\n",
       " 'seller.seller_reputation.metrics.sales.period',\n",
       " 'address.state_name',\n",
       " 'shipping.mode',\n",
       " 'shipping.logistic_type',\n",
       " 'seller.seller_reputation.real_level']"
      ]
     },
     "execution_count": 27,
     "metadata": {},
     "output_type": "execute_result"
    }
   ],
   "source": [
    "categorical_features = X_train.select_dtypes(include=['object']).columns.to_list() \n",
    "categorical_features"
   ]
  },
  {
   "cell_type": "code",
   "execution_count": null,
   "metadata": {},
   "outputs": [],
   "source": []
  },
  {
   "cell_type": "markdown",
   "metadata": {},
   "source": [
    "## NA"
   ]
  },
  {
   "cell_type": "markdown",
   "metadata": {},
   "source": [
    "Nota: para las categóricas habría que consultar con expertos del dominio en cómo completar"
   ]
  },
  {
   "cell_type": "code",
   "execution_count": 28,
   "metadata": {},
   "outputs": [],
   "source": [
    "fillNA = {\n",
    "    'cat': {},\n",
    "    'num': {},\n",
    "    'ord': {}\n",
    "}\n",
    "for x in categorical_ord_enc:\n",
    "    fillNA['ord'][x] = 0 \n",
    "\n",
    "for x in numeric_features:\n",
    "    fillNA['num'][x] = 0 \n",
    "    \n",
    "for x in categorical_features:\n",
    "    fillNA['cat'][x] = '__NA__'"
   ]
  },
  {
   "cell_type": "code",
   "execution_count": 29,
   "metadata": {},
   "outputs": [
    {
     "data": {
      "text/plain": [
       "{'cat': {'currency_id': '__NA__',\n",
       "  'buying_mode': '__NA__',\n",
       "  'listing_type_id': '__NA__',\n",
       "  'condition': '__NA__',\n",
       "  'seller.seller_reputation.transactions.period': '__NA__',\n",
       "  'seller.seller_reputation.power_seller_status': '__NA__',\n",
       "  'seller.seller_reputation.metrics.sales.period': '__NA__',\n",
       "  'address.state_name': '__NA__',\n",
       "  'shipping.mode': '__NA__',\n",
       "  'shipping.logistic_type': '__NA__',\n",
       "  'seller.seller_reputation.real_level': '__NA__'},\n",
       " 'num': {'installments.rate': 0,\n",
       "  'price': 0,\n",
       "  'accepts_mercadopago': 0,\n",
       "  'is_official_store': 0,\n",
       "  'catalog_listing': 0,\n",
       "  'seller.car_dealer': 0,\n",
       "  'seller.real_estate_agency': 0,\n",
       "  'seller.seller_reputation.transactions.total': 0,\n",
       "  'seller.seller_reputation.transactions.canceled': 0,\n",
       "  'seller.seller_reputation.transactions.ratings.negative': 0,\n",
       "  'seller.seller_reputation.transactions.ratings.positive': 0,\n",
       "  'seller.seller_reputation.transactions.ratings.neutral': 0,\n",
       "  'seller.seller_reputation.transactions.completed': 0,\n",
       "  'seller.seller_reputation.metrics.claims.rate': 0,\n",
       "  'seller.seller_reputation.metrics.delayed_handling_time.rate': 0,\n",
       "  'seller.seller_reputation.metrics.sales.completed': 0,\n",
       "  'seller.seller_reputation.metrics.cancellations.rate': 0,\n",
       "  'shipping.free_shipping': 0,\n",
       "  'shipping.store_pick_up': 0,\n",
       "  'discount': 0},\n",
       " 'ord': {'available_quantity': 0, 'installments.quantity': 0}}"
      ]
     },
     "execution_count": 29,
     "metadata": {},
     "output_type": "execute_result"
    }
   ],
   "source": [
    "fillNA"
   ]
  },
  {
   "cell_type": "markdown",
   "metadata": {},
   "source": [
    "## PIPELINES"
   ]
  },
  {
   "cell_type": "code",
   "execution_count": 30,
   "metadata": {},
   "outputs": [
    {
     "data": {
      "text/plain": [
       "Pipeline(steps=[('seleccionFeatsIni',\n",
       "                 Pipeline(steps=[('extractor',\n",
       "                                  ColumnSelector(columns=Index(['installments.quantity', 'installments.rate', 'price', 'currency_id',\n",
       "       'available_quantity', 'buying_mode', 'listing_type_id', 'condition',\n",
       "       'accepts_mercadopago', 'is_official_store', 'catalog_listing',\n",
       "       'seller.car_dealer', 'seller.real_estate_agency',\n",
       "       'seller.seller_...\n",
       "       'seller.seller_reputation.metrics.sales.completed',\n",
       "       'seller.seller_reputation.metrics.cancellations.rate',\n",
       "       'address.state_name', 'shipping.free_shipping', 'shipping.mode',\n",
       "       'shipping.logistic_type', 'shipping.store_pick_up',\n",
       "       'seller.seller_reputation.real_level', 'discount'],\n",
       "      dtype='object')))])),\n",
       "                ('final_features',\n",
       "                 <utils.Transformers2.DFFeatureUnion object at 0x0000017993D10B20>)])"
      ]
     },
     "execution_count": 30,
     "metadata": {},
     "output_type": "execute_result"
    }
   ],
   "source": [
    "numeric_transformer = Pipeline(steps=[\n",
    "    ('extractor',ColumnSelector(numeric_features)),\n",
    "    ('imputer',FillNaDict(col_fill_dict = fillNA['num'])),\n",
    "    # ('binarizer',DFKBinsOrdinalDiscretizer(n_bins=5,cols=numeric_features))\n",
    "    ])\n",
    "\n",
    "categorical_transformer = Pipeline(steps=[\n",
    "    ('extractor',ColumnSelector(categorical_features)),\n",
    "    ('imputer', FillNaDict(col_fill_dict = fillNA['cat'])),\n",
    "    ('dummies', DummyTransformer(categorical_features))\n",
    "    ])\n",
    "\n",
    "\n",
    "cat_label_encod = Pipeline(steps=[\n",
    "    ('extractor',ColumnSelector(categorical_ord_enc)),\n",
    "    ('imputer', FillNaDict(col_fill_dict = fillNA['ord'])),\n",
    "    ('ordinalEncoder',DFOrdinalEncoder(categorical_ord_enc))\n",
    "])\n",
    "\n",
    "sel_ini_transformer = Pipeline(steps=[\n",
    "    ('extractor',ColumnSelector(cols_preproc))\n",
    "])\n",
    "\n",
    "# DFFeatureUnion\n",
    "feat_un = DFFeatureUnion([\n",
    "            ('categoricals',categorical_transformer),\n",
    "            ('cat_lab_enc',cat_label_encod),\n",
    "            ('numeric',numeric_transformer),\n",
    "            ])\n",
    "\n",
    "# pipeline_base\n",
    "pipeline_base = Pipeline(steps=[('seleccionFeatsIni',sel_ini_transformer),\n",
    "                                ('final_features',feat_un)])\n",
    "pipeline_base"
   ]
  },
  {
   "cell_type": "code",
   "execution_count": 31,
   "metadata": {},
   "outputs": [],
   "source": [
    "## Pipeline con MinMaxScaler para vars numéricas"
   ]
  },
  {
   "cell_type": "code",
   "execution_count": 32,
   "metadata": {},
   "outputs": [],
   "source": [
    "numeric_transformer_w_scaler = Pipeline(steps=[\n",
    "    ('extractor',ColumnSelector(numeric_features)),\n",
    "    ('imputer',FillNaDict(col_fill_dict= fillNA['num'])),\n",
    "    ('binarizer',MinMaxScalerQ(X_train, columns=numeric_features, q_min = 0, q_max = 0.75))\n",
    "    ])\n",
    "\n",
    "# DFFeatureUnion\n",
    "feat_un2 = DFFeatureUnion([\n",
    "            ('categoricals',categorical_transformer),\n",
    "            ('cat_lab_enc',cat_label_encod),\n",
    "            ('numeric',numeric_transformer_w_scaler),\n",
    "            ])\n",
    "\n",
    "# pipeline_w_num_scaler\n",
    "pipeline_w_num_scaler = Pipeline(steps=[('seleccionFeatsIni',sel_ini_transformer),\n",
    "                                ('final_features',feat_un2)])"
   ]
  },
  {
   "cell_type": "code",
   "execution_count": 33,
   "metadata": {},
   "outputs": [
    {
     "data": {
      "text/plain": [
       "Pipeline(steps=[('seleccionFeatsIni',\n",
       "                 Pipeline(steps=[('extractor',\n",
       "                                  ColumnSelector(columns=Index(['installments.quantity', 'installments.rate', 'price', 'currency_id',\n",
       "       'available_quantity', 'buying_mode', 'listing_type_id', 'condition',\n",
       "       'accepts_mercadopago', 'is_official_store', 'catalog_listing',\n",
       "       'seller.car_dealer', 'seller.real_estate_agency',\n",
       "       'seller.seller_...\n",
       "       'seller.seller_reputation.metrics.sales.completed',\n",
       "       'seller.seller_reputation.metrics.cancellations.rate',\n",
       "       'address.state_name', 'shipping.free_shipping', 'shipping.mode',\n",
       "       'shipping.logistic_type', 'shipping.store_pick_up',\n",
       "       'seller.seller_reputation.real_level', 'discount'],\n",
       "      dtype='object')))])),\n",
       "                ('final_features',\n",
       "                 <utils.Transformers2.DFFeatureUnion object at 0x0000017993D10EE0>)])"
      ]
     },
     "execution_count": 33,
     "metadata": {},
     "output_type": "execute_result"
    }
   ],
   "source": [
    "pipeline_w_num_scaler"
   ]
  },
  {
   "cell_type": "code",
   "execution_count": null,
   "metadata": {},
   "outputs": [],
   "source": []
  },
  {
   "cell_type": "code",
   "execution_count": null,
   "metadata": {},
   "outputs": [],
   "source": []
  },
  {
   "cell_type": "markdown",
   "metadata": {},
   "source": [
    "## MODELS"
   ]
  },
  {
   "cell_type": "code",
   "execution_count": 34,
   "metadata": {},
   "outputs": [],
   "source": [
    "models = {         \n",
    "          'lr': LogisticRegression(),\n",
    "          'xgb':XGBClassifier(),\n",
    "          'mlp':MLPClassifier(),\n",
    "}"
   ]
  },
  {
   "cell_type": "code",
   "execution_count": 35,
   "metadata": {},
   "outputs": [],
   "source": [
    "hparams = {'xgb':{'max_depth':[5,7,10], 'gamma': [1,5,10,20], 'n_jobs':[7], 'learning_rate': [0.05, 0.1], 'n_estimators':[100, 200, 500],\n",
    "                 'colsample_bytree': [0.2, 0.5], 'seed': [seed]},\n",
    "     \n",
    "          'lr': {'multi_class': ['ovr'], 'class_weight':['balanced'], 'C': [0.01, 0.1, 1, 10,], 'solver': ['saga',], 'random_state':[seed]},\n",
    "    \n",
    "          \n",
    "          'mlp':{'solver':[\"adam\", 'sgd'], 'hidden_layer_sizes' : [(64, 64, 64), (64, 64, 64, 64), (64, 64, 64, 64, 64)], 'activation' : ['relu'], 'learning_rate_init' : [0.001, 0.01, 0.05], 'alpha' : [0.0001, 0.05, 0.001],\n",
    "                 'max_iter':[1800], 'batch_size':[64, 256], 'learning_rate': ['constant','adaptive'], 'random_state':[seed]},         \n",
    "     \n",
    "}"
   ]
  },
  {
   "cell_type": "code",
   "execution_count": 36,
   "metadata": {},
   "outputs": [],
   "source": [
    "diccionario_entrenamiento = {\n",
    "                            'xgb': {},\n",
    "                            'lr': {},\n",
    "                            'mlp': {},\n",
    "}\n",
    "                                                         \n",
    "for valor in diccionario_entrenamiento.keys():\n",
    "    diccionario_entrenamiento[valor]['model'] = models[valor]\n",
    "    diccionario_entrenamiento[valor]['params'] = hparams[valor]\n"
   ]
  },
  {
   "cell_type": "code",
   "execution_count": null,
   "metadata": {},
   "outputs": [],
   "source": []
  },
  {
   "cell_type": "markdown",
   "metadata": {},
   "source": [
    "## TRAINING"
   ]
  },
  {
   "cell_type": "code",
   "execution_count": 37,
   "metadata": {},
   "outputs": [],
   "source": [
    "X_train = X_train.reset_index(drop=True)"
   ]
  },
  {
   "cell_type": "code",
   "execution_count": 38,
   "metadata": {},
   "outputs": [],
   "source": [
    "cv_n = 3 # para aprovechar toda la data ... son muy pocos registros!"
   ]
  },
  {
   "cell_type": "code",
   "execution_count": 39,
   "metadata": {},
   "outputs": [],
   "source": [
    "models_path = data_path + \"/models/\"\n"
   ]
  },
  {
   "cell_type": "code",
   "execution_count": 40,
   "metadata": {},
   "outputs": [],
   "source": [
    "pipeline = pipeline_w_num_scaler # pipeline_base"
   ]
  },
  {
   "cell_type": "code",
   "execution_count": 41,
   "metadata": {},
   "outputs": [],
   "source": [
    "Y_train_copy = y.copy()\n",
    "X_train_copy = X_train.copy()"
   ]
  },
  {
   "cell_type": "code",
   "execution_count": 42,
   "metadata": {},
   "outputs": [],
   "source": [
    "X_train_copy = pipeline.fit_transform(X_train_copy) \n",
    "X_train_copy.reset_index(drop=True, inplace= True)\n"
   ]
  },
  {
   "cell_type": "markdown",
   "metadata": {},
   "source": [
    "## corrMatrix - post pipeline"
   ]
  },
  {
   "cell_type": "markdown",
   "metadata": {},
   "source": [
    "selected_columns = [\n",
    "    \n",
    "]"
   ]
  },
  {
   "cell_type": "markdown",
   "metadata": {},
   "source": [
    "corrMatrix = df[selected_columns].corr()\n",
    "corrMatrix"
   ]
  },
  {
   "cell_type": "markdown",
   "metadata": {},
   "source": [
    "sn.heatmap(corrMatrix, annot=True)\n",
    "plt.show()"
   ]
  },
  {
   "cell_type": "code",
   "execution_count": 43,
   "metadata": {},
   "outputs": [
    {
     "data": {
      "text/plain": [
       "['data/pipeline.joblib']"
      ]
     },
     "execution_count": 43,
     "metadata": {},
     "output_type": "execute_result"
    }
   ],
   "source": [
    "path_pipeline = data_path + 'pipeline.joblib'\n",
    "joblib.dump(pipeline, path_pipeline)\n"
   ]
  },
  {
   "cell_type": "code",
   "execution_count": 44,
   "metadata": {
    "scrolled": false
   },
   "outputs": [
    {
     "data": {
      "text/html": [
       "<div>\n",
       "<style scoped>\n",
       "    .dataframe tbody tr th:only-of-type {\n",
       "        vertical-align: middle;\n",
       "    }\n",
       "\n",
       "    .dataframe tbody tr th {\n",
       "        vertical-align: top;\n",
       "    }\n",
       "\n",
       "    .dataframe thead th {\n",
       "        text-align: right;\n",
       "    }\n",
       "</style>\n",
       "<table border=\"1\" class=\"dataframe\">\n",
       "  <thead>\n",
       "    <tr style=\"text-align: right;\">\n",
       "      <th></th>\n",
       "      <th>shipping.logistic_type___NA__</th>\n",
       "      <th>shipping.logistic_type_cross_docking</th>\n",
       "      <th>shipping.logistic_type_custom</th>\n",
       "      <th>shipping.logistic_type_default</th>\n",
       "      <th>shipping.logistic_type_drop_off</th>\n",
       "      <th>shipping.logistic_type_fulfillment</th>\n",
       "      <th>shipping.logistic_type_not_specified</th>\n",
       "      <th>shipping.logistic_type_xd_drop_off</th>\n",
       "      <th>listing_type_id_bronze</th>\n",
       "      <th>listing_type_id_gold</th>\n",
       "      <th>listing_type_id_gold_premium</th>\n",
       "      <th>listing_type_id_gold_pro</th>\n",
       "      <th>listing_type_id_gold_special</th>\n",
       "      <th>listing_type_id_silver</th>\n",
       "      <th>seller.seller_reputation.metrics.sales.period_365 days</th>\n",
       "      <th>seller.seller_reputation.metrics.sales.period_60 days</th>\n",
       "      <th>seller.seller_reputation.metrics.sales.period_60 months</th>\n",
       "      <th>seller.seller_reputation.metrics.sales.period___NA__</th>\n",
       "      <th>seller.seller_reputation.transactions.period___NA__</th>\n",
       "      <th>seller.seller_reputation.transactions.period_historic</th>\n",
       "      <th>condition___NA__</th>\n",
       "      <th>condition_new</th>\n",
       "      <th>condition_not_specified</th>\n",
       "      <th>condition_used</th>\n",
       "      <th>currency_id_ARS</th>\n",
       "      <th>currency_id_USD</th>\n",
       "      <th>currency_id___NA__</th>\n",
       "      <th>buying_mode_buy_it_now</th>\n",
       "      <th>buying_mode_classified</th>\n",
       "      <th>address.state_name_Bs.As. Costa Atlántica</th>\n",
       "      <th>address.state_name_Bs.As. G.B.A. Norte</th>\n",
       "      <th>address.state_name_Bs.As. G.B.A. Oeste</th>\n",
       "      <th>address.state_name_Bs.As. G.B.A. Sur</th>\n",
       "      <th>address.state_name_Buenos Aires</th>\n",
       "      <th>address.state_name_Buenos Aires Interior</th>\n",
       "      <th>address.state_name_Capital Federal</th>\n",
       "      <th>address.state_name_Catamarca</th>\n",
       "      <th>address.state_name_Chaco</th>\n",
       "      <th>address.state_name_Chubut</th>\n",
       "      <th>address.state_name_Corrientes</th>\n",
       "      <th>address.state_name_Córdoba</th>\n",
       "      <th>address.state_name_Entre Ríos</th>\n",
       "      <th>address.state_name_Formosa</th>\n",
       "      <th>address.state_name_Jujuy</th>\n",
       "      <th>address.state_name_La Pampa</th>\n",
       "      <th>address.state_name_La Rioja</th>\n",
       "      <th>address.state_name_Mendoza</th>\n",
       "      <th>address.state_name_Misiones</th>\n",
       "      <th>address.state_name_Neuquén</th>\n",
       "      <th>address.state_name_Río Negro</th>\n",
       "      <th>address.state_name_Salta</th>\n",
       "      <th>address.state_name_San Juan</th>\n",
       "      <th>address.state_name_San Luis</th>\n",
       "      <th>address.state_name_Santa Fe</th>\n",
       "      <th>address.state_name_Santiago del Estero</th>\n",
       "      <th>address.state_name_Tierra del Fuego</th>\n",
       "      <th>address.state_name_Tucumán</th>\n",
       "      <th>address.state_name_Uruguay</th>\n",
       "      <th>seller.seller_reputation.power_seller_status___NA__</th>\n",
       "      <th>seller.seller_reputation.power_seller_status_gold</th>\n",
       "      <th>seller.seller_reputation.power_seller_status_platinum</th>\n",
       "      <th>seller.seller_reputation.power_seller_status_silver</th>\n",
       "      <th>seller.seller_reputation.real_level___NA__</th>\n",
       "      <th>seller.seller_reputation.real_level_green</th>\n",
       "      <th>seller.seller_reputation.real_level_green_gold</th>\n",
       "      <th>seller.seller_reputation.real_level_green_platinum</th>\n",
       "      <th>seller.seller_reputation.real_level_green_silver</th>\n",
       "      <th>seller.seller_reputation.real_level_orange</th>\n",
       "      <th>seller.seller_reputation.real_level_red</th>\n",
       "      <th>seller.seller_reputation.real_level_yellow</th>\n",
       "      <th>shipping.mode_custom</th>\n",
       "      <th>shipping.mode_me1</th>\n",
       "      <th>shipping.mode_me2</th>\n",
       "      <th>shipping.mode_not_specified</th>\n",
       "      <th>available_quantity</th>\n",
       "      <th>installments.quantity</th>\n",
       "      <th>installments.rate</th>\n",
       "      <th>price</th>\n",
       "      <th>accepts_mercadopago</th>\n",
       "      <th>is_official_store</th>\n",
       "      <th>catalog_listing</th>\n",
       "      <th>seller.car_dealer</th>\n",
       "      <th>seller.real_estate_agency</th>\n",
       "      <th>seller.seller_reputation.transactions.total</th>\n",
       "      <th>seller.seller_reputation.transactions.canceled</th>\n",
       "      <th>seller.seller_reputation.transactions.ratings.negative</th>\n",
       "      <th>seller.seller_reputation.transactions.ratings.positive</th>\n",
       "      <th>seller.seller_reputation.transactions.ratings.neutral</th>\n",
       "      <th>seller.seller_reputation.transactions.completed</th>\n",
       "      <th>seller.seller_reputation.metrics.claims.rate</th>\n",
       "      <th>seller.seller_reputation.metrics.delayed_handling_time.rate</th>\n",
       "      <th>seller.seller_reputation.metrics.sales.completed</th>\n",
       "      <th>seller.seller_reputation.metrics.cancellations.rate</th>\n",
       "      <th>shipping.free_shipping</th>\n",
       "      <th>shipping.store_pick_up</th>\n",
       "      <th>discount</th>\n",
       "    </tr>\n",
       "  </thead>\n",
       "  <tbody>\n",
       "    <tr>\n",
       "      <th>0</th>\n",
       "      <td>0</td>\n",
       "      <td>1</td>\n",
       "      <td>0</td>\n",
       "      <td>0</td>\n",
       "      <td>0</td>\n",
       "      <td>0</td>\n",
       "      <td>0</td>\n",
       "      <td>0</td>\n",
       "      <td>0</td>\n",
       "      <td>0</td>\n",
       "      <td>0</td>\n",
       "      <td>0</td>\n",
       "      <td>1</td>\n",
       "      <td>0</td>\n",
       "      <td>0</td>\n",
       "      <td>1</td>\n",
       "      <td>0</td>\n",
       "      <td>0</td>\n",
       "      <td>0</td>\n",
       "      <td>1</td>\n",
       "      <td>0</td>\n",
       "      <td>1</td>\n",
       "      <td>0</td>\n",
       "      <td>0</td>\n",
       "      <td>1</td>\n",
       "      <td>0</td>\n",
       "      <td>0</td>\n",
       "      <td>1</td>\n",
       "      <td>0</td>\n",
       "      <td>0</td>\n",
       "      <td>0</td>\n",
       "      <td>0</td>\n",
       "      <td>0</td>\n",
       "      <td>1</td>\n",
       "      <td>0</td>\n",
       "      <td>0</td>\n",
       "      <td>0</td>\n",
       "      <td>0</td>\n",
       "      <td>0</td>\n",
       "      <td>0</td>\n",
       "      <td>0</td>\n",
       "      <td>0</td>\n",
       "      <td>0</td>\n",
       "      <td>0</td>\n",
       "      <td>0</td>\n",
       "      <td>0</td>\n",
       "      <td>0</td>\n",
       "      <td>0</td>\n",
       "      <td>0</td>\n",
       "      <td>0</td>\n",
       "      <td>0</td>\n",
       "      <td>0</td>\n",
       "      <td>0</td>\n",
       "      <td>0</td>\n",
       "      <td>0</td>\n",
       "      <td>0</td>\n",
       "      <td>0</td>\n",
       "      <td>0</td>\n",
       "      <td>0</td>\n",
       "      <td>0</td>\n",
       "      <td>1</td>\n",
       "      <td>0</td>\n",
       "      <td>1</td>\n",
       "      <td>0</td>\n",
       "      <td>0</td>\n",
       "      <td>0</td>\n",
       "      <td>0</td>\n",
       "      <td>0</td>\n",
       "      <td>0</td>\n",
       "      <td>0</td>\n",
       "      <td>0</td>\n",
       "      <td>0</td>\n",
       "      <td>1</td>\n",
       "      <td>0</td>\n",
       "      <td>0</td>\n",
       "      <td>0</td>\n",
       "      <td>1.0</td>\n",
       "      <td>0.366943</td>\n",
       "      <td>1.0</td>\n",
       "      <td>0.0</td>\n",
       "      <td>0.0</td>\n",
       "      <td>0.0</td>\n",
       "      <td>0.0</td>\n",
       "      <td>0.576251</td>\n",
       "      <td>0.505863</td>\n",
       "      <td>0.5</td>\n",
       "      <td>0.989899</td>\n",
       "      <td>0.5</td>\n",
       "      <td>0.581609</td>\n",
       "      <td>0.53</td>\n",
       "      <td>0.057292</td>\n",
       "      <td>0.518877</td>\n",
       "      <td>0.644444</td>\n",
       "      <td>0.0</td>\n",
       "      <td>0.0</td>\n",
       "      <td>0.0</td>\n",
       "    </tr>\n",
       "    <tr>\n",
       "      <th>1</th>\n",
       "      <td>0</td>\n",
       "      <td>0</td>\n",
       "      <td>0</td>\n",
       "      <td>0</td>\n",
       "      <td>0</td>\n",
       "      <td>1</td>\n",
       "      <td>0</td>\n",
       "      <td>0</td>\n",
       "      <td>0</td>\n",
       "      <td>0</td>\n",
       "      <td>0</td>\n",
       "      <td>0</td>\n",
       "      <td>1</td>\n",
       "      <td>0</td>\n",
       "      <td>0</td>\n",
       "      <td>1</td>\n",
       "      <td>0</td>\n",
       "      <td>0</td>\n",
       "      <td>0</td>\n",
       "      <td>1</td>\n",
       "      <td>0</td>\n",
       "      <td>1</td>\n",
       "      <td>0</td>\n",
       "      <td>0</td>\n",
       "      <td>1</td>\n",
       "      <td>0</td>\n",
       "      <td>0</td>\n",
       "      <td>1</td>\n",
       "      <td>0</td>\n",
       "      <td>0</td>\n",
       "      <td>0</td>\n",
       "      <td>0</td>\n",
       "      <td>0</td>\n",
       "      <td>1</td>\n",
       "      <td>0</td>\n",
       "      <td>0</td>\n",
       "      <td>0</td>\n",
       "      <td>0</td>\n",
       "      <td>0</td>\n",
       "      <td>0</td>\n",
       "      <td>0</td>\n",
       "      <td>0</td>\n",
       "      <td>0</td>\n",
       "      <td>0</td>\n",
       "      <td>0</td>\n",
       "      <td>0</td>\n",
       "      <td>0</td>\n",
       "      <td>0</td>\n",
       "      <td>0</td>\n",
       "      <td>0</td>\n",
       "      <td>0</td>\n",
       "      <td>0</td>\n",
       "      <td>0</td>\n",
       "      <td>0</td>\n",
       "      <td>0</td>\n",
       "      <td>0</td>\n",
       "      <td>0</td>\n",
       "      <td>0</td>\n",
       "      <td>0</td>\n",
       "      <td>0</td>\n",
       "      <td>1</td>\n",
       "      <td>0</td>\n",
       "      <td>1</td>\n",
       "      <td>0</td>\n",
       "      <td>0</td>\n",
       "      <td>0</td>\n",
       "      <td>0</td>\n",
       "      <td>0</td>\n",
       "      <td>0</td>\n",
       "      <td>0</td>\n",
       "      <td>0</td>\n",
       "      <td>0</td>\n",
       "      <td>1</td>\n",
       "      <td>0</td>\n",
       "      <td>0</td>\n",
       "      <td>0</td>\n",
       "      <td>1.0</td>\n",
       "      <td>0.969919</td>\n",
       "      <td>1.0</td>\n",
       "      <td>0.0</td>\n",
       "      <td>0.0</td>\n",
       "      <td>0.0</td>\n",
       "      <td>0.0</td>\n",
       "      <td>0.102387</td>\n",
       "      <td>0.097711</td>\n",
       "      <td>0.0</td>\n",
       "      <td>1.000000</td>\n",
       "      <td>0.0</td>\n",
       "      <td>0.102965</td>\n",
       "      <td>0.00</td>\n",
       "      <td>1.000000</td>\n",
       "      <td>0.109648</td>\n",
       "      <td>0.000000</td>\n",
       "      <td>1.0</td>\n",
       "      <td>0.0</td>\n",
       "      <td>0.0</td>\n",
       "    </tr>\n",
       "    <tr>\n",
       "      <th>2</th>\n",
       "      <td>0</td>\n",
       "      <td>0</td>\n",
       "      <td>0</td>\n",
       "      <td>0</td>\n",
       "      <td>0</td>\n",
       "      <td>0</td>\n",
       "      <td>1</td>\n",
       "      <td>0</td>\n",
       "      <td>0</td>\n",
       "      <td>0</td>\n",
       "      <td>1</td>\n",
       "      <td>0</td>\n",
       "      <td>0</td>\n",
       "      <td>0</td>\n",
       "      <td>1</td>\n",
       "      <td>0</td>\n",
       "      <td>0</td>\n",
       "      <td>0</td>\n",
       "      <td>0</td>\n",
       "      <td>1</td>\n",
       "      <td>0</td>\n",
       "      <td>0</td>\n",
       "      <td>0</td>\n",
       "      <td>1</td>\n",
       "      <td>1</td>\n",
       "      <td>0</td>\n",
       "      <td>0</td>\n",
       "      <td>0</td>\n",
       "      <td>1</td>\n",
       "      <td>0</td>\n",
       "      <td>0</td>\n",
       "      <td>0</td>\n",
       "      <td>0</td>\n",
       "      <td>0</td>\n",
       "      <td>0</td>\n",
       "      <td>1</td>\n",
       "      <td>0</td>\n",
       "      <td>0</td>\n",
       "      <td>0</td>\n",
       "      <td>0</td>\n",
       "      <td>0</td>\n",
       "      <td>0</td>\n",
       "      <td>0</td>\n",
       "      <td>0</td>\n",
       "      <td>0</td>\n",
       "      <td>0</td>\n",
       "      <td>0</td>\n",
       "      <td>0</td>\n",
       "      <td>0</td>\n",
       "      <td>0</td>\n",
       "      <td>0</td>\n",
       "      <td>0</td>\n",
       "      <td>0</td>\n",
       "      <td>0</td>\n",
       "      <td>0</td>\n",
       "      <td>0</td>\n",
       "      <td>0</td>\n",
       "      <td>0</td>\n",
       "      <td>1</td>\n",
       "      <td>0</td>\n",
       "      <td>0</td>\n",
       "      <td>0</td>\n",
       "      <td>1</td>\n",
       "      <td>0</td>\n",
       "      <td>0</td>\n",
       "      <td>0</td>\n",
       "      <td>0</td>\n",
       "      <td>0</td>\n",
       "      <td>0</td>\n",
       "      <td>0</td>\n",
       "      <td>0</td>\n",
       "      <td>0</td>\n",
       "      <td>0</td>\n",
       "      <td>1</td>\n",
       "      <td>0</td>\n",
       "      <td>1</td>\n",
       "      <td>0.0</td>\n",
       "      <td>1.000000</td>\n",
       "      <td>1.0</td>\n",
       "      <td>0.0</td>\n",
       "      <td>0.0</td>\n",
       "      <td>1.0</td>\n",
       "      <td>0.0</td>\n",
       "      <td>0.003804</td>\n",
       "      <td>0.040201</td>\n",
       "      <td>1.0</td>\n",
       "      <td>0.939394</td>\n",
       "      <td>1.0</td>\n",
       "      <td>0.002080</td>\n",
       "      <td>0.00</td>\n",
       "      <td>0.000000</td>\n",
       "      <td>0.011283</td>\n",
       "      <td>0.000000</td>\n",
       "      <td>0.0</td>\n",
       "      <td>0.0</td>\n",
       "      <td>0.0</td>\n",
       "    </tr>\n",
       "    <tr>\n",
       "      <th>3</th>\n",
       "      <td>0</td>\n",
       "      <td>0</td>\n",
       "      <td>0</td>\n",
       "      <td>0</td>\n",
       "      <td>0</td>\n",
       "      <td>1</td>\n",
       "      <td>0</td>\n",
       "      <td>0</td>\n",
       "      <td>0</td>\n",
       "      <td>0</td>\n",
       "      <td>0</td>\n",
       "      <td>0</td>\n",
       "      <td>1</td>\n",
       "      <td>0</td>\n",
       "      <td>0</td>\n",
       "      <td>1</td>\n",
       "      <td>0</td>\n",
       "      <td>0</td>\n",
       "      <td>0</td>\n",
       "      <td>1</td>\n",
       "      <td>0</td>\n",
       "      <td>1</td>\n",
       "      <td>0</td>\n",
       "      <td>0</td>\n",
       "      <td>1</td>\n",
       "      <td>0</td>\n",
       "      <td>0</td>\n",
       "      <td>1</td>\n",
       "      <td>0</td>\n",
       "      <td>0</td>\n",
       "      <td>0</td>\n",
       "      <td>0</td>\n",
       "      <td>0</td>\n",
       "      <td>0</td>\n",
       "      <td>0</td>\n",
       "      <td>1</td>\n",
       "      <td>0</td>\n",
       "      <td>0</td>\n",
       "      <td>0</td>\n",
       "      <td>0</td>\n",
       "      <td>0</td>\n",
       "      <td>0</td>\n",
       "      <td>0</td>\n",
       "      <td>0</td>\n",
       "      <td>0</td>\n",
       "      <td>0</td>\n",
       "      <td>0</td>\n",
       "      <td>0</td>\n",
       "      <td>0</td>\n",
       "      <td>0</td>\n",
       "      <td>0</td>\n",
       "      <td>0</td>\n",
       "      <td>0</td>\n",
       "      <td>0</td>\n",
       "      <td>0</td>\n",
       "      <td>0</td>\n",
       "      <td>0</td>\n",
       "      <td>0</td>\n",
       "      <td>0</td>\n",
       "      <td>0</td>\n",
       "      <td>1</td>\n",
       "      <td>0</td>\n",
       "      <td>1</td>\n",
       "      <td>0</td>\n",
       "      <td>0</td>\n",
       "      <td>0</td>\n",
       "      <td>0</td>\n",
       "      <td>0</td>\n",
       "      <td>0</td>\n",
       "      <td>0</td>\n",
       "      <td>0</td>\n",
       "      <td>0</td>\n",
       "      <td>1</td>\n",
       "      <td>0</td>\n",
       "      <td>0</td>\n",
       "      <td>0</td>\n",
       "      <td>1.0</td>\n",
       "      <td>1.000000</td>\n",
       "      <td>1.0</td>\n",
       "      <td>0.0</td>\n",
       "      <td>0.0</td>\n",
       "      <td>0.0</td>\n",
       "      <td>0.0</td>\n",
       "      <td>0.360445</td>\n",
       "      <td>0.438861</td>\n",
       "      <td>0.0</td>\n",
       "      <td>1.000000</td>\n",
       "      <td>0.0</td>\n",
       "      <td>0.357950</td>\n",
       "      <td>0.57</td>\n",
       "      <td>0.531250</td>\n",
       "      <td>0.336323</td>\n",
       "      <td>0.000000</td>\n",
       "      <td>1.0</td>\n",
       "      <td>0.0</td>\n",
       "      <td>0.0</td>\n",
       "    </tr>\n",
       "    <tr>\n",
       "      <th>4</th>\n",
       "      <td>0</td>\n",
       "      <td>0</td>\n",
       "      <td>0</td>\n",
       "      <td>0</td>\n",
       "      <td>0</td>\n",
       "      <td>0</td>\n",
       "      <td>1</td>\n",
       "      <td>0</td>\n",
       "      <td>0</td>\n",
       "      <td>1</td>\n",
       "      <td>0</td>\n",
       "      <td>0</td>\n",
       "      <td>0</td>\n",
       "      <td>0</td>\n",
       "      <td>1</td>\n",
       "      <td>0</td>\n",
       "      <td>0</td>\n",
       "      <td>0</td>\n",
       "      <td>0</td>\n",
       "      <td>1</td>\n",
       "      <td>0</td>\n",
       "      <td>1</td>\n",
       "      <td>0</td>\n",
       "      <td>0</td>\n",
       "      <td>0</td>\n",
       "      <td>1</td>\n",
       "      <td>0</td>\n",
       "      <td>0</td>\n",
       "      <td>1</td>\n",
       "      <td>0</td>\n",
       "      <td>0</td>\n",
       "      <td>0</td>\n",
       "      <td>0</td>\n",
       "      <td>0</td>\n",
       "      <td>0</td>\n",
       "      <td>1</td>\n",
       "      <td>0</td>\n",
       "      <td>0</td>\n",
       "      <td>0</td>\n",
       "      <td>0</td>\n",
       "      <td>0</td>\n",
       "      <td>0</td>\n",
       "      <td>0</td>\n",
       "      <td>0</td>\n",
       "      <td>0</td>\n",
       "      <td>0</td>\n",
       "      <td>0</td>\n",
       "      <td>0</td>\n",
       "      <td>0</td>\n",
       "      <td>0</td>\n",
       "      <td>0</td>\n",
       "      <td>0</td>\n",
       "      <td>0</td>\n",
       "      <td>0</td>\n",
       "      <td>0</td>\n",
       "      <td>0</td>\n",
       "      <td>0</td>\n",
       "      <td>0</td>\n",
       "      <td>1</td>\n",
       "      <td>0</td>\n",
       "      <td>0</td>\n",
       "      <td>0</td>\n",
       "      <td>1</td>\n",
       "      <td>0</td>\n",
       "      <td>0</td>\n",
       "      <td>0</td>\n",
       "      <td>0</td>\n",
       "      <td>0</td>\n",
       "      <td>0</td>\n",
       "      <td>0</td>\n",
       "      <td>0</td>\n",
       "      <td>0</td>\n",
       "      <td>0</td>\n",
       "      <td>1</td>\n",
       "      <td>0</td>\n",
       "      <td>1</td>\n",
       "      <td>0.0</td>\n",
       "      <td>1.000000</td>\n",
       "      <td>0.0</td>\n",
       "      <td>0.0</td>\n",
       "      <td>0.0</td>\n",
       "      <td>0.0</td>\n",
       "      <td>1.0</td>\n",
       "      <td>0.000000</td>\n",
       "      <td>0.000000</td>\n",
       "      <td>0.0</td>\n",
       "      <td>0.000000</td>\n",
       "      <td>0.0</td>\n",
       "      <td>0.000000</td>\n",
       "      <td>0.00</td>\n",
       "      <td>0.000000</td>\n",
       "      <td>0.000000</td>\n",
       "      <td>0.000000</td>\n",
       "      <td>0.0</td>\n",
       "      <td>0.0</td>\n",
       "      <td>0.0</td>\n",
       "    </tr>\n",
       "  </tbody>\n",
       "</table>\n",
       "</div>"
      ],
      "text/plain": [
       "   shipping.logistic_type___NA__  shipping.logistic_type_cross_docking  \\\n",
       "0                              0                                     1   \n",
       "1                              0                                     0   \n",
       "2                              0                                     0   \n",
       "3                              0                                     0   \n",
       "4                              0                                     0   \n",
       "\n",
       "   shipping.logistic_type_custom  shipping.logistic_type_default  \\\n",
       "0                              0                               0   \n",
       "1                              0                               0   \n",
       "2                              0                               0   \n",
       "3                              0                               0   \n",
       "4                              0                               0   \n",
       "\n",
       "   shipping.logistic_type_drop_off  shipping.logistic_type_fulfillment  \\\n",
       "0                                0                                   0   \n",
       "1                                0                                   1   \n",
       "2                                0                                   0   \n",
       "3                                0                                   1   \n",
       "4                                0                                   0   \n",
       "\n",
       "   shipping.logistic_type_not_specified  shipping.logistic_type_xd_drop_off  \\\n",
       "0                                     0                                   0   \n",
       "1                                     0                                   0   \n",
       "2                                     1                                   0   \n",
       "3                                     0                                   0   \n",
       "4                                     1                                   0   \n",
       "\n",
       "   listing_type_id_bronze  listing_type_id_gold  listing_type_id_gold_premium  \\\n",
       "0                       0                     0                             0   \n",
       "1                       0                     0                             0   \n",
       "2                       0                     0                             1   \n",
       "3                       0                     0                             0   \n",
       "4                       0                     1                             0   \n",
       "\n",
       "   listing_type_id_gold_pro  listing_type_id_gold_special  \\\n",
       "0                         0                             1   \n",
       "1                         0                             1   \n",
       "2                         0                             0   \n",
       "3                         0                             1   \n",
       "4                         0                             0   \n",
       "\n",
       "   listing_type_id_silver  \\\n",
       "0                       0   \n",
       "1                       0   \n",
       "2                       0   \n",
       "3                       0   \n",
       "4                       0   \n",
       "\n",
       "   seller.seller_reputation.metrics.sales.period_365 days  \\\n",
       "0                                                  0        \n",
       "1                                                  0        \n",
       "2                                                  1        \n",
       "3                                                  0        \n",
       "4                                                  1        \n",
       "\n",
       "   seller.seller_reputation.metrics.sales.period_60 days  \\\n",
       "0                                                  1       \n",
       "1                                                  1       \n",
       "2                                                  0       \n",
       "3                                                  1       \n",
       "4                                                  0       \n",
       "\n",
       "   seller.seller_reputation.metrics.sales.period_60 months  \\\n",
       "0                                                  0         \n",
       "1                                                  0         \n",
       "2                                                  0         \n",
       "3                                                  0         \n",
       "4                                                  0         \n",
       "\n",
       "   seller.seller_reputation.metrics.sales.period___NA__  \\\n",
       "0                                                  0      \n",
       "1                                                  0      \n",
       "2                                                  0      \n",
       "3                                                  0      \n",
       "4                                                  0      \n",
       "\n",
       "   seller.seller_reputation.transactions.period___NA__  \\\n",
       "0                                                  0     \n",
       "1                                                  0     \n",
       "2                                                  0     \n",
       "3                                                  0     \n",
       "4                                                  0     \n",
       "\n",
       "   seller.seller_reputation.transactions.period_historic  condition___NA__  \\\n",
       "0                                                  1                     0   \n",
       "1                                                  1                     0   \n",
       "2                                                  1                     0   \n",
       "3                                                  1                     0   \n",
       "4                                                  1                     0   \n",
       "\n",
       "   condition_new  condition_not_specified  condition_used  currency_id_ARS  \\\n",
       "0              1                        0               0                1   \n",
       "1              1                        0               0                1   \n",
       "2              0                        0               1                1   \n",
       "3              1                        0               0                1   \n",
       "4              1                        0               0                0   \n",
       "\n",
       "   currency_id_USD  currency_id___NA__  buying_mode_buy_it_now  \\\n",
       "0                0                   0                       1   \n",
       "1                0                   0                       1   \n",
       "2                0                   0                       0   \n",
       "3                0                   0                       1   \n",
       "4                1                   0                       0   \n",
       "\n",
       "   buying_mode_classified  address.state_name_Bs.As. Costa Atlántica  \\\n",
       "0                       0                                          0   \n",
       "1                       0                                          0   \n",
       "2                       1                                          0   \n",
       "3                       0                                          0   \n",
       "4                       1                                          0   \n",
       "\n",
       "   address.state_name_Bs.As. G.B.A. Norte  \\\n",
       "0                                       0   \n",
       "1                                       0   \n",
       "2                                       0   \n",
       "3                                       0   \n",
       "4                                       0   \n",
       "\n",
       "   address.state_name_Bs.As. G.B.A. Oeste  \\\n",
       "0                                       0   \n",
       "1                                       0   \n",
       "2                                       0   \n",
       "3                                       0   \n",
       "4                                       0   \n",
       "\n",
       "   address.state_name_Bs.As. G.B.A. Sur  address.state_name_Buenos Aires  \\\n",
       "0                                     0                                1   \n",
       "1                                     0                                1   \n",
       "2                                     0                                0   \n",
       "3                                     0                                0   \n",
       "4                                     0                                0   \n",
       "\n",
       "   address.state_name_Buenos Aires Interior  \\\n",
       "0                                         0   \n",
       "1                                         0   \n",
       "2                                         0   \n",
       "3                                         0   \n",
       "4                                         0   \n",
       "\n",
       "   address.state_name_Capital Federal  address.state_name_Catamarca  \\\n",
       "0                                   0                             0   \n",
       "1                                   0                             0   \n",
       "2                                   1                             0   \n",
       "3                                   1                             0   \n",
       "4                                   1                             0   \n",
       "\n",
       "   address.state_name_Chaco  address.state_name_Chubut  \\\n",
       "0                         0                          0   \n",
       "1                         0                          0   \n",
       "2                         0                          0   \n",
       "3                         0                          0   \n",
       "4                         0                          0   \n",
       "\n",
       "   address.state_name_Corrientes  address.state_name_Córdoba  \\\n",
       "0                              0                           0   \n",
       "1                              0                           0   \n",
       "2                              0                           0   \n",
       "3                              0                           0   \n",
       "4                              0                           0   \n",
       "\n",
       "   address.state_name_Entre Ríos  address.state_name_Formosa  \\\n",
       "0                              0                           0   \n",
       "1                              0                           0   \n",
       "2                              0                           0   \n",
       "3                              0                           0   \n",
       "4                              0                           0   \n",
       "\n",
       "   address.state_name_Jujuy  address.state_name_La Pampa  \\\n",
       "0                         0                            0   \n",
       "1                         0                            0   \n",
       "2                         0                            0   \n",
       "3                         0                            0   \n",
       "4                         0                            0   \n",
       "\n",
       "   address.state_name_La Rioja  address.state_name_Mendoza  \\\n",
       "0                            0                           0   \n",
       "1                            0                           0   \n",
       "2                            0                           0   \n",
       "3                            0                           0   \n",
       "4                            0                           0   \n",
       "\n",
       "   address.state_name_Misiones  address.state_name_Neuquén  \\\n",
       "0                            0                           0   \n",
       "1                            0                           0   \n",
       "2                            0                           0   \n",
       "3                            0                           0   \n",
       "4                            0                           0   \n",
       "\n",
       "   address.state_name_Río Negro  address.state_name_Salta  \\\n",
       "0                             0                         0   \n",
       "1                             0                         0   \n",
       "2                             0                         0   \n",
       "3                             0                         0   \n",
       "4                             0                         0   \n",
       "\n",
       "   address.state_name_San Juan  address.state_name_San Luis  \\\n",
       "0                            0                            0   \n",
       "1                            0                            0   \n",
       "2                            0                            0   \n",
       "3                            0                            0   \n",
       "4                            0                            0   \n",
       "\n",
       "   address.state_name_Santa Fe  address.state_name_Santiago del Estero  \\\n",
       "0                            0                                       0   \n",
       "1                            0                                       0   \n",
       "2                            0                                       0   \n",
       "3                            0                                       0   \n",
       "4                            0                                       0   \n",
       "\n",
       "   address.state_name_Tierra del Fuego  address.state_name_Tucumán  \\\n",
       "0                                    0                           0   \n",
       "1                                    0                           0   \n",
       "2                                    0                           0   \n",
       "3                                    0                           0   \n",
       "4                                    0                           0   \n",
       "\n",
       "   address.state_name_Uruguay  \\\n",
       "0                           0   \n",
       "1                           0   \n",
       "2                           0   \n",
       "3                           0   \n",
       "4                           0   \n",
       "\n",
       "   seller.seller_reputation.power_seller_status___NA__  \\\n",
       "0                                                  0     \n",
       "1                                                  0     \n",
       "2                                                  1     \n",
       "3                                                  0     \n",
       "4                                                  1     \n",
       "\n",
       "   seller.seller_reputation.power_seller_status_gold  \\\n",
       "0                                                  0   \n",
       "1                                                  0   \n",
       "2                                                  0   \n",
       "3                                                  0   \n",
       "4                                                  0   \n",
       "\n",
       "   seller.seller_reputation.power_seller_status_platinum  \\\n",
       "0                                                  1       \n",
       "1                                                  1       \n",
       "2                                                  0       \n",
       "3                                                  1       \n",
       "4                                                  0       \n",
       "\n",
       "   seller.seller_reputation.power_seller_status_silver  \\\n",
       "0                                                  0     \n",
       "1                                                  0     \n",
       "2                                                  0     \n",
       "3                                                  0     \n",
       "4                                                  0     \n",
       "\n",
       "   seller.seller_reputation.real_level___NA__  \\\n",
       "0                                           1   \n",
       "1                                           1   \n",
       "2                                           1   \n",
       "3                                           1   \n",
       "4                                           1   \n",
       "\n",
       "   seller.seller_reputation.real_level_green  \\\n",
       "0                                          0   \n",
       "1                                          0   \n",
       "2                                          0   \n",
       "3                                          0   \n",
       "4                                          0   \n",
       "\n",
       "   seller.seller_reputation.real_level_green_gold  \\\n",
       "0                                               0   \n",
       "1                                               0   \n",
       "2                                               0   \n",
       "3                                               0   \n",
       "4                                               0   \n",
       "\n",
       "   seller.seller_reputation.real_level_green_platinum  \\\n",
       "0                                                  0    \n",
       "1                                                  0    \n",
       "2                                                  0    \n",
       "3                                                  0    \n",
       "4                                                  0    \n",
       "\n",
       "   seller.seller_reputation.real_level_green_silver  \\\n",
       "0                                                 0   \n",
       "1                                                 0   \n",
       "2                                                 0   \n",
       "3                                                 0   \n",
       "4                                                 0   \n",
       "\n",
       "   seller.seller_reputation.real_level_orange  \\\n",
       "0                                           0   \n",
       "1                                           0   \n",
       "2                                           0   \n",
       "3                                           0   \n",
       "4                                           0   \n",
       "\n",
       "   seller.seller_reputation.real_level_red  \\\n",
       "0                                        0   \n",
       "1                                        0   \n",
       "2                                        0   \n",
       "3                                        0   \n",
       "4                                        0   \n",
       "\n",
       "   seller.seller_reputation.real_level_yellow  shipping.mode_custom  \\\n",
       "0                                           0                     0   \n",
       "1                                           0                     0   \n",
       "2                                           0                     0   \n",
       "3                                           0                     0   \n",
       "4                                           0                     0   \n",
       "\n",
       "   shipping.mode_me1  shipping.mode_me2  shipping.mode_not_specified  \\\n",
       "0                  0                  1                            0   \n",
       "1                  0                  1                            0   \n",
       "2                  0                  0                            1   \n",
       "3                  0                  1                            0   \n",
       "4                  0                  0                            1   \n",
       "\n",
       "   available_quantity  installments.quantity  installments.rate     price  \\\n",
       "0                   0                      0                1.0  0.366943   \n",
       "1                   0                      0                1.0  0.969919   \n",
       "2                   0                      1                0.0  1.000000   \n",
       "3                   0                      0                1.0  1.000000   \n",
       "4                   0                      1                0.0  1.000000   \n",
       "\n",
       "   accepts_mercadopago  is_official_store  catalog_listing  seller.car_dealer  \\\n",
       "0                  1.0                0.0              0.0                0.0   \n",
       "1                  1.0                0.0              0.0                0.0   \n",
       "2                  1.0                0.0              0.0                1.0   \n",
       "3                  1.0                0.0              0.0                0.0   \n",
       "4                  0.0                0.0              0.0                0.0   \n",
       "\n",
       "   seller.real_estate_agency  seller.seller_reputation.transactions.total  \\\n",
       "0                        0.0                                     0.576251   \n",
       "1                        0.0                                     0.102387   \n",
       "2                        0.0                                     0.003804   \n",
       "3                        0.0                                     0.360445   \n",
       "4                        1.0                                     0.000000   \n",
       "\n",
       "   seller.seller_reputation.transactions.canceled  \\\n",
       "0                                        0.505863   \n",
       "1                                        0.097711   \n",
       "2                                        0.040201   \n",
       "3                                        0.438861   \n",
       "4                                        0.000000   \n",
       "\n",
       "   seller.seller_reputation.transactions.ratings.negative  \\\n",
       "0                                                0.5        \n",
       "1                                                0.0        \n",
       "2                                                1.0        \n",
       "3                                                0.0        \n",
       "4                                                0.0        \n",
       "\n",
       "   seller.seller_reputation.transactions.ratings.positive  \\\n",
       "0                                           0.989899        \n",
       "1                                           1.000000        \n",
       "2                                           0.939394        \n",
       "3                                           1.000000        \n",
       "4                                           0.000000        \n",
       "\n",
       "   seller.seller_reputation.transactions.ratings.neutral  \\\n",
       "0                                                0.5       \n",
       "1                                                0.0       \n",
       "2                                                1.0       \n",
       "3                                                0.0       \n",
       "4                                                0.0       \n",
       "\n",
       "   seller.seller_reputation.transactions.completed  \\\n",
       "0                                         0.581609   \n",
       "1                                         0.102965   \n",
       "2                                         0.002080   \n",
       "3                                         0.357950   \n",
       "4                                         0.000000   \n",
       "\n",
       "   seller.seller_reputation.metrics.claims.rate  \\\n",
       "0                                          0.53   \n",
       "1                                          0.00   \n",
       "2                                          0.00   \n",
       "3                                          0.57   \n",
       "4                                          0.00   \n",
       "\n",
       "   seller.seller_reputation.metrics.delayed_handling_time.rate  \\\n",
       "0                                           0.057292             \n",
       "1                                           1.000000             \n",
       "2                                           0.000000             \n",
       "3                                           0.531250             \n",
       "4                                           0.000000             \n",
       "\n",
       "   seller.seller_reputation.metrics.sales.completed  \\\n",
       "0                                          0.518877   \n",
       "1                                          0.109648   \n",
       "2                                          0.011283   \n",
       "3                                          0.336323   \n",
       "4                                          0.000000   \n",
       "\n",
       "   seller.seller_reputation.metrics.cancellations.rate  \\\n",
       "0                                           0.644444     \n",
       "1                                           0.000000     \n",
       "2                                           0.000000     \n",
       "3                                           0.000000     \n",
       "4                                           0.000000     \n",
       "\n",
       "   shipping.free_shipping  shipping.store_pick_up  discount  \n",
       "0                     0.0                     0.0       0.0  \n",
       "1                     1.0                     0.0       0.0  \n",
       "2                     0.0                     0.0       0.0  \n",
       "3                     1.0                     0.0       0.0  \n",
       "4                     0.0                     0.0       0.0  "
      ]
     },
     "execution_count": 44,
     "metadata": {},
     "output_type": "execute_result"
    }
   ],
   "source": [
    "X_train_copy.head()"
   ]
  },
  {
   "cell_type": "code",
   "execution_count": 45,
   "metadata": {
    "scrolled": false
   },
   "outputs": [
    {
     "data": {
      "text/plain": [
       "0.000000    20377\n",
       "0.050000      253\n",
       "0.100000      122\n",
       "0.050000       87\n",
       "0.060000       56\n",
       "            ...  \n",
       "0.152371        1\n",
       "0.300060        1\n",
       "0.200046        1\n",
       "0.100022        1\n",
       "0.102102        1\n",
       "Name: discount, Length: 1466, dtype: int64"
      ]
     },
     "execution_count": 45,
     "metadata": {},
     "output_type": "execute_result"
    }
   ],
   "source": [
    "X_train_copy.discount.value_counts()"
   ]
  },
  {
   "cell_type": "code",
   "execution_count": 59,
   "metadata": {
    "scrolled": false
   },
   "outputs": [
    {
     "data": {
      "text/plain": [
       "0    24048\n",
       "2     1753\n",
       "1     1749\n",
       "3      471\n",
       "4       50\n",
       "Name: installments.quantity, dtype: int64"
      ]
     },
     "execution_count": 59,
     "metadata": {},
     "output_type": "execute_result"
    }
   ],
   "source": [
    "X_train_copy['installments.quantity'].value_counts()"
   ]
  },
  {
   "cell_type": "code",
   "execution_count": 47,
   "metadata": {
    "scrolled": true
   },
   "outputs": [
    {
     "data": {
      "text/plain": [
       "1.000000    5800\n",
       "0.000000     185\n",
       "0.198149     153\n",
       "0.694216     135\n",
       "0.396496     131\n",
       "            ... \n",
       "0.049240       1\n",
       "0.085279       1\n",
       "0.043240       1\n",
       "0.069412       1\n",
       "0.628255       1\n",
       "Name: price, Length: 4393, dtype: int64"
      ]
     },
     "execution_count": 47,
     "metadata": {},
     "output_type": "execute_result"
    }
   ],
   "source": [
    "X_train_copy['price'].value_counts()"
   ]
  },
  {
   "cell_type": "code",
   "execution_count": 57,
   "metadata": {
    "scrolled": true
   },
   "outputs": [
    {
     "data": {
      "text/plain": [
       "0    16874\n",
       "4     3049\n",
       "3     2838\n",
       "2     1723\n",
       "1     1203\n",
       "7      875\n",
       "5      753\n",
       "6      486\n",
       "8      270\n",
       "Name: available_quantity, dtype: int64"
      ]
     },
     "execution_count": 57,
     "metadata": {},
     "output_type": "execute_result"
    }
   ],
   "source": [
    "X_train_copy.available_quantity.value_counts()"
   ]
  },
  {
   "cell_type": "code",
   "execution_count": 55,
   "metadata": {
    "scrolled": false
   },
   "outputs": [
    {
     "data": {
      "text/plain": [
       "0.000000    25393\n",
       "1.000000     2455\n",
       "0.936369        1\n",
       "0.658240        1\n",
       "0.077141        1\n",
       "            ...  \n",
       "0.509499        1\n",
       "0.079113        1\n",
       "0.204081        1\n",
       "0.583497        1\n",
       "0.460691        1\n",
       "Name: is_official_store, Length: 225, dtype: int64"
      ]
     },
     "execution_count": 55,
     "metadata": {},
     "output_type": "execute_result"
    }
   ],
   "source": [
    "X_train_copy.is_official_store.value_counts()"
   ]
  },
  {
   "cell_type": "markdown",
   "metadata": {},
   "source": [
    "## smote"
   ]
  },
  {
   "cell_type": "code",
   "execution_count": 48,
   "metadata": {},
   "outputs": [],
   "source": [
    "oversample = SMOTE(n_jobs=7,\n",
    "                  sampling_strategy= smote_sampling_strategy)\n",
    "X_train_copy, Y_train_copy = oversample.fit_resample(X_train_copy, Y_train_copy)\n"
   ]
  },
  {
   "cell_type": "markdown",
   "metadata": {},
   "source": [
    "Instancias por clase post resampling:"
   ]
  },
  {
   "cell_type": "code",
   "execution_count": 49,
   "metadata": {},
   "outputs": [
    {
     "data": {
      "text/plain": [
       "1        3061\n",
       "5        2652\n",
       "25       2076\n",
       "50       3162\n",
       "100      2334\n",
       "150      1989\n",
       "200      1617\n",
       "250      3493\n",
       "500      6885\n",
       "5000      792\n",
       "50000      10\n",
       "Name: sold_quantity, dtype: int64"
      ]
     },
     "execution_count": 49,
     "metadata": {},
     "output_type": "execute_result"
    }
   ],
   "source": [
    "Y_train_copy.value_counts().sort_index()"
   ]
  },
  {
   "cell_type": "code",
   "execution_count": 50,
   "metadata": {},
   "outputs": [
    {
     "data": {
      "text/plain": [
       "['shipping.logistic_type___NA__',\n",
       " 'shipping.logistic_type_cross_docking',\n",
       " 'shipping.logistic_type_custom',\n",
       " 'shipping.logistic_type_default',\n",
       " 'shipping.logistic_type_drop_off',\n",
       " 'shipping.logistic_type_fulfillment',\n",
       " 'shipping.logistic_type_not_specified',\n",
       " 'shipping.logistic_type_xd_drop_off',\n",
       " 'listing_type_id_bronze',\n",
       " 'listing_type_id_gold',\n",
       " 'listing_type_id_gold_premium',\n",
       " 'listing_type_id_gold_pro',\n",
       " 'listing_type_id_gold_special',\n",
       " 'listing_type_id_silver',\n",
       " 'seller.seller_reputation.metrics.sales.period_365 days',\n",
       " 'seller.seller_reputation.metrics.sales.period_60 days',\n",
       " 'seller.seller_reputation.metrics.sales.period_60 months',\n",
       " 'seller.seller_reputation.metrics.sales.period___NA__',\n",
       " 'seller.seller_reputation.transactions.period___NA__',\n",
       " 'seller.seller_reputation.transactions.period_historic',\n",
       " 'condition___NA__',\n",
       " 'condition_new',\n",
       " 'condition_not_specified',\n",
       " 'condition_used',\n",
       " 'currency_id_ARS',\n",
       " 'currency_id_USD',\n",
       " 'currency_id___NA__',\n",
       " 'buying_mode_buy_it_now',\n",
       " 'buying_mode_classified',\n",
       " 'address.state_name_Bs.As. Costa Atlántica',\n",
       " 'address.state_name_Bs.As. G.B.A. Norte',\n",
       " 'address.state_name_Bs.As. G.B.A. Oeste',\n",
       " 'address.state_name_Bs.As. G.B.A. Sur',\n",
       " 'address.state_name_Buenos Aires',\n",
       " 'address.state_name_Buenos Aires Interior',\n",
       " 'address.state_name_Capital Federal',\n",
       " 'address.state_name_Catamarca',\n",
       " 'address.state_name_Chaco',\n",
       " 'address.state_name_Chubut',\n",
       " 'address.state_name_Corrientes',\n",
       " 'address.state_name_Córdoba',\n",
       " 'address.state_name_Entre Ríos',\n",
       " 'address.state_name_Formosa',\n",
       " 'address.state_name_Jujuy',\n",
       " 'address.state_name_La Pampa',\n",
       " 'address.state_name_La Rioja',\n",
       " 'address.state_name_Mendoza',\n",
       " 'address.state_name_Misiones',\n",
       " 'address.state_name_Neuquén',\n",
       " 'address.state_name_Río Negro',\n",
       " 'address.state_name_Salta',\n",
       " 'address.state_name_San Juan',\n",
       " 'address.state_name_San Luis',\n",
       " 'address.state_name_Santa Fe',\n",
       " 'address.state_name_Santiago del Estero',\n",
       " 'address.state_name_Tierra del Fuego',\n",
       " 'address.state_name_Tucumán',\n",
       " 'address.state_name_Uruguay',\n",
       " 'seller.seller_reputation.power_seller_status___NA__',\n",
       " 'seller.seller_reputation.power_seller_status_gold',\n",
       " 'seller.seller_reputation.power_seller_status_platinum',\n",
       " 'seller.seller_reputation.power_seller_status_silver',\n",
       " 'seller.seller_reputation.real_level___NA__',\n",
       " 'seller.seller_reputation.real_level_green',\n",
       " 'seller.seller_reputation.real_level_green_gold',\n",
       " 'seller.seller_reputation.real_level_green_platinum',\n",
       " 'seller.seller_reputation.real_level_green_silver',\n",
       " 'seller.seller_reputation.real_level_orange',\n",
       " 'seller.seller_reputation.real_level_red',\n",
       " 'seller.seller_reputation.real_level_yellow',\n",
       " 'shipping.mode_custom',\n",
       " 'shipping.mode_me1',\n",
       " 'shipping.mode_me2',\n",
       " 'shipping.mode_not_specified',\n",
       " 'available_quantity',\n",
       " 'installments.quantity',\n",
       " 'installments.rate',\n",
       " 'price',\n",
       " 'accepts_mercadopago',\n",
       " 'is_official_store',\n",
       " 'catalog_listing',\n",
       " 'seller.car_dealer',\n",
       " 'seller.real_estate_agency',\n",
       " 'seller.seller_reputation.transactions.total',\n",
       " 'seller.seller_reputation.transactions.canceled',\n",
       " 'seller.seller_reputation.transactions.ratings.negative',\n",
       " 'seller.seller_reputation.transactions.ratings.positive',\n",
       " 'seller.seller_reputation.transactions.ratings.neutral',\n",
       " 'seller.seller_reputation.transactions.completed',\n",
       " 'seller.seller_reputation.metrics.claims.rate',\n",
       " 'seller.seller_reputation.metrics.delayed_handling_time.rate',\n",
       " 'seller.seller_reputation.metrics.sales.completed',\n",
       " 'seller.seller_reputation.metrics.cancellations.rate',\n",
       " 'shipping.free_shipping',\n",
       " 'shipping.store_pick_up',\n",
       " 'discount']"
      ]
     },
     "execution_count": 50,
     "metadata": {},
     "output_type": "execute_result"
    }
   ],
   "source": [
    "columns_names = X_train_copy.columns\n",
    "columns_names.tolist()"
   ]
  },
  {
   "cell_type": "code",
   "execution_count": 51,
   "metadata": {},
   "outputs": [
    {
     "data": {
      "text/plain": [
       "['data/cols.joblib']"
      ]
     },
     "execution_count": 51,
     "metadata": {},
     "output_type": "execute_result"
    }
   ],
   "source": [
    "path_columns = data_path + 'cols.joblib'\n",
    "joblib.dump(columns_names, path_columns)"
   ]
  },
  {
   "cell_type": "code",
   "execution_count": 52,
   "metadata": {},
   "outputs": [],
   "source": [
    "models_path_template = models_path + '{}.joblib'"
   ]
  },
  {
   "cell_type": "code",
   "execution_count": 53,
   "metadata": {},
   "outputs": [],
   "source": [
    "basic_opt_params = {'scoring': 'f1_macro', 'cv': cv_n, 'n_jobs': 7}"
   ]
  },
  {
   "cell_type": "code",
   "execution_count": 54,
   "metadata": {},
   "outputs": [
    {
     "name": "stderr",
     "output_type": "stream",
     "text": [
      "  0%|                                                                                                                                  | 0/3 [00:00<?, ?it/s]c:\\users\\a309549\\appdata\\local\\programs\\python\\python39\\lib\\site-packages\\xgboost\\sklearn.py:888: UserWarning: The use of label encoder in XGBClassifier is deprecated and will be removed in a future release. To remove this warning, do the following: 1) Pass option use_label_encoder=False when constructing XGBClassifier object; and 2) Encode your labels (y) as integers starting with 0, i.e. 0, 1, 2, ..., [num_class - 1].\n",
      "  warnings.warn(label_encoder_deprecation_msg, UserWarning)\n"
     ]
    },
    {
     "name": "stdout",
     "output_type": "stream",
     "text": [
      "[23:43:13] WARNING: C:/Users/Administrator/workspace/xgboost-win64_release_1.3.0/src/learner.cc:1061: Starting in XGBoost 1.3.0, the default evaluation metric used with the objective 'multi:softprob' was changed from 'merror' to 'mlogloss'. Explicitly set eval_metric if you'd like to restore the old behavior.\n"
     ]
    },
    {
     "name": "stderr",
     "output_type": "stream",
     "text": [
      " 33%|██████████████████████████████████████▎                                                                            | 1/3 [2:55:33<5:51:06, 10533.38s/it]c:\\users\\a309549\\appdata\\local\\programs\\python\\python39\\lib\\site-packages\\sklearn\\linear_model\\_sag.py:328: ConvergenceWarning: The max_iter was reached which means the coef_ did not converge\n",
      "  warnings.warn(\"The max_iter was reached which means \"\n",
      "c:\\users\\a309549\\appdata\\local\\programs\\python\\python39\\lib\\site-packages\\sklearn\\linear_model\\_sag.py:328: ConvergenceWarning: The max_iter was reached which means the coef_ did not converge\n",
      "  warnings.warn(\"The max_iter was reached which means \"\n",
      "c:\\users\\a309549\\appdata\\local\\programs\\python\\python39\\lib\\site-packages\\sklearn\\linear_model\\_sag.py:328: ConvergenceWarning: The max_iter was reached which means the coef_ did not converge\n",
      "  warnings.warn(\"The max_iter was reached which means \"\n",
      "c:\\users\\a309549\\appdata\\local\\programs\\python\\python39\\lib\\site-packages\\sklearn\\linear_model\\_sag.py:328: ConvergenceWarning: The max_iter was reached which means the coef_ did not converge\n",
      "  warnings.warn(\"The max_iter was reached which means \"\n",
      "c:\\users\\a309549\\appdata\\local\\programs\\python\\python39\\lib\\site-packages\\sklearn\\linear_model\\_sag.py:328: ConvergenceWarning: The max_iter was reached which means the coef_ did not converge\n",
      "  warnings.warn(\"The max_iter was reached which means \"\n",
      "c:\\users\\a309549\\appdata\\local\\programs\\python\\python39\\lib\\site-packages\\sklearn\\linear_model\\_sag.py:328: ConvergenceWarning: The max_iter was reached which means the coef_ did not converge\n",
      "  warnings.warn(\"The max_iter was reached which means \"\n",
      "c:\\users\\a309549\\appdata\\local\\programs\\python\\python39\\lib\\site-packages\\sklearn\\linear_model\\_sag.py:328: ConvergenceWarning: The max_iter was reached which means the coef_ did not converge\n",
      "  warnings.warn(\"The max_iter was reached which means \"\n",
      "c:\\users\\a309549\\appdata\\local\\programs\\python\\python39\\lib\\site-packages\\sklearn\\linear_model\\_sag.py:328: ConvergenceWarning: The max_iter was reached which means the coef_ did not converge\n",
      "  warnings.warn(\"The max_iter was reached which means \"\n",
      "c:\\users\\a309549\\appdata\\local\\programs\\python\\python39\\lib\\site-packages\\sklearn\\linear_model\\_sag.py:328: ConvergenceWarning: The max_iter was reached which means the coef_ did not converge\n",
      "  warnings.warn(\"The max_iter was reached which means \"\n",
      "c:\\users\\a309549\\appdata\\local\\programs\\python\\python39\\lib\\site-packages\\sklearn\\linear_model\\_sag.py:328: ConvergenceWarning: The max_iter was reached which means the coef_ did not converge\n",
      "  warnings.warn(\"The max_iter was reached which means \"\n",
      "c:\\users\\a309549\\appdata\\local\\programs\\python\\python39\\lib\\site-packages\\sklearn\\linear_model\\_sag.py:328: ConvergenceWarning: The max_iter was reached which means the coef_ did not converge\n",
      "  warnings.warn(\"The max_iter was reached which means \"\n",
      "100%|████████████████████████████████████████████████████████████████████████████████████████████████████████████████████| 3/3 [10:52:10<00:00, 13043.59s/it]\n"
     ]
    }
   ],
   "source": [
    "for valor in tqdm(diccionario_entrenamiento.keys()):\n",
    "    model = diccionario_entrenamiento[valor]['model']\n",
    "    params = diccionario_entrenamiento[valor]['params']\n",
    "    \n",
    "    opt = GridSearchCV(estimator=model, param_grid=params, )\n",
    "    opt.set_params(**basic_opt_params)\n",
    "    fit = opt.fit(X_train_copy[columns_names], Y_train_copy)\n",
    "    \n",
    "    # persisto el best estimator para cada uno\n",
    "    model_name = models_path_template.format(valor)\n",
    "    if valor == 'xgb':\n",
    "        fit.best_estimator_.save_model(model_name)\n",
    "    else:\n",
    "        joblib.dump(fit.best_estimator_, model_name)"
   ]
  },
  {
   "cell_type": "code",
   "execution_count": null,
   "metadata": {},
   "outputs": [],
   "source": []
  }
 ],
 "metadata": {
  "kernelspec": {
   "display_name": "Python 3",
   "language": "python",
   "name": "python3"
  },
  "language_info": {
   "codemirror_mode": {
    "name": "ipython",
    "version": 3
   },
   "file_extension": ".py",
   "mimetype": "text/x-python",
   "name": "python",
   "nbconvert_exporter": "python",
   "pygments_lexer": "ipython3",
   "version": "3.9.2"
  }
 },
 "nbformat": 4,
 "nbformat_minor": 4
}
