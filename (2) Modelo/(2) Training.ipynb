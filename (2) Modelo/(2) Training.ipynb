{
 "cells": [
  {
   "cell_type": "markdown",
   "metadata": {},
   "source": [
    "En este notebook se realiza efectivamente el entrenamiento. \n",
    "\n",
    "Se unifican las clases 0-4. Se crean 2 pipelines, eligiendo finalmente el que utiliza un standar scaler para las variables numéricas. Una vez transformada la data, se hace un oversampling con SMOTE. "
   ]
  },
  {
   "cell_type": "code",
   "execution_count": 1,
   "metadata": {},
   "outputs": [],
   "source": [
    "%load_ext autoreload\n",
    "%autoreload 2"
   ]
  },
  {
   "cell_type": "code",
   "execution_count": 2,
   "metadata": {},
   "outputs": [],
   "source": [
    "import os\n",
    "os.chdir(\"..\") "
   ]
  },
  {
   "cell_type": "code",
   "execution_count": 63,
   "metadata": {},
   "outputs": [],
   "source": [
    "import json\n",
    "from urllib.request import urlopen\n",
    "import urllib\n",
    "import pandas as pd\n",
    "import matplotlib.pyplot as plt\n",
    "import seaborn as sn\n",
    "from sklearn.preprocessing import LabelEncoder\n",
    "from sklearn.model_selection import GridSearchCV\n",
    "from sklearn.linear_model import LogisticRegression \n",
    "from xgboost import XGBClassifier\n",
    "from sklearn.neural_network import MLPClassifier\n",
    "from imblearn.over_sampling import SMOTE \n",
    "from sklearn.pipeline import Pipeline\n",
    "from sklearn.pipeline import make_pipeline, make_union\n",
    "from utils.transformers import FillNaDict, DFFeatureUnion, ColumnSelector, DFStandardScaler, DummyTransformer, DFKBinsOrdinalDiscretizer, DFOrdinalEncoder\n",
    "import numpy as np\n",
    "from sklearn.model_selection import GridSearchCV\n",
    "import joblib\n",
    "from tqdm.notebook import tqdm\n",
    "from sklearn.preprocessing import OneHotEncoder, StandardScaler, KBinsDiscretizer\n"
   ]
  },
  {
   "cell_type": "code",
   "execution_count": 4,
   "metadata": {},
   "outputs": [
    {
     "data": {
      "text/html": [
       "<style>.container { width:100% !important; }</style>"
      ],
      "text/plain": [
       "<IPython.core.display.HTML object>"
      ]
     },
     "metadata": {},
     "output_type": "display_data"
    },
    {
     "data": {
      "text/html": [
       "<style>.prompt { font-size: 08px !important; }</style>"
      ],
      "text/plain": [
       "<IPython.core.display.HTML object>"
      ]
     },
     "metadata": {},
     "output_type": "display_data"
    }
   ],
   "source": [
    "from IPython.core.display import display, HTML\n",
    "display(HTML(\"<style>.container { width:100% !important; }</style>\"))\n",
    "display(HTML(\"<style>.prompt { font-size: 08px !important; }</style>\"))\n",
    "pd.options.display.max_columns = None\n",
    "pd.options.display.max_rows = 100"
   ]
  },
  {
   "cell_type": "markdown",
   "metadata": {},
   "source": [
    "## Config"
   ]
  },
  {
   "cell_type": "code",
   "execution_count": 5,
   "metadata": {},
   "outputs": [],
   "source": [
    "seed = 1111"
   ]
  },
  {
   "cell_type": "code",
   "execution_count": 6,
   "metadata": {},
   "outputs": [],
   "source": [
    "data_path = \"data/\"\n",
    "input_path = data_path + \"input/\"\n",
    "models_path = data_path + \"models/\"\n",
    "columns_path = data_path + \"columns/\"\n",
    "pipelines_path = data_path + \"pipelines/\""
   ]
  },
  {
   "cell_type": "code",
   "execution_count": null,
   "metadata": {},
   "outputs": [],
   "source": []
  },
  {
   "cell_type": "markdown",
   "metadata": {},
   "source": [
    "## Load data\n"
   ]
  },
  {
   "cell_type": "code",
   "execution_count": 7,
   "metadata": {},
   "outputs": [
    {
     "data": {
      "text/html": [
       "<div>\n",
       "<style scoped>\n",
       "    .dataframe tbody tr th:only-of-type {\n",
       "        vertical-align: middle;\n",
       "    }\n",
       "\n",
       "    .dataframe tbody tr th {\n",
       "        vertical-align: top;\n",
       "    }\n",
       "\n",
       "    .dataframe thead th {\n",
       "        text-align: right;\n",
       "    }\n",
       "</style>\n",
       "<table border=\"1\" class=\"dataframe\">\n",
       "  <thead>\n",
       "    <tr style=\"text-align: right;\">\n",
       "      <th></th>\n",
       "      <th>installments.quantity</th>\n",
       "      <th>installments.rate</th>\n",
       "      <th>id</th>\n",
       "      <th>site_id</th>\n",
       "      <th>title</th>\n",
       "      <th>price</th>\n",
       "      <th>currency_id</th>\n",
       "      <th>available_quantity</th>\n",
       "      <th>sold_quantity</th>\n",
       "      <th>buying_mode</th>\n",
       "      <th>listing_type_id</th>\n",
       "      <th>condition</th>\n",
       "      <th>accepts_mercadopago</th>\n",
       "      <th>category_id</th>\n",
       "      <th>is_official_store</th>\n",
       "      <th>catalog_product_id</th>\n",
       "      <th>catalog_listing</th>\n",
       "      <th>seller.id</th>\n",
       "      <th>seller.car_dealer</th>\n",
       "      <th>seller.real_estate_agency</th>\n",
       "      <th>seller.seller_reputation.transactions.total</th>\n",
       "      <th>seller.seller_reputation.transactions.canceled</th>\n",
       "      <th>seller.seller_reputation.transactions.period</th>\n",
       "      <th>seller.seller_reputation.transactions.ratings.negative</th>\n",
       "      <th>seller.seller_reputation.transactions.ratings.positive</th>\n",
       "      <th>seller.seller_reputation.transactions.ratings.neutral</th>\n",
       "      <th>seller.seller_reputation.transactions.completed</th>\n",
       "      <th>seller.seller_reputation.power_seller_status</th>\n",
       "      <th>seller.seller_reputation.metrics.claims.rate</th>\n",
       "      <th>seller.seller_reputation.metrics.delayed_handling_time.rate</th>\n",
       "      <th>seller.seller_reputation.metrics.sales.period</th>\n",
       "      <th>seller.seller_reputation.metrics.sales.completed</th>\n",
       "      <th>seller.seller_reputation.metrics.cancellations.rate</th>\n",
       "      <th>address.state_name</th>\n",
       "      <th>shipping.free_shipping</th>\n",
       "      <th>shipping.mode</th>\n",
       "      <th>shipping.logistic_type</th>\n",
       "      <th>shipping.store_pick_up</th>\n",
       "      <th>seller.seller_reputation.real_level</th>\n",
       "      <th>root_category_id</th>\n",
       "      <th>root_category_name</th>\n",
       "      <th>discount</th>\n",
       "      <th>category_name</th>\n",
       "    </tr>\n",
       "  </thead>\n",
       "  <tbody>\n",
       "    <tr>\n",
       "      <th>0</th>\n",
       "      <td>12.0</td>\n",
       "      <td>70.17</td>\n",
       "      <td>MLA901604420</td>\n",
       "      <td>MLA</td>\n",
       "      <td>Hacha - Bendy And The Ink Machine - Prop</td>\n",
       "      <td>1800.00</td>\n",
       "      <td>ARS</td>\n",
       "      <td>50</td>\n",
       "      <td>25</td>\n",
       "      <td>buy_it_now</td>\n",
       "      <td>gold_special</td>\n",
       "      <td>new</td>\n",
       "      <td>True</td>\n",
       "      <td>MLA3422</td>\n",
       "      <td>False</td>\n",
       "      <td>NaN</td>\n",
       "      <td>NaN</td>\n",
       "      <td>132586939</td>\n",
       "      <td>False</td>\n",
       "      <td>False</td>\n",
       "      <td>694.0</td>\n",
       "      <td>32.0</td>\n",
       "      <td>historic</td>\n",
       "      <td>0.00</td>\n",
       "      <td>0.97</td>\n",
       "      <td>0.03</td>\n",
       "      <td>662.0</td>\n",
       "      <td>silver</td>\n",
       "      <td>0.0000</td>\n",
       "      <td>0.0000</td>\n",
       "      <td>60 days</td>\n",
       "      <td>291.0</td>\n",
       "      <td>0.0000</td>\n",
       "      <td>Buenos Aires</td>\n",
       "      <td>False</td>\n",
       "      <td>me2</td>\n",
       "      <td>xd_drop_off</td>\n",
       "      <td>False</td>\n",
       "      <td>NaN</td>\n",
       "      <td>MLA1132</td>\n",
       "      <td>Juegos y Juguetes</td>\n",
       "      <td>NaN</td>\n",
       "      <td>Muñecos y Figuras de Acción</td>\n",
       "    </tr>\n",
       "    <tr>\n",
       "      <th>1</th>\n",
       "      <td>12.0</td>\n",
       "      <td>70.17</td>\n",
       "      <td>MLA785203596</td>\n",
       "      <td>MLA</td>\n",
       "      <td>Microscopio Lupa Celular Tricomas 60x Led Gabb...</td>\n",
       "      <td>1199.00</td>\n",
       "      <td>ARS</td>\n",
       "      <td>1</td>\n",
       "      <td>500</td>\n",
       "      <td>buy_it_now</td>\n",
       "      <td>gold_special</td>\n",
       "      <td>new</td>\n",
       "      <td>True</td>\n",
       "      <td>MLA32230</td>\n",
       "      <td>False</td>\n",
       "      <td>NaN</td>\n",
       "      <td>NaN</td>\n",
       "      <td>401908084</td>\n",
       "      <td>False</td>\n",
       "      <td>False</td>\n",
       "      <td>25441.0</td>\n",
       "      <td>943.0</td>\n",
       "      <td>historic</td>\n",
       "      <td>0.01</td>\n",
       "      <td>0.99</td>\n",
       "      <td>0.00</td>\n",
       "      <td>24498.0</td>\n",
       "      <td>platinum</td>\n",
       "      <td>0.0020</td>\n",
       "      <td>0.0000</td>\n",
       "      <td>60 days</td>\n",
       "      <td>3267.0</td>\n",
       "      <td>0.0000</td>\n",
       "      <td>Buenos Aires</td>\n",
       "      <td>False</td>\n",
       "      <td>me2</td>\n",
       "      <td>cross_docking</td>\n",
       "      <td>False</td>\n",
       "      <td>NaN</td>\n",
       "      <td>MLA1039</td>\n",
       "      <td>Cámaras y Accesorios</td>\n",
       "      <td>NaN</td>\n",
       "      <td>Microscopios</td>\n",
       "    </tr>\n",
       "    <tr>\n",
       "      <th>2</th>\n",
       "      <td>12.0</td>\n",
       "      <td>70.17</td>\n",
       "      <td>MLA703379424</td>\n",
       "      <td>MLA</td>\n",
       "      <td>Chapa De Madera De Guatambú - Lamina Para Ench...</td>\n",
       "      <td>420.00</td>\n",
       "      <td>ARS</td>\n",
       "      <td>1</td>\n",
       "      <td>250</td>\n",
       "      <td>buy_it_now</td>\n",
       "      <td>gold_special</td>\n",
       "      <td>new</td>\n",
       "      <td>True</td>\n",
       "      <td>MLA1383</td>\n",
       "      <td>False</td>\n",
       "      <td>NaN</td>\n",
       "      <td>NaN</td>\n",
       "      <td>50806723</td>\n",
       "      <td>False</td>\n",
       "      <td>False</td>\n",
       "      <td>298.0</td>\n",
       "      <td>13.0</td>\n",
       "      <td>historic</td>\n",
       "      <td>0.00</td>\n",
       "      <td>1.00</td>\n",
       "      <td>0.00</td>\n",
       "      <td>285.0</td>\n",
       "      <td>silver</td>\n",
       "      <td>0.0000</td>\n",
       "      <td>0.0000</td>\n",
       "      <td>60 days</td>\n",
       "      <td>72.0</td>\n",
       "      <td>0.0000</td>\n",
       "      <td>Buenos Aires</td>\n",
       "      <td>False</td>\n",
       "      <td>me2</td>\n",
       "      <td>xd_drop_off</td>\n",
       "      <td>False</td>\n",
       "      <td>green</td>\n",
       "      <td>MLA1367</td>\n",
       "      <td>Antigüedades y Colecciones</td>\n",
       "      <td>NaN</td>\n",
       "      <td>Otros</td>\n",
       "    </tr>\n",
       "    <tr>\n",
       "      <th>3</th>\n",
       "      <td>12.0</td>\n",
       "      <td>70.17</td>\n",
       "      <td>MLA647580156</td>\n",
       "      <td>MLA</td>\n",
       "      <td>Bomba Electrica De Combustible Nafta O Gasoil ...</td>\n",
       "      <td>2426.00</td>\n",
       "      <td>ARS</td>\n",
       "      <td>500</td>\n",
       "      <td>250</td>\n",
       "      <td>buy_it_now</td>\n",
       "      <td>gold_special</td>\n",
       "      <td>new</td>\n",
       "      <td>True</td>\n",
       "      <td>MLA417251</td>\n",
       "      <td>False</td>\n",
       "      <td>NaN</td>\n",
       "      <td>NaN</td>\n",
       "      <td>119023482</td>\n",
       "      <td>False</td>\n",
       "      <td>False</td>\n",
       "      <td>7841.0</td>\n",
       "      <td>589.0</td>\n",
       "      <td>historic</td>\n",
       "      <td>0.00</td>\n",
       "      <td>0.99</td>\n",
       "      <td>0.01</td>\n",
       "      <td>7252.0</td>\n",
       "      <td>platinum</td>\n",
       "      <td>0.0134</td>\n",
       "      <td>0.0085</td>\n",
       "      <td>60 days</td>\n",
       "      <td>1466.0</td>\n",
       "      <td>0.0032</td>\n",
       "      <td>Buenos Aires</td>\n",
       "      <td>False</td>\n",
       "      <td>me2</td>\n",
       "      <td>cross_docking</td>\n",
       "      <td>False</td>\n",
       "      <td>NaN</td>\n",
       "      <td>MLA5725</td>\n",
       "      <td>Accesorios para Vehículos</td>\n",
       "      <td>NaN</td>\n",
       "      <td>Bombas de Combustible</td>\n",
       "    </tr>\n",
       "    <tr>\n",
       "      <th>4</th>\n",
       "      <td>12.0</td>\n",
       "      <td>70.17</td>\n",
       "      <td>MLA762063286</td>\n",
       "      <td>MLA</td>\n",
       "      <td>Juego X 4 Tazas Vw Gol / Gol Trend Rodado 14 P...</td>\n",
       "      <td>2439.99</td>\n",
       "      <td>ARS</td>\n",
       "      <td>1</td>\n",
       "      <td>500</td>\n",
       "      <td>buy_it_now</td>\n",
       "      <td>gold_special</td>\n",
       "      <td>new</td>\n",
       "      <td>True</td>\n",
       "      <td>MLA9250</td>\n",
       "      <td>False</td>\n",
       "      <td>NaN</td>\n",
       "      <td>NaN</td>\n",
       "      <td>173563910</td>\n",
       "      <td>False</td>\n",
       "      <td>False</td>\n",
       "      <td>66601.0</td>\n",
       "      <td>2775.0</td>\n",
       "      <td>historic</td>\n",
       "      <td>0.01</td>\n",
       "      <td>0.98</td>\n",
       "      <td>0.01</td>\n",
       "      <td>63826.0</td>\n",
       "      <td>platinum</td>\n",
       "      <td>0.0074</td>\n",
       "      <td>0.0158</td>\n",
       "      <td>60 days</td>\n",
       "      <td>11171.0</td>\n",
       "      <td>0.0022</td>\n",
       "      <td>Buenos Aires</td>\n",
       "      <td>False</td>\n",
       "      <td>me2</td>\n",
       "      <td>fulfillment</td>\n",
       "      <td>False</td>\n",
       "      <td>NaN</td>\n",
       "      <td>MLA5725</td>\n",
       "      <td>Accesorios para Vehículos</td>\n",
       "      <td>NaN</td>\n",
       "      <td>Tazas</td>\n",
       "    </tr>\n",
       "  </tbody>\n",
       "</table>\n",
       "</div>"
      ],
      "text/plain": [
       "   installments.quantity  installments.rate            id site_id  \\\n",
       "0                   12.0              70.17  MLA901604420     MLA   \n",
       "1                   12.0              70.17  MLA785203596     MLA   \n",
       "2                   12.0              70.17  MLA703379424     MLA   \n",
       "3                   12.0              70.17  MLA647580156     MLA   \n",
       "4                   12.0              70.17  MLA762063286     MLA   \n",
       "\n",
       "                                               title    price currency_id  \\\n",
       "0           Hacha - Bendy And The Ink Machine - Prop  1800.00         ARS   \n",
       "1  Microscopio Lupa Celular Tricomas 60x Led Gabb...  1199.00         ARS   \n",
       "2  Chapa De Madera De Guatambú - Lamina Para Ench...   420.00         ARS   \n",
       "3  Bomba Electrica De Combustible Nafta O Gasoil ...  2426.00         ARS   \n",
       "4  Juego X 4 Tazas Vw Gol / Gol Trend Rodado 14 P...  2439.99         ARS   \n",
       "\n",
       "   available_quantity  sold_quantity buying_mode listing_type_id condition  \\\n",
       "0                  50             25  buy_it_now    gold_special       new   \n",
       "1                   1            500  buy_it_now    gold_special       new   \n",
       "2                   1            250  buy_it_now    gold_special       new   \n",
       "3                 500            250  buy_it_now    gold_special       new   \n",
       "4                   1            500  buy_it_now    gold_special       new   \n",
       "\n",
       "   accepts_mercadopago category_id  is_official_store catalog_product_id  \\\n",
       "0                 True     MLA3422              False                NaN   \n",
       "1                 True    MLA32230              False                NaN   \n",
       "2                 True     MLA1383              False                NaN   \n",
       "3                 True   MLA417251              False                NaN   \n",
       "4                 True     MLA9250              False                NaN   \n",
       "\n",
       "  catalog_listing  seller.id  seller.car_dealer  seller.real_estate_agency  \\\n",
       "0             NaN  132586939              False                      False   \n",
       "1             NaN  401908084              False                      False   \n",
       "2             NaN   50806723              False                      False   \n",
       "3             NaN  119023482              False                      False   \n",
       "4             NaN  173563910              False                      False   \n",
       "\n",
       "   seller.seller_reputation.transactions.total  \\\n",
       "0                                        694.0   \n",
       "1                                      25441.0   \n",
       "2                                        298.0   \n",
       "3                                       7841.0   \n",
       "4                                      66601.0   \n",
       "\n",
       "   seller.seller_reputation.transactions.canceled  \\\n",
       "0                                            32.0   \n",
       "1                                           943.0   \n",
       "2                                            13.0   \n",
       "3                                           589.0   \n",
       "4                                          2775.0   \n",
       "\n",
       "  seller.seller_reputation.transactions.period  \\\n",
       "0                                     historic   \n",
       "1                                     historic   \n",
       "2                                     historic   \n",
       "3                                     historic   \n",
       "4                                     historic   \n",
       "\n",
       "   seller.seller_reputation.transactions.ratings.negative  \\\n",
       "0                                               0.00        \n",
       "1                                               0.01        \n",
       "2                                               0.00        \n",
       "3                                               0.00        \n",
       "4                                               0.01        \n",
       "\n",
       "   seller.seller_reputation.transactions.ratings.positive  \\\n",
       "0                                               0.97        \n",
       "1                                               0.99        \n",
       "2                                               1.00        \n",
       "3                                               0.99        \n",
       "4                                               0.98        \n",
       "\n",
       "   seller.seller_reputation.transactions.ratings.neutral  \\\n",
       "0                                               0.03       \n",
       "1                                               0.00       \n",
       "2                                               0.00       \n",
       "3                                               0.01       \n",
       "4                                               0.01       \n",
       "\n",
       "   seller.seller_reputation.transactions.completed  \\\n",
       "0                                            662.0   \n",
       "1                                          24498.0   \n",
       "2                                            285.0   \n",
       "3                                           7252.0   \n",
       "4                                          63826.0   \n",
       "\n",
       "  seller.seller_reputation.power_seller_status  \\\n",
       "0                                       silver   \n",
       "1                                     platinum   \n",
       "2                                       silver   \n",
       "3                                     platinum   \n",
       "4                                     platinum   \n",
       "\n",
       "   seller.seller_reputation.metrics.claims.rate  \\\n",
       "0                                        0.0000   \n",
       "1                                        0.0020   \n",
       "2                                        0.0000   \n",
       "3                                        0.0134   \n",
       "4                                        0.0074   \n",
       "\n",
       "   seller.seller_reputation.metrics.delayed_handling_time.rate  \\\n",
       "0                                             0.0000             \n",
       "1                                             0.0000             \n",
       "2                                             0.0000             \n",
       "3                                             0.0085             \n",
       "4                                             0.0158             \n",
       "\n",
       "  seller.seller_reputation.metrics.sales.period  \\\n",
       "0                                       60 days   \n",
       "1                                       60 days   \n",
       "2                                       60 days   \n",
       "3                                       60 days   \n",
       "4                                       60 days   \n",
       "\n",
       "   seller.seller_reputation.metrics.sales.completed  \\\n",
       "0                                             291.0   \n",
       "1                                            3267.0   \n",
       "2                                              72.0   \n",
       "3                                            1466.0   \n",
       "4                                           11171.0   \n",
       "\n",
       "   seller.seller_reputation.metrics.cancellations.rate address.state_name  \\\n",
       "0                                             0.0000         Buenos Aires   \n",
       "1                                             0.0000         Buenos Aires   \n",
       "2                                             0.0000         Buenos Aires   \n",
       "3                                             0.0032         Buenos Aires   \n",
       "4                                             0.0022         Buenos Aires   \n",
       "\n",
       "   shipping.free_shipping shipping.mode shipping.logistic_type  \\\n",
       "0                   False           me2            xd_drop_off   \n",
       "1                   False           me2          cross_docking   \n",
       "2                   False           me2            xd_drop_off   \n",
       "3                   False           me2          cross_docking   \n",
       "4                   False           me2            fulfillment   \n",
       "\n",
       "   shipping.store_pick_up seller.seller_reputation.real_level  \\\n",
       "0                   False                                 NaN   \n",
       "1                   False                                 NaN   \n",
       "2                   False                               green   \n",
       "3                   False                                 NaN   \n",
       "4                   False                                 NaN   \n",
       "\n",
       "  root_category_id          root_category_name  discount  \\\n",
       "0          MLA1132           Juegos y Juguetes       NaN   \n",
       "1          MLA1039        Cámaras y Accesorios       NaN   \n",
       "2          MLA1367  Antigüedades y Colecciones       NaN   \n",
       "3          MLA5725   Accesorios para Vehículos       NaN   \n",
       "4          MLA5725   Accesorios para Vehículos       NaN   \n",
       "\n",
       "                 category_name  \n",
       "0  Muñecos y Figuras de Acción  \n",
       "1                 Microscopios  \n",
       "2                        Otros  \n",
       "3        Bombas de Combustible  \n",
       "4                        Tazas  "
      ]
     },
     "execution_count": 7,
     "metadata": {},
     "output_type": "execute_result"
    }
   ],
   "source": [
    "df = pd.read_csv(input_path + 'train.csv', sep='\\t', encoding='utf-8', )  \n",
    "df.head()"
   ]
  },
  {
   "cell_type": "code",
   "execution_count": 9,
   "metadata": {
    "scrolled": true
   },
   "outputs": [
    {
     "data": {
      "text/plain": [
       "(23180, 43)"
      ]
     },
     "execution_count": 9,
     "metadata": {},
     "output_type": "execute_result"
    }
   ],
   "source": [
    "df.shape"
   ]
  },
  {
   "cell_type": "code",
   "execution_count": null,
   "metadata": {},
   "outputs": [],
   "source": []
  },
  {
   "cell_type": "markdown",
   "metadata": {},
   "source": [
    "## Target"
   ]
  },
  {
   "cell_type": "code",
   "execution_count": 16,
   "metadata": {
    "scrolled": false
   },
   "outputs": [
    {
     "data": {
      "text/plain": [
       "0        2325\n",
       "1         212\n",
       "2         187\n",
       "3         173\n",
       "4         161\n",
       "5        1740\n",
       "25       1379\n",
       "50       2105\n",
       "100      1599\n",
       "150      1291\n",
       "200      1086\n",
       "250      3541\n",
       "500      6859\n",
       "5000      514\n",
       "50000       8\n",
       "Name: sold_quantity, dtype: int64"
      ]
     },
     "execution_count": 16,
     "metadata": {},
     "output_type": "execute_result"
    }
   ],
   "source": [
    "df.sold_quantity.value_counts().sort_index()"
   ]
  },
  {
   "cell_type": "code",
   "execution_count": null,
   "metadata": {},
   "outputs": [],
   "source": []
  },
  {
   "cell_type": "markdown",
   "metadata": {},
   "source": [
    "## Manipulación clases"
   ]
  },
  {
   "cell_type": "markdown",
   "metadata": {},
   "source": [
    "<p style=\"color:red; font-weight: bold\">Vamos a intentar probar unificar las categorias iniciales, considerando este tipo de decisiones, en caso de quen hagan que el modelo de mejor, deben consultarse siempre con el negocio </p>"
   ]
  },
  {
   "cell_type": "code",
   "execution_count": 17,
   "metadata": {},
   "outputs": [],
   "source": [
    "df[\"sold_quantity\"] = [x if x >= 5 else 1 for x in df[\"sold_quantity\"]]"
   ]
  },
  {
   "cell_type": "code",
   "execution_count": 18,
   "metadata": {
    "scrolled": false
   },
   "outputs": [
    {
     "data": {
      "text/plain": [
       "1        3058\n",
       "5        1740\n",
       "25       1379\n",
       "50       2105\n",
       "100      1599\n",
       "150      1291\n",
       "200      1086\n",
       "250      3541\n",
       "500      6859\n",
       "5000      514\n",
       "50000       8\n",
       "Name: sold_quantity, dtype: int64"
      ]
     },
     "execution_count": 18,
     "metadata": {},
     "output_type": "execute_result"
    }
   ],
   "source": [
    "df.sold_quantity.value_counts().sort_index()"
   ]
  },
  {
   "cell_type": "code",
   "execution_count": null,
   "metadata": {},
   "outputs": [],
   "source": []
  },
  {
   "cell_type": "markdown",
   "metadata": {},
   "source": [
    "# y"
   ]
  },
  {
   "cell_type": "code",
   "execution_count": 19,
   "metadata": {},
   "outputs": [],
   "source": [
    "y = df.sold_quantity"
   ]
  },
  {
   "cell_type": "code",
   "execution_count": 20,
   "metadata": {},
   "outputs": [],
   "source": [
    "df = df.drop(['sold_quantity'], axis= 1)"
   ]
  },
  {
   "cell_type": "code",
   "execution_count": null,
   "metadata": {},
   "outputs": [],
   "source": []
  },
  {
   "cell_type": "markdown",
   "metadata": {},
   "source": [
    "## SMOTE strategy"
   ]
  },
  {
   "cell_type": "code",
   "execution_count": 21,
   "metadata": {},
   "outputs": [
    {
     "data": {
      "text/plain": [
       "{1: 3058,\n",
       " 5: 1740,\n",
       " 25: 1379,\n",
       " 50: 2105,\n",
       " 100: 1599,\n",
       " 150: 1291,\n",
       " 200: 1086,\n",
       " 250: 3541,\n",
       " 500: 6859,\n",
       " 5000: 514,\n",
       " 50000: 8}"
      ]
     },
     "execution_count": 21,
     "metadata": {},
     "output_type": "execute_result"
    }
   ],
   "source": [
    "dic = pd.Series(y).value_counts().sort_index().to_dict()\n",
    "dic"
   ]
  },
  {
   "cell_type": "code",
   "execution_count": 22,
   "metadata": {},
   "outputs": [],
   "source": [
    "threshold = 3000\n",
    "prop = 1.5"
   ]
  },
  {
   "cell_type": "code",
   "execution_count": 23,
   "metadata": {
    "scrolled": true
   },
   "outputs": [
    {
     "data": {
      "text/plain": [
       "{1: 3058,\n",
       " 5: 2610,\n",
       " 25: 2068,\n",
       " 50: 3157,\n",
       " 100: 2398,\n",
       " 150: 1936,\n",
       " 200: 1629,\n",
       " 250: 3541,\n",
       " 500: 6859,\n",
       " 5000: 771,\n",
       " 50000: 12}"
      ]
     },
     "execution_count": 23,
     "metadata": {},
     "output_type": "execute_result"
    }
   ],
   "source": [
    "smote_sampling_strategy = {key: int(value*prop) if value < threshold else value for key, value in dic.items()}\n",
    "smote_sampling_strategy"
   ]
  },
  {
   "cell_type": "code",
   "execution_count": null,
   "metadata": {},
   "outputs": [],
   "source": []
  },
  {
   "cell_type": "markdown",
   "metadata": {},
   "source": [
    "## IDs  "
   ]
  },
  {
   "cell_type": "code",
   "execution_count": 24,
   "metadata": {},
   "outputs": [
    {
     "data": {
      "text/plain": [
       "['id',\n",
       " 'site_id',\n",
       " 'title',\n",
       " 'category_id',\n",
       " 'seller.id',\n",
       " 'catalog_product_id',\n",
       " 'root_category_id',\n",
       " 'root_category_name',\n",
       " 'category_name']"
      ]
     },
     "execution_count": 24,
     "metadata": {},
     "output_type": "execute_result"
    }
   ],
   "source": [
    "id_cols = joblib.load(columns_path + 'id_cols.joblib')\n",
    "id_cols"
   ]
  },
  {
   "cell_type": "code",
   "execution_count": 25,
   "metadata": {},
   "outputs": [],
   "source": [
    "ids_df = df[id_cols].copy()\n",
    "X = df.drop(id_cols, axis= 1) "
   ]
  },
  {
   "cell_type": "code",
   "execution_count": null,
   "metadata": {},
   "outputs": [],
   "source": []
  },
  {
   "cell_type": "markdown",
   "metadata": {},
   "source": [
    "## Columns"
   ]
  },
  {
   "cell_type": "code",
   "execution_count": 26,
   "metadata": {
    "scrolled": true
   },
   "outputs": [
    {
     "data": {
      "text/plain": [
       "installments.quantity                                          float64\n",
       "installments.rate                                              float64\n",
       "price                                                          float64\n",
       "currency_id                                                     object\n",
       "available_quantity                                               int64\n",
       "buying_mode                                                     object\n",
       "listing_type_id                                                 object\n",
       "condition                                                       object\n",
       "accepts_mercadopago                                               bool\n",
       "is_official_store                                                 bool\n",
       "catalog_listing                                                 object\n",
       "seller.car_dealer                                                 bool\n",
       "seller.real_estate_agency                                         bool\n",
       "seller.seller_reputation.transactions.total                    float64\n",
       "seller.seller_reputation.transactions.canceled                 float64\n",
       "seller.seller_reputation.transactions.period                    object\n",
       "seller.seller_reputation.transactions.ratings.negative         float64\n",
       "seller.seller_reputation.transactions.ratings.positive         float64\n",
       "seller.seller_reputation.transactions.ratings.neutral          float64\n",
       "seller.seller_reputation.transactions.completed                float64\n",
       "seller.seller_reputation.power_seller_status                    object\n",
       "seller.seller_reputation.metrics.claims.rate                   float64\n",
       "seller.seller_reputation.metrics.delayed_handling_time.rate    float64\n",
       "seller.seller_reputation.metrics.sales.period                   object\n",
       "seller.seller_reputation.metrics.sales.completed               float64\n",
       "seller.seller_reputation.metrics.cancellations.rate            float64\n",
       "address.state_name                                              object\n",
       "shipping.free_shipping                                            bool\n",
       "shipping.mode                                                   object\n",
       "shipping.logistic_type                                          object\n",
       "shipping.store_pick_up                                            bool\n",
       "seller.seller_reputation.real_level                             object\n",
       "discount                                                       float64\n",
       "dtype: object"
      ]
     },
     "execution_count": 26,
     "metadata": {},
     "output_type": "execute_result"
    }
   ],
   "source": [
    "X.dtypes"
   ]
  },
  {
   "cell_type": "code",
   "execution_count": 27,
   "metadata": {},
   "outputs": [
    {
     "data": {
      "text/plain": [
       "Index(['installments.quantity', 'installments.rate', 'price', 'currency_id',\n",
       "       'available_quantity', 'buying_mode', 'listing_type_id', 'condition',\n",
       "       'accepts_mercadopago', 'is_official_store', 'catalog_listing',\n",
       "       'seller.car_dealer', 'seller.real_estate_agency',\n",
       "       'seller.seller_reputation.transactions.total',\n",
       "       'seller.seller_reputation.transactions.canceled',\n",
       "       'seller.seller_reputation.transactions.period',\n",
       "       'seller.seller_reputation.transactions.ratings.negative',\n",
       "       'seller.seller_reputation.transactions.ratings.positive',\n",
       "       'seller.seller_reputation.transactions.ratings.neutral',\n",
       "       'seller.seller_reputation.transactions.completed',\n",
       "       'seller.seller_reputation.power_seller_status',\n",
       "       'seller.seller_reputation.metrics.claims.rate',\n",
       "       'seller.seller_reputation.metrics.delayed_handling_time.rate',\n",
       "       'seller.seller_reputation.metrics.sales.period',\n",
       "       'seller.seller_reputation.metrics.sales.completed',\n",
       "       'seller.seller_reputation.metrics.cancellations.rate',\n",
       "       'address.state_name', 'shipping.free_shipping', 'shipping.mode',\n",
       "       'shipping.logistic_type', 'shipping.store_pick_up',\n",
       "       'seller.seller_reputation.real_level', 'discount'],\n",
       "      dtype='object')"
      ]
     },
     "execution_count": 27,
     "metadata": {},
     "output_type": "execute_result"
    }
   ],
   "source": [
    "cols_preproc = X.columns\n",
    "cols_preproc"
   ]
  },
  {
   "cell_type": "code",
   "execution_count": null,
   "metadata": {},
   "outputs": [],
   "source": []
  },
  {
   "cell_type": "code",
   "execution_count": 28,
   "metadata": {},
   "outputs": [
    {
     "data": {
      "text/plain": [
       "['available_quantity',\n",
       " 'accepts_mercadopago',\n",
       " 'is_official_store',\n",
       " 'catalog_listing',\n",
       " 'seller.car_dealer',\n",
       " 'seller.real_estate_agency',\n",
       " 'shipping.free_shipping',\n",
       " 'shipping.store_pick_up']"
      ]
     },
     "execution_count": 28,
     "metadata": {},
     "output_type": "execute_result"
    }
   ],
   "source": [
    "categorical_ord_enc = [\n",
    "    'available_quantity',\n",
    "] + joblib.load(columns_path + 'bool_cols.joblib')\n",
    "categorical_ord_enc"
   ]
  },
  {
   "cell_type": "code",
   "execution_count": 29,
   "metadata": {},
   "outputs": [
    {
     "data": {
      "text/plain": [
       "['installments.quantity',\n",
       " 'installments.rate',\n",
       " 'price',\n",
       " 'seller.seller_reputation.transactions.total',\n",
       " 'seller.seller_reputation.transactions.canceled',\n",
       " 'seller.seller_reputation.transactions.ratings.negative',\n",
       " 'seller.seller_reputation.transactions.ratings.positive',\n",
       " 'seller.seller_reputation.transactions.ratings.neutral',\n",
       " 'seller.seller_reputation.transactions.completed',\n",
       " 'seller.seller_reputation.metrics.claims.rate',\n",
       " 'seller.seller_reputation.metrics.delayed_handling_time.rate',\n",
       " 'seller.seller_reputation.metrics.sales.completed',\n",
       " 'seller.seller_reputation.metrics.cancellations.rate',\n",
       " 'discount']"
      ]
     },
     "execution_count": 29,
     "metadata": {},
     "output_type": "execute_result"
    }
   ],
   "source": [
    "numeric_features = X.select_dtypes(include=['int64', 'float64']).drop(categorical_ord_enc, axis = 1, errors='ignore').columns.to_list()\n",
    "numeric_features"
   ]
  },
  {
   "cell_type": "code",
   "execution_count": 30,
   "metadata": {
    "scrolled": true
   },
   "outputs": [
    {
     "data": {
      "text/plain": [
       "['currency_id',\n",
       " 'buying_mode',\n",
       " 'listing_type_id',\n",
       " 'condition',\n",
       " 'seller.seller_reputation.transactions.period',\n",
       " 'seller.seller_reputation.power_seller_status',\n",
       " 'seller.seller_reputation.metrics.sales.period',\n",
       " 'address.state_name',\n",
       " 'shipping.mode',\n",
       " 'shipping.logistic_type',\n",
       " 'seller.seller_reputation.real_level']"
      ]
     },
     "execution_count": 30,
     "metadata": {},
     "output_type": "execute_result"
    }
   ],
   "source": [
    "categorical_features = X.select_dtypes(include=['object']).drop(categorical_ord_enc, axis = 1, errors='ignore').columns.to_list()\n",
    "categorical_features"
   ]
  },
  {
   "cell_type": "code",
   "execution_count": null,
   "metadata": {},
   "outputs": [],
   "source": []
  },
  {
   "cell_type": "markdown",
   "metadata": {},
   "source": [
    "## NA"
   ]
  },
  {
   "cell_type": "markdown",
   "metadata": {},
   "source": [
    "Nota: habría que consultar con expertos del dominio en cómo completar; en este caso, segun el tipo, van con un valor fijo"
   ]
  },
  {
   "cell_type": "code",
   "execution_count": 31,
   "metadata": {},
   "outputs": [],
   "source": [
    "fillNA = {\n",
    "    'cat': {},\n",
    "    'num': {},\n",
    "    'ord': {}\n",
    "}\n",
    "for x in categorical_ord_enc:\n",
    "    fillNA['ord'][x] = 0 \n",
    "\n",
    "for x in numeric_features:\n",
    "    fillNA['num'][x] = 0 \n",
    "    \n",
    "for x in categorical_features:\n",
    "    fillNA['cat'][x] = '__NA__'"
   ]
  },
  {
   "cell_type": "code",
   "execution_count": 32,
   "metadata": {},
   "outputs": [
    {
     "data": {
      "text/plain": [
       "{'cat': {'currency_id': '__NA__',\n",
       "  'buying_mode': '__NA__',\n",
       "  'listing_type_id': '__NA__',\n",
       "  'condition': '__NA__',\n",
       "  'seller.seller_reputation.transactions.period': '__NA__',\n",
       "  'seller.seller_reputation.power_seller_status': '__NA__',\n",
       "  'seller.seller_reputation.metrics.sales.period': '__NA__',\n",
       "  'address.state_name': '__NA__',\n",
       "  'shipping.mode': '__NA__',\n",
       "  'shipping.logistic_type': '__NA__',\n",
       "  'seller.seller_reputation.real_level': '__NA__'},\n",
       " 'num': {'installments.quantity': 0,\n",
       "  'installments.rate': 0,\n",
       "  'price': 0,\n",
       "  'seller.seller_reputation.transactions.total': 0,\n",
       "  'seller.seller_reputation.transactions.canceled': 0,\n",
       "  'seller.seller_reputation.transactions.ratings.negative': 0,\n",
       "  'seller.seller_reputation.transactions.ratings.positive': 0,\n",
       "  'seller.seller_reputation.transactions.ratings.neutral': 0,\n",
       "  'seller.seller_reputation.transactions.completed': 0,\n",
       "  'seller.seller_reputation.metrics.claims.rate': 0,\n",
       "  'seller.seller_reputation.metrics.delayed_handling_time.rate': 0,\n",
       "  'seller.seller_reputation.metrics.sales.completed': 0,\n",
       "  'seller.seller_reputation.metrics.cancellations.rate': 0,\n",
       "  'discount': 0},\n",
       " 'ord': {'available_quantity': 0,\n",
       "  'accepts_mercadopago': 0,\n",
       "  'is_official_store': 0,\n",
       "  'catalog_listing': 0,\n",
       "  'seller.car_dealer': 0,\n",
       "  'seller.real_estate_agency': 0,\n",
       "  'shipping.free_shipping': 0,\n",
       "  'shipping.store_pick_up': 0}}"
      ]
     },
     "execution_count": 32,
     "metadata": {},
     "output_type": "execute_result"
    }
   ],
   "source": [
    "fillNA"
   ]
  },
  {
   "cell_type": "code",
   "execution_count": null,
   "metadata": {},
   "outputs": [],
   "source": []
  },
  {
   "cell_type": "markdown",
   "metadata": {},
   "source": [
    "## Pipelines\n",
    "Notas: \n",
    "- podría haber elegido diferente preprocesamiento para variables de un mismo tipo\n",
    "- los transformers desarrollados son \"wrappers\" de aquellos provistos por sklearn, para trabajar con pandas data frames en vez de np arrays"
   ]
  },
  {
   "cell_type": "code",
   "execution_count": 33,
   "metadata": {},
   "outputs": [],
   "source": [
    "categorical_transformer = Pipeline(steps=[\n",
    "    ('extractor',ColumnSelector(categorical_features)),\n",
    "    ('imputer', FillNaDict(col_fill_dict = fillNA['cat'])),\n",
    "    ('dummies', DummyTransformer(categorical_features))\n",
    "    ])\n",
    "\n",
    "\n",
    "cat_label_encod = Pipeline(steps=[\n",
    "    ('extractor',ColumnSelector(categorical_ord_enc)),\n",
    "    ('imputer', FillNaDict(col_fill_dict = fillNA['ord'])),\n",
    "    ('ordinalEncoder',DFOrdinalEncoder(categorical_ord_enc))\n",
    "])\n",
    "\n",
    "sel_ini_transformer = Pipeline(steps=[\n",
    "    ('extractor',ColumnSelector(cols_preproc))\n",
    "])\n"
   ]
  },
  {
   "cell_type": "markdown",
   "metadata": {},
   "source": [
    "**Pipeline con binarizer para variables numericas**"
   ]
  },
  {
   "cell_type": "code",
   "execution_count": 34,
   "metadata": {},
   "outputs": [
    {
     "data": {
      "text/plain": [
       "Pipeline(steps=[('seleccionFeatsIni',\n",
       "                 Pipeline(steps=[('extractor',\n",
       "                                  ColumnSelector(columns=Index(['installments.quantity', 'installments.rate', 'price', 'currency_id',\n",
       "       'available_quantity', 'buying_mode', 'listing_type_id', 'condition',\n",
       "       'accepts_mercadopago', 'is_official_store', 'catalog_listing',\n",
       "       'seller.car_dealer', 'seller.real_estate_agency',\n",
       "       'seller.seller_...\n",
       "       'seller.seller_reputation.metrics.sales.completed',\n",
       "       'seller.seller_reputation.metrics.cancellations.rate',\n",
       "       'address.state_name', 'shipping.free_shipping', 'shipping.mode',\n",
       "       'shipping.logistic_type', 'shipping.store_pick_up',\n",
       "       'seller.seller_reputation.real_level', 'discount'],\n",
       "      dtype='object')))])),\n",
       "                ('final_features',\n",
       "                 <utils.transformers.DFFeatureUnion object at 0x000001EB86F450A0>)])"
      ]
     },
     "execution_count": 34,
     "metadata": {},
     "output_type": "execute_result"
    }
   ],
   "source": [
    "numeric_transformer = Pipeline(steps=[\n",
    "    ('extractor',ColumnSelector(numeric_features)),\n",
    "    ('imputer',FillNaDict(col_fill_dict = fillNA['num'])),\n",
    "    ('binarizer',DFKBinsOrdinalDiscretizer(n_bins=5,cols=numeric_features))\n",
    "    ])\n",
    "\n",
    "\n",
    "# DFFeatureUnion\n",
    "feat_un = DFFeatureUnion([\n",
    "            ('categoricals',categorical_transformer),\n",
    "            ('cat_lab_enc',cat_label_encod),\n",
    "            ('numeric',numeric_transformer),\n",
    "            ])\n",
    "\n",
    "# pipeline_base\n",
    "pipeline_base = Pipeline(steps=[('seleccionFeatsIni',sel_ini_transformer),\n",
    "                                ('final_features',feat_un)])\n",
    "pipeline_base"
   ]
  },
  {
   "cell_type": "markdown",
   "metadata": {},
   "source": [
    "**Pipeline con scaler para vars numéricas**"
   ]
  },
  {
   "cell_type": "code",
   "execution_count": 35,
   "metadata": {},
   "outputs": [],
   "source": [
    "numeric_transformer_w_scaler = Pipeline(steps=[\n",
    "    ('extractor',ColumnSelector(numeric_features)),\n",
    "    ('imputer',FillNaDict(col_fill_dict= fillNA['num'])),\n",
    "    ('scaler',DFStandardScaler())\n",
    "    ])\n",
    "\n",
    "# DFFeatureUnion\n",
    "feat_un2 = DFFeatureUnion([\n",
    "            ('categoricals',categorical_transformer),\n",
    "            ('cat_lab_enc',cat_label_encod),\n",
    "            ('numeric',numeric_transformer_w_scaler),\n",
    "            ])\n",
    "\n",
    "# pipeline_w_num_scaler\n",
    "pipeline_w_num_scaler = Pipeline(steps=[('seleccionFeatsIni',sel_ini_transformer),\n",
    "                                ('final_features',feat_un2)])"
   ]
  },
  {
   "cell_type": "code",
   "execution_count": 36,
   "metadata": {},
   "outputs": [
    {
     "data": {
      "text/plain": [
       "Pipeline(steps=[('seleccionFeatsIni',\n",
       "                 Pipeline(steps=[('extractor',\n",
       "                                  ColumnSelector(columns=Index(['installments.quantity', 'installments.rate', 'price', 'currency_id',\n",
       "       'available_quantity', 'buying_mode', 'listing_type_id', 'condition',\n",
       "       'accepts_mercadopago', 'is_official_store', 'catalog_listing',\n",
       "       'seller.car_dealer', 'seller.real_estate_agency',\n",
       "       'seller.seller_...\n",
       "       'seller.seller_reputation.metrics.sales.completed',\n",
       "       'seller.seller_reputation.metrics.cancellations.rate',\n",
       "       'address.state_name', 'shipping.free_shipping', 'shipping.mode',\n",
       "       'shipping.logistic_type', 'shipping.store_pick_up',\n",
       "       'seller.seller_reputation.real_level', 'discount'],\n",
       "      dtype='object')))])),\n",
       "                ('final_features',\n",
       "                 <utils.transformers.DFFeatureUnion object at 0x000001EBA9650670>)])"
      ]
     },
     "execution_count": 36,
     "metadata": {},
     "output_type": "execute_result"
    }
   ],
   "source": [
    "pipeline_w_num_scaler"
   ]
  },
  {
   "cell_type": "code",
   "execution_count": null,
   "metadata": {},
   "outputs": [],
   "source": []
  },
  {
   "cell_type": "markdown",
   "metadata": {},
   "source": [
    "## Transformación con pipeline elegido"
   ]
  },
  {
   "cell_type": "code",
   "execution_count": 37,
   "metadata": {},
   "outputs": [],
   "source": [
    "X = X.reset_index(drop=True)"
   ]
  },
  {
   "cell_type": "code",
   "execution_count": 38,
   "metadata": {},
   "outputs": [],
   "source": [
    "pipeline = pipeline_w_num_scaler # pipeline_base"
   ]
  },
  {
   "cell_type": "code",
   "execution_count": 39,
   "metadata": {},
   "outputs": [],
   "source": [
    "y_copy = y.copy()\n",
    "X_copy = X.copy()"
   ]
  },
  {
   "cell_type": "code",
   "execution_count": 40,
   "metadata": {},
   "outputs": [],
   "source": [
    "X_copy = pipeline.fit_transform(X_copy) \n",
    "X_copy.reset_index(drop=True, inplace= True)\n"
   ]
  },
  {
   "cell_type": "code",
   "execution_count": 41,
   "metadata": {},
   "outputs": [
    {
     "data": {
      "text/plain": [
       "['data/pipelines/pipeline.joblib']"
      ]
     },
     "execution_count": 41,
     "metadata": {},
     "output_type": "execute_result"
    }
   ],
   "source": [
    "path_pipeline = pipelines_path + 'pipeline.joblib'\n",
    "joblib.dump(pipeline, path_pipeline)\n"
   ]
  },
  {
   "cell_type": "markdown",
   "metadata": {},
   "source": [
    "**Final cols**"
   ]
  },
  {
   "cell_type": "code",
   "execution_count": 42,
   "metadata": {},
   "outputs": [
    {
     "data": {
      "text/plain": [
       "['listing_type_id_bronze',\n",
       " 'listing_type_id_gold',\n",
       " 'listing_type_id_gold_premium',\n",
       " 'listing_type_id_gold_pro',\n",
       " 'listing_type_id_gold_special',\n",
       " 'listing_type_id_silver',\n",
       " 'seller.seller_reputation.power_seller_status___NA__',\n",
       " 'seller.seller_reputation.power_seller_status_gold',\n",
       " 'seller.seller_reputation.power_seller_status_platinum',\n",
       " 'seller.seller_reputation.power_seller_status_silver',\n",
       " 'currency_id_ARS',\n",
       " 'currency_id_USD',\n",
       " 'currency_id___NA__',\n",
       " 'shipping.mode_custom',\n",
       " 'shipping.mode_me1',\n",
       " 'shipping.mode_me2',\n",
       " 'shipping.mode_not_specified',\n",
       " 'condition___NA__',\n",
       " 'condition_new',\n",
       " 'condition_not_specified',\n",
       " 'condition_used',\n",
       " 'buying_mode_buy_it_now',\n",
       " 'buying_mode_classified',\n",
       " 'address.state_name_Bs.As. Costa Atlántica',\n",
       " 'address.state_name_Bs.As. G.B.A. Norte',\n",
       " 'address.state_name_Bs.As. G.B.A. Oeste',\n",
       " 'address.state_name_Bs.As. G.B.A. Sur',\n",
       " 'address.state_name_Buenos Aires',\n",
       " 'address.state_name_Buenos Aires Interior',\n",
       " 'address.state_name_Capital Federal',\n",
       " 'address.state_name_Catamarca',\n",
       " 'address.state_name_Chaco',\n",
       " 'address.state_name_Chubut',\n",
       " 'address.state_name_Corrientes',\n",
       " 'address.state_name_Córdoba',\n",
       " 'address.state_name_Entre Ríos',\n",
       " 'address.state_name_Formosa',\n",
       " 'address.state_name_Jujuy',\n",
       " 'address.state_name_La Pampa',\n",
       " 'address.state_name_La Rioja',\n",
       " 'address.state_name_Mendoza',\n",
       " 'address.state_name_Misiones',\n",
       " 'address.state_name_Neuquén',\n",
       " 'address.state_name_Río Negro',\n",
       " 'address.state_name_Salta',\n",
       " 'address.state_name_San Juan',\n",
       " 'address.state_name_San Luis',\n",
       " 'address.state_name_Santa Cruz',\n",
       " 'address.state_name_Santa Fe',\n",
       " 'address.state_name_Santiago del Estero',\n",
       " 'address.state_name_Tierra del Fuego',\n",
       " 'address.state_name_Tucumán',\n",
       " 'seller.seller_reputation.metrics.sales.period_365 days',\n",
       " 'seller.seller_reputation.metrics.sales.period_60 days',\n",
       " 'seller.seller_reputation.metrics.sales.period_60 months',\n",
       " 'seller.seller_reputation.metrics.sales.period___NA__',\n",
       " 'seller.seller_reputation.real_level___NA__',\n",
       " 'seller.seller_reputation.real_level_green',\n",
       " 'seller.seller_reputation.real_level_green_gold',\n",
       " 'seller.seller_reputation.real_level_green_platinum',\n",
       " 'seller.seller_reputation.real_level_green_silver',\n",
       " 'seller.seller_reputation.real_level_orange',\n",
       " 'seller.seller_reputation.real_level_red',\n",
       " 'seller.seller_reputation.real_level_yellow',\n",
       " 'seller.seller_reputation.transactions.period___NA__',\n",
       " 'seller.seller_reputation.transactions.period_historic',\n",
       " 'shipping.logistic_type___NA__',\n",
       " 'shipping.logistic_type_cross_docking',\n",
       " 'shipping.logistic_type_custom',\n",
       " 'shipping.logistic_type_default',\n",
       " 'shipping.logistic_type_drop_off',\n",
       " 'shipping.logistic_type_fulfillment',\n",
       " 'shipping.logistic_type_not_specified',\n",
       " 'shipping.logistic_type_xd_drop_off',\n",
       " 'available_quantity',\n",
       " 'accepts_mercadopago',\n",
       " 'is_official_store',\n",
       " 'catalog_listing',\n",
       " 'seller.car_dealer',\n",
       " 'seller.real_estate_agency',\n",
       " 'shipping.free_shipping',\n",
       " 'shipping.store_pick_up',\n",
       " 'installments.quantity',\n",
       " 'installments.rate',\n",
       " 'price',\n",
       " 'seller.seller_reputation.transactions.total',\n",
       " 'seller.seller_reputation.transactions.canceled',\n",
       " 'seller.seller_reputation.transactions.ratings.negative',\n",
       " 'seller.seller_reputation.transactions.ratings.positive',\n",
       " 'seller.seller_reputation.transactions.ratings.neutral',\n",
       " 'seller.seller_reputation.transactions.completed',\n",
       " 'seller.seller_reputation.metrics.claims.rate',\n",
       " 'seller.seller_reputation.metrics.delayed_handling_time.rate',\n",
       " 'seller.seller_reputation.metrics.sales.completed',\n",
       " 'seller.seller_reputation.metrics.cancellations.rate',\n",
       " 'discount']"
      ]
     },
     "execution_count": 42,
     "metadata": {},
     "output_type": "execute_result"
    }
   ],
   "source": [
    "columns_names = X_copy.columns\n",
    "columns_names.tolist()"
   ]
  },
  {
   "cell_type": "code",
   "execution_count": 43,
   "metadata": {},
   "outputs": [
    {
     "data": {
      "text/plain": [
       "['data/columns/final_cols.joblib']"
      ]
     },
     "execution_count": 43,
     "metadata": {},
     "output_type": "execute_result"
    }
   ],
   "source": [
    "path_columns = columns_path + 'final_cols.joblib'\n",
    "joblib.dump(columns_names, path_columns)"
   ]
  },
  {
   "cell_type": "markdown",
   "metadata": {},
   "source": [
    "**Inspect df**"
   ]
  },
  {
   "cell_type": "code",
   "execution_count": 44,
   "metadata": {
    "scrolled": true
   },
   "outputs": [
    {
     "data": {
      "text/html": [
       "<div>\n",
       "<style scoped>\n",
       "    .dataframe tbody tr th:only-of-type {\n",
       "        vertical-align: middle;\n",
       "    }\n",
       "\n",
       "    .dataframe tbody tr th {\n",
       "        vertical-align: top;\n",
       "    }\n",
       "\n",
       "    .dataframe thead th {\n",
       "        text-align: right;\n",
       "    }\n",
       "</style>\n",
       "<table border=\"1\" class=\"dataframe\">\n",
       "  <thead>\n",
       "    <tr style=\"text-align: right;\">\n",
       "      <th></th>\n",
       "      <th>listing_type_id_bronze</th>\n",
       "      <th>listing_type_id_gold</th>\n",
       "      <th>listing_type_id_gold_premium</th>\n",
       "      <th>listing_type_id_gold_pro</th>\n",
       "      <th>listing_type_id_gold_special</th>\n",
       "      <th>listing_type_id_silver</th>\n",
       "      <th>seller.seller_reputation.power_seller_status___NA__</th>\n",
       "      <th>seller.seller_reputation.power_seller_status_gold</th>\n",
       "      <th>seller.seller_reputation.power_seller_status_platinum</th>\n",
       "      <th>seller.seller_reputation.power_seller_status_silver</th>\n",
       "      <th>currency_id_ARS</th>\n",
       "      <th>currency_id_USD</th>\n",
       "      <th>currency_id___NA__</th>\n",
       "      <th>shipping.mode_custom</th>\n",
       "      <th>shipping.mode_me1</th>\n",
       "      <th>shipping.mode_me2</th>\n",
       "      <th>shipping.mode_not_specified</th>\n",
       "      <th>condition___NA__</th>\n",
       "      <th>condition_new</th>\n",
       "      <th>condition_not_specified</th>\n",
       "      <th>condition_used</th>\n",
       "      <th>buying_mode_buy_it_now</th>\n",
       "      <th>buying_mode_classified</th>\n",
       "      <th>address.state_name_Bs.As. Costa Atlántica</th>\n",
       "      <th>address.state_name_Bs.As. G.B.A. Norte</th>\n",
       "      <th>address.state_name_Bs.As. G.B.A. Oeste</th>\n",
       "      <th>address.state_name_Bs.As. G.B.A. Sur</th>\n",
       "      <th>address.state_name_Buenos Aires</th>\n",
       "      <th>address.state_name_Buenos Aires Interior</th>\n",
       "      <th>address.state_name_Capital Federal</th>\n",
       "      <th>address.state_name_Catamarca</th>\n",
       "      <th>address.state_name_Chaco</th>\n",
       "      <th>address.state_name_Chubut</th>\n",
       "      <th>address.state_name_Corrientes</th>\n",
       "      <th>address.state_name_Córdoba</th>\n",
       "      <th>address.state_name_Entre Ríos</th>\n",
       "      <th>address.state_name_Formosa</th>\n",
       "      <th>address.state_name_Jujuy</th>\n",
       "      <th>address.state_name_La Pampa</th>\n",
       "      <th>address.state_name_La Rioja</th>\n",
       "      <th>address.state_name_Mendoza</th>\n",
       "      <th>address.state_name_Misiones</th>\n",
       "      <th>address.state_name_Neuquén</th>\n",
       "      <th>address.state_name_Río Negro</th>\n",
       "      <th>address.state_name_Salta</th>\n",
       "      <th>address.state_name_San Juan</th>\n",
       "      <th>address.state_name_San Luis</th>\n",
       "      <th>address.state_name_Santa Cruz</th>\n",
       "      <th>address.state_name_Santa Fe</th>\n",
       "      <th>address.state_name_Santiago del Estero</th>\n",
       "      <th>address.state_name_Tierra del Fuego</th>\n",
       "      <th>address.state_name_Tucumán</th>\n",
       "      <th>seller.seller_reputation.metrics.sales.period_365 days</th>\n",
       "      <th>seller.seller_reputation.metrics.sales.period_60 days</th>\n",
       "      <th>seller.seller_reputation.metrics.sales.period_60 months</th>\n",
       "      <th>seller.seller_reputation.metrics.sales.period___NA__</th>\n",
       "      <th>seller.seller_reputation.real_level___NA__</th>\n",
       "      <th>seller.seller_reputation.real_level_green</th>\n",
       "      <th>seller.seller_reputation.real_level_green_gold</th>\n",
       "      <th>seller.seller_reputation.real_level_green_platinum</th>\n",
       "      <th>seller.seller_reputation.real_level_green_silver</th>\n",
       "      <th>seller.seller_reputation.real_level_orange</th>\n",
       "      <th>seller.seller_reputation.real_level_red</th>\n",
       "      <th>seller.seller_reputation.real_level_yellow</th>\n",
       "      <th>seller.seller_reputation.transactions.period___NA__</th>\n",
       "      <th>seller.seller_reputation.transactions.period_historic</th>\n",
       "      <th>shipping.logistic_type___NA__</th>\n",
       "      <th>shipping.logistic_type_cross_docking</th>\n",
       "      <th>shipping.logistic_type_custom</th>\n",
       "      <th>shipping.logistic_type_default</th>\n",
       "      <th>shipping.logistic_type_drop_off</th>\n",
       "      <th>shipping.logistic_type_fulfillment</th>\n",
       "      <th>shipping.logistic_type_not_specified</th>\n",
       "      <th>shipping.logistic_type_xd_drop_off</th>\n",
       "      <th>available_quantity</th>\n",
       "      <th>accepts_mercadopago</th>\n",
       "      <th>is_official_store</th>\n",
       "      <th>catalog_listing</th>\n",
       "      <th>seller.car_dealer</th>\n",
       "      <th>seller.real_estate_agency</th>\n",
       "      <th>shipping.free_shipping</th>\n",
       "      <th>shipping.store_pick_up</th>\n",
       "      <th>installments.quantity</th>\n",
       "      <th>installments.rate</th>\n",
       "      <th>price</th>\n",
       "      <th>seller.seller_reputation.transactions.total</th>\n",
       "      <th>seller.seller_reputation.transactions.canceled</th>\n",
       "      <th>seller.seller_reputation.transactions.ratings.negative</th>\n",
       "      <th>seller.seller_reputation.transactions.ratings.positive</th>\n",
       "      <th>seller.seller_reputation.transactions.ratings.neutral</th>\n",
       "      <th>seller.seller_reputation.transactions.completed</th>\n",
       "      <th>seller.seller_reputation.metrics.claims.rate</th>\n",
       "      <th>seller.seller_reputation.metrics.delayed_handling_time.rate</th>\n",
       "      <th>seller.seller_reputation.metrics.sales.completed</th>\n",
       "      <th>seller.seller_reputation.metrics.cancellations.rate</th>\n",
       "      <th>discount</th>\n",
       "    </tr>\n",
       "  </thead>\n",
       "  <tbody>\n",
       "    <tr>\n",
       "      <th>0</th>\n",
       "      <td>0</td>\n",
       "      <td>0</td>\n",
       "      <td>0</td>\n",
       "      <td>0</td>\n",
       "      <td>1</td>\n",
       "      <td>0</td>\n",
       "      <td>0</td>\n",
       "      <td>0</td>\n",
       "      <td>0</td>\n",
       "      <td>1</td>\n",
       "      <td>1</td>\n",
       "      <td>0</td>\n",
       "      <td>0</td>\n",
       "      <td>0</td>\n",
       "      <td>0</td>\n",
       "      <td>1</td>\n",
       "      <td>0</td>\n",
       "      <td>0</td>\n",
       "      <td>1</td>\n",
       "      <td>0</td>\n",
       "      <td>0</td>\n",
       "      <td>1</td>\n",
       "      <td>0</td>\n",
       "      <td>0</td>\n",
       "      <td>0</td>\n",
       "      <td>0</td>\n",
       "      <td>0</td>\n",
       "      <td>1</td>\n",
       "      <td>0</td>\n",
       "      <td>0</td>\n",
       "      <td>0</td>\n",
       "      <td>0</td>\n",
       "      <td>0</td>\n",
       "      <td>0</td>\n",
       "      <td>0</td>\n",
       "      <td>0</td>\n",
       "      <td>0</td>\n",
       "      <td>0</td>\n",
       "      <td>0</td>\n",
       "      <td>0</td>\n",
       "      <td>0</td>\n",
       "      <td>0</td>\n",
       "      <td>0</td>\n",
       "      <td>0</td>\n",
       "      <td>0</td>\n",
       "      <td>0</td>\n",
       "      <td>0</td>\n",
       "      <td>0</td>\n",
       "      <td>0</td>\n",
       "      <td>0</td>\n",
       "      <td>0</td>\n",
       "      <td>0</td>\n",
       "      <td>0</td>\n",
       "      <td>1</td>\n",
       "      <td>0</td>\n",
       "      <td>0</td>\n",
       "      <td>1</td>\n",
       "      <td>0</td>\n",
       "      <td>0</td>\n",
       "      <td>0</td>\n",
       "      <td>0</td>\n",
       "      <td>0</td>\n",
       "      <td>0</td>\n",
       "      <td>0</td>\n",
       "      <td>0</td>\n",
       "      <td>1</td>\n",
       "      <td>0</td>\n",
       "      <td>0</td>\n",
       "      <td>0</td>\n",
       "      <td>0</td>\n",
       "      <td>0</td>\n",
       "      <td>0</td>\n",
       "      <td>0</td>\n",
       "      <td>1</td>\n",
       "      <td>1</td>\n",
       "      <td>1</td>\n",
       "      <td>0</td>\n",
       "      <td>0</td>\n",
       "      <td>0</td>\n",
       "      <td>0</td>\n",
       "      <td>0</td>\n",
       "      <td>0</td>\n",
       "      <td>0.292067</td>\n",
       "      <td>0.432591</td>\n",
       "      <td>-0.110504</td>\n",
       "      <td>-0.556285</td>\n",
       "      <td>-0.479515</td>\n",
       "      <td>-0.749099</td>\n",
       "      <td>0.165588</td>\n",
       "      <td>0.348945</td>\n",
       "      <td>-0.558724</td>\n",
       "      <td>-0.784924</td>\n",
       "      <td>-0.594933</td>\n",
       "      <td>-0.455433</td>\n",
       "      <td>-0.651310</td>\n",
       "      <td>-0.301447</td>\n",
       "    </tr>\n",
       "    <tr>\n",
       "      <th>1</th>\n",
       "      <td>0</td>\n",
       "      <td>0</td>\n",
       "      <td>0</td>\n",
       "      <td>0</td>\n",
       "      <td>1</td>\n",
       "      <td>0</td>\n",
       "      <td>0</td>\n",
       "      <td>0</td>\n",
       "      <td>1</td>\n",
       "      <td>0</td>\n",
       "      <td>1</td>\n",
       "      <td>0</td>\n",
       "      <td>0</td>\n",
       "      <td>0</td>\n",
       "      <td>0</td>\n",
       "      <td>1</td>\n",
       "      <td>0</td>\n",
       "      <td>0</td>\n",
       "      <td>1</td>\n",
       "      <td>0</td>\n",
       "      <td>0</td>\n",
       "      <td>1</td>\n",
       "      <td>0</td>\n",
       "      <td>0</td>\n",
       "      <td>0</td>\n",
       "      <td>0</td>\n",
       "      <td>0</td>\n",
       "      <td>1</td>\n",
       "      <td>0</td>\n",
       "      <td>0</td>\n",
       "      <td>0</td>\n",
       "      <td>0</td>\n",
       "      <td>0</td>\n",
       "      <td>0</td>\n",
       "      <td>0</td>\n",
       "      <td>0</td>\n",
       "      <td>0</td>\n",
       "      <td>0</td>\n",
       "      <td>0</td>\n",
       "      <td>0</td>\n",
       "      <td>0</td>\n",
       "      <td>0</td>\n",
       "      <td>0</td>\n",
       "      <td>0</td>\n",
       "      <td>0</td>\n",
       "      <td>0</td>\n",
       "      <td>0</td>\n",
       "      <td>0</td>\n",
       "      <td>0</td>\n",
       "      <td>0</td>\n",
       "      <td>0</td>\n",
       "      <td>0</td>\n",
       "      <td>0</td>\n",
       "      <td>1</td>\n",
       "      <td>0</td>\n",
       "      <td>0</td>\n",
       "      <td>1</td>\n",
       "      <td>0</td>\n",
       "      <td>0</td>\n",
       "      <td>0</td>\n",
       "      <td>0</td>\n",
       "      <td>0</td>\n",
       "      <td>0</td>\n",
       "      <td>0</td>\n",
       "      <td>0</td>\n",
       "      <td>1</td>\n",
       "      <td>0</td>\n",
       "      <td>1</td>\n",
       "      <td>0</td>\n",
       "      <td>0</td>\n",
       "      <td>0</td>\n",
       "      <td>0</td>\n",
       "      <td>0</td>\n",
       "      <td>0</td>\n",
       "      <td>0</td>\n",
       "      <td>1</td>\n",
       "      <td>0</td>\n",
       "      <td>0</td>\n",
       "      <td>0</td>\n",
       "      <td>0</td>\n",
       "      <td>0</td>\n",
       "      <td>0</td>\n",
       "      <td>0.292067</td>\n",
       "      <td>0.432591</td>\n",
       "      <td>-0.111038</td>\n",
       "      <td>-0.202483</td>\n",
       "      <td>-0.262958</td>\n",
       "      <td>-0.189255</td>\n",
       "      <td>0.278190</td>\n",
       "      <td>-0.313309</td>\n",
       "      <td>-0.197738</td>\n",
       "      <td>-0.517923</td>\n",
       "      <td>-0.594933</td>\n",
       "      <td>-0.267342</td>\n",
       "      <td>-0.651310</td>\n",
       "      <td>-0.301447</td>\n",
       "    </tr>\n",
       "    <tr>\n",
       "      <th>2</th>\n",
       "      <td>0</td>\n",
       "      <td>0</td>\n",
       "      <td>0</td>\n",
       "      <td>0</td>\n",
       "      <td>1</td>\n",
       "      <td>0</td>\n",
       "      <td>0</td>\n",
       "      <td>0</td>\n",
       "      <td>0</td>\n",
       "      <td>1</td>\n",
       "      <td>1</td>\n",
       "      <td>0</td>\n",
       "      <td>0</td>\n",
       "      <td>0</td>\n",
       "      <td>0</td>\n",
       "      <td>1</td>\n",
       "      <td>0</td>\n",
       "      <td>0</td>\n",
       "      <td>1</td>\n",
       "      <td>0</td>\n",
       "      <td>0</td>\n",
       "      <td>1</td>\n",
       "      <td>0</td>\n",
       "      <td>0</td>\n",
       "      <td>0</td>\n",
       "      <td>0</td>\n",
       "      <td>0</td>\n",
       "      <td>1</td>\n",
       "      <td>0</td>\n",
       "      <td>0</td>\n",
       "      <td>0</td>\n",
       "      <td>0</td>\n",
       "      <td>0</td>\n",
       "      <td>0</td>\n",
       "      <td>0</td>\n",
       "      <td>0</td>\n",
       "      <td>0</td>\n",
       "      <td>0</td>\n",
       "      <td>0</td>\n",
       "      <td>0</td>\n",
       "      <td>0</td>\n",
       "      <td>0</td>\n",
       "      <td>0</td>\n",
       "      <td>0</td>\n",
       "      <td>0</td>\n",
       "      <td>0</td>\n",
       "      <td>0</td>\n",
       "      <td>0</td>\n",
       "      <td>0</td>\n",
       "      <td>0</td>\n",
       "      <td>0</td>\n",
       "      <td>0</td>\n",
       "      <td>0</td>\n",
       "      <td>1</td>\n",
       "      <td>0</td>\n",
       "      <td>0</td>\n",
       "      <td>0</td>\n",
       "      <td>1</td>\n",
       "      <td>0</td>\n",
       "      <td>0</td>\n",
       "      <td>0</td>\n",
       "      <td>0</td>\n",
       "      <td>0</td>\n",
       "      <td>0</td>\n",
       "      <td>0</td>\n",
       "      <td>1</td>\n",
       "      <td>0</td>\n",
       "      <td>0</td>\n",
       "      <td>0</td>\n",
       "      <td>0</td>\n",
       "      <td>0</td>\n",
       "      <td>0</td>\n",
       "      <td>0</td>\n",
       "      <td>1</td>\n",
       "      <td>0</td>\n",
       "      <td>1</td>\n",
       "      <td>0</td>\n",
       "      <td>0</td>\n",
       "      <td>0</td>\n",
       "      <td>0</td>\n",
       "      <td>0</td>\n",
       "      <td>0</td>\n",
       "      <td>0.292067</td>\n",
       "      <td>0.432591</td>\n",
       "      <td>-0.111729</td>\n",
       "      <td>-0.561947</td>\n",
       "      <td>-0.484032</td>\n",
       "      <td>-0.749099</td>\n",
       "      <td>0.334491</td>\n",
       "      <td>-0.313309</td>\n",
       "      <td>-0.564434</td>\n",
       "      <td>-0.784924</td>\n",
       "      <td>-0.594933</td>\n",
       "      <td>-0.469275</td>\n",
       "      <td>-0.651310</td>\n",
       "      <td>-0.301447</td>\n",
       "    </tr>\n",
       "    <tr>\n",
       "      <th>3</th>\n",
       "      <td>0</td>\n",
       "      <td>0</td>\n",
       "      <td>0</td>\n",
       "      <td>0</td>\n",
       "      <td>1</td>\n",
       "      <td>0</td>\n",
       "      <td>0</td>\n",
       "      <td>0</td>\n",
       "      <td>1</td>\n",
       "      <td>0</td>\n",
       "      <td>1</td>\n",
       "      <td>0</td>\n",
       "      <td>0</td>\n",
       "      <td>0</td>\n",
       "      <td>0</td>\n",
       "      <td>1</td>\n",
       "      <td>0</td>\n",
       "      <td>0</td>\n",
       "      <td>1</td>\n",
       "      <td>0</td>\n",
       "      <td>0</td>\n",
       "      <td>1</td>\n",
       "      <td>0</td>\n",
       "      <td>0</td>\n",
       "      <td>0</td>\n",
       "      <td>0</td>\n",
       "      <td>0</td>\n",
       "      <td>1</td>\n",
       "      <td>0</td>\n",
       "      <td>0</td>\n",
       "      <td>0</td>\n",
       "      <td>0</td>\n",
       "      <td>0</td>\n",
       "      <td>0</td>\n",
       "      <td>0</td>\n",
       "      <td>0</td>\n",
       "      <td>0</td>\n",
       "      <td>0</td>\n",
       "      <td>0</td>\n",
       "      <td>0</td>\n",
       "      <td>0</td>\n",
       "      <td>0</td>\n",
       "      <td>0</td>\n",
       "      <td>0</td>\n",
       "      <td>0</td>\n",
       "      <td>0</td>\n",
       "      <td>0</td>\n",
       "      <td>0</td>\n",
       "      <td>0</td>\n",
       "      <td>0</td>\n",
       "      <td>0</td>\n",
       "      <td>0</td>\n",
       "      <td>0</td>\n",
       "      <td>1</td>\n",
       "      <td>0</td>\n",
       "      <td>0</td>\n",
       "      <td>1</td>\n",
       "      <td>0</td>\n",
       "      <td>0</td>\n",
       "      <td>0</td>\n",
       "      <td>0</td>\n",
       "      <td>0</td>\n",
       "      <td>0</td>\n",
       "      <td>0</td>\n",
       "      <td>0</td>\n",
       "      <td>1</td>\n",
       "      <td>0</td>\n",
       "      <td>1</td>\n",
       "      <td>0</td>\n",
       "      <td>0</td>\n",
       "      <td>0</td>\n",
       "      <td>0</td>\n",
       "      <td>0</td>\n",
       "      <td>0</td>\n",
       "      <td>6</td>\n",
       "      <td>1</td>\n",
       "      <td>0</td>\n",
       "      <td>0</td>\n",
       "      <td>0</td>\n",
       "      <td>0</td>\n",
       "      <td>0</td>\n",
       "      <td>0</td>\n",
       "      <td>0.292067</td>\n",
       "      <td>0.432591</td>\n",
       "      <td>-0.109949</td>\n",
       "      <td>-0.454106</td>\n",
       "      <td>-0.347109</td>\n",
       "      <td>-0.749099</td>\n",
       "      <td>0.278190</td>\n",
       "      <td>-0.092557</td>\n",
       "      <td>-0.458921</td>\n",
       "      <td>1.003979</td>\n",
       "      <td>-0.270125</td>\n",
       "      <td>-0.381170</td>\n",
       "      <td>0.086334</td>\n",
       "      <td>-0.301447</td>\n",
       "    </tr>\n",
       "    <tr>\n",
       "      <th>4</th>\n",
       "      <td>0</td>\n",
       "      <td>0</td>\n",
       "      <td>0</td>\n",
       "      <td>0</td>\n",
       "      <td>1</td>\n",
       "      <td>0</td>\n",
       "      <td>0</td>\n",
       "      <td>0</td>\n",
       "      <td>1</td>\n",
       "      <td>0</td>\n",
       "      <td>1</td>\n",
       "      <td>0</td>\n",
       "      <td>0</td>\n",
       "      <td>0</td>\n",
       "      <td>0</td>\n",
       "      <td>1</td>\n",
       "      <td>0</td>\n",
       "      <td>0</td>\n",
       "      <td>1</td>\n",
       "      <td>0</td>\n",
       "      <td>0</td>\n",
       "      <td>1</td>\n",
       "      <td>0</td>\n",
       "      <td>0</td>\n",
       "      <td>0</td>\n",
       "      <td>0</td>\n",
       "      <td>0</td>\n",
       "      <td>1</td>\n",
       "      <td>0</td>\n",
       "      <td>0</td>\n",
       "      <td>0</td>\n",
       "      <td>0</td>\n",
       "      <td>0</td>\n",
       "      <td>0</td>\n",
       "      <td>0</td>\n",
       "      <td>0</td>\n",
       "      <td>0</td>\n",
       "      <td>0</td>\n",
       "      <td>0</td>\n",
       "      <td>0</td>\n",
       "      <td>0</td>\n",
       "      <td>0</td>\n",
       "      <td>0</td>\n",
       "      <td>0</td>\n",
       "      <td>0</td>\n",
       "      <td>0</td>\n",
       "      <td>0</td>\n",
       "      <td>0</td>\n",
       "      <td>0</td>\n",
       "      <td>0</td>\n",
       "      <td>0</td>\n",
       "      <td>0</td>\n",
       "      <td>0</td>\n",
       "      <td>1</td>\n",
       "      <td>0</td>\n",
       "      <td>0</td>\n",
       "      <td>1</td>\n",
       "      <td>0</td>\n",
       "      <td>0</td>\n",
       "      <td>0</td>\n",
       "      <td>0</td>\n",
       "      <td>0</td>\n",
       "      <td>0</td>\n",
       "      <td>0</td>\n",
       "      <td>0</td>\n",
       "      <td>1</td>\n",
       "      <td>0</td>\n",
       "      <td>0</td>\n",
       "      <td>0</td>\n",
       "      <td>0</td>\n",
       "      <td>0</td>\n",
       "      <td>1</td>\n",
       "      <td>0</td>\n",
       "      <td>0</td>\n",
       "      <td>0</td>\n",
       "      <td>1</td>\n",
       "      <td>0</td>\n",
       "      <td>0</td>\n",
       "      <td>0</td>\n",
       "      <td>0</td>\n",
       "      <td>0</td>\n",
       "      <td>0</td>\n",
       "      <td>0.292067</td>\n",
       "      <td>0.432591</td>\n",
       "      <td>-0.109936</td>\n",
       "      <td>0.385972</td>\n",
       "      <td>0.172533</td>\n",
       "      <td>-0.189255</td>\n",
       "      <td>0.221889</td>\n",
       "      <td>-0.092557</td>\n",
       "      <td>0.397869</td>\n",
       "      <td>0.202978</td>\n",
       "      <td>0.008828</td>\n",
       "      <td>0.232212</td>\n",
       "      <td>-0.144180</td>\n",
       "      <td>-0.301447</td>\n",
       "    </tr>\n",
       "  </tbody>\n",
       "</table>\n",
       "</div>"
      ],
      "text/plain": [
       "   listing_type_id_bronze  listing_type_id_gold  listing_type_id_gold_premium  \\\n",
       "0                       0                     0                             0   \n",
       "1                       0                     0                             0   \n",
       "2                       0                     0                             0   \n",
       "3                       0                     0                             0   \n",
       "4                       0                     0                             0   \n",
       "\n",
       "   listing_type_id_gold_pro  listing_type_id_gold_special  \\\n",
       "0                         0                             1   \n",
       "1                         0                             1   \n",
       "2                         0                             1   \n",
       "3                         0                             1   \n",
       "4                         0                             1   \n",
       "\n",
       "   listing_type_id_silver  \\\n",
       "0                       0   \n",
       "1                       0   \n",
       "2                       0   \n",
       "3                       0   \n",
       "4                       0   \n",
       "\n",
       "   seller.seller_reputation.power_seller_status___NA__  \\\n",
       "0                                                  0     \n",
       "1                                                  0     \n",
       "2                                                  0     \n",
       "3                                                  0     \n",
       "4                                                  0     \n",
       "\n",
       "   seller.seller_reputation.power_seller_status_gold  \\\n",
       "0                                                  0   \n",
       "1                                                  0   \n",
       "2                                                  0   \n",
       "3                                                  0   \n",
       "4                                                  0   \n",
       "\n",
       "   seller.seller_reputation.power_seller_status_platinum  \\\n",
       "0                                                  0       \n",
       "1                                                  1       \n",
       "2                                                  0       \n",
       "3                                                  1       \n",
       "4                                                  1       \n",
       "\n",
       "   seller.seller_reputation.power_seller_status_silver  currency_id_ARS  \\\n",
       "0                                                  1                  1   \n",
       "1                                                  0                  1   \n",
       "2                                                  1                  1   \n",
       "3                                                  0                  1   \n",
       "4                                                  0                  1   \n",
       "\n",
       "   currency_id_USD  currency_id___NA__  shipping.mode_custom  \\\n",
       "0                0                   0                     0   \n",
       "1                0                   0                     0   \n",
       "2                0                   0                     0   \n",
       "3                0                   0                     0   \n",
       "4                0                   0                     0   \n",
       "\n",
       "   shipping.mode_me1  shipping.mode_me2  shipping.mode_not_specified  \\\n",
       "0                  0                  1                            0   \n",
       "1                  0                  1                            0   \n",
       "2                  0                  1                            0   \n",
       "3                  0                  1                            0   \n",
       "4                  0                  1                            0   \n",
       "\n",
       "   condition___NA__  condition_new  condition_not_specified  condition_used  \\\n",
       "0                 0              1                        0               0   \n",
       "1                 0              1                        0               0   \n",
       "2                 0              1                        0               0   \n",
       "3                 0              1                        0               0   \n",
       "4                 0              1                        0               0   \n",
       "\n",
       "   buying_mode_buy_it_now  buying_mode_classified  \\\n",
       "0                       1                       0   \n",
       "1                       1                       0   \n",
       "2                       1                       0   \n",
       "3                       1                       0   \n",
       "4                       1                       0   \n",
       "\n",
       "   address.state_name_Bs.As. Costa Atlántica  \\\n",
       "0                                          0   \n",
       "1                                          0   \n",
       "2                                          0   \n",
       "3                                          0   \n",
       "4                                          0   \n",
       "\n",
       "   address.state_name_Bs.As. G.B.A. Norte  \\\n",
       "0                                       0   \n",
       "1                                       0   \n",
       "2                                       0   \n",
       "3                                       0   \n",
       "4                                       0   \n",
       "\n",
       "   address.state_name_Bs.As. G.B.A. Oeste  \\\n",
       "0                                       0   \n",
       "1                                       0   \n",
       "2                                       0   \n",
       "3                                       0   \n",
       "4                                       0   \n",
       "\n",
       "   address.state_name_Bs.As. G.B.A. Sur  address.state_name_Buenos Aires  \\\n",
       "0                                     0                                1   \n",
       "1                                     0                                1   \n",
       "2                                     0                                1   \n",
       "3                                     0                                1   \n",
       "4                                     0                                1   \n",
       "\n",
       "   address.state_name_Buenos Aires Interior  \\\n",
       "0                                         0   \n",
       "1                                         0   \n",
       "2                                         0   \n",
       "3                                         0   \n",
       "4                                         0   \n",
       "\n",
       "   address.state_name_Capital Federal  address.state_name_Catamarca  \\\n",
       "0                                   0                             0   \n",
       "1                                   0                             0   \n",
       "2                                   0                             0   \n",
       "3                                   0                             0   \n",
       "4                                   0                             0   \n",
       "\n",
       "   address.state_name_Chaco  address.state_name_Chubut  \\\n",
       "0                         0                          0   \n",
       "1                         0                          0   \n",
       "2                         0                          0   \n",
       "3                         0                          0   \n",
       "4                         0                          0   \n",
       "\n",
       "   address.state_name_Corrientes  address.state_name_Córdoba  \\\n",
       "0                              0                           0   \n",
       "1                              0                           0   \n",
       "2                              0                           0   \n",
       "3                              0                           0   \n",
       "4                              0                           0   \n",
       "\n",
       "   address.state_name_Entre Ríos  address.state_name_Formosa  \\\n",
       "0                              0                           0   \n",
       "1                              0                           0   \n",
       "2                              0                           0   \n",
       "3                              0                           0   \n",
       "4                              0                           0   \n",
       "\n",
       "   address.state_name_Jujuy  address.state_name_La Pampa  \\\n",
       "0                         0                            0   \n",
       "1                         0                            0   \n",
       "2                         0                            0   \n",
       "3                         0                            0   \n",
       "4                         0                            0   \n",
       "\n",
       "   address.state_name_La Rioja  address.state_name_Mendoza  \\\n",
       "0                            0                           0   \n",
       "1                            0                           0   \n",
       "2                            0                           0   \n",
       "3                            0                           0   \n",
       "4                            0                           0   \n",
       "\n",
       "   address.state_name_Misiones  address.state_name_Neuquén  \\\n",
       "0                            0                           0   \n",
       "1                            0                           0   \n",
       "2                            0                           0   \n",
       "3                            0                           0   \n",
       "4                            0                           0   \n",
       "\n",
       "   address.state_name_Río Negro  address.state_name_Salta  \\\n",
       "0                             0                         0   \n",
       "1                             0                         0   \n",
       "2                             0                         0   \n",
       "3                             0                         0   \n",
       "4                             0                         0   \n",
       "\n",
       "   address.state_name_San Juan  address.state_name_San Luis  \\\n",
       "0                            0                            0   \n",
       "1                            0                            0   \n",
       "2                            0                            0   \n",
       "3                            0                            0   \n",
       "4                            0                            0   \n",
       "\n",
       "   address.state_name_Santa Cruz  address.state_name_Santa Fe  \\\n",
       "0                              0                            0   \n",
       "1                              0                            0   \n",
       "2                              0                            0   \n",
       "3                              0                            0   \n",
       "4                              0                            0   \n",
       "\n",
       "   address.state_name_Santiago del Estero  \\\n",
       "0                                       0   \n",
       "1                                       0   \n",
       "2                                       0   \n",
       "3                                       0   \n",
       "4                                       0   \n",
       "\n",
       "   address.state_name_Tierra del Fuego  address.state_name_Tucumán  \\\n",
       "0                                    0                           0   \n",
       "1                                    0                           0   \n",
       "2                                    0                           0   \n",
       "3                                    0                           0   \n",
       "4                                    0                           0   \n",
       "\n",
       "   seller.seller_reputation.metrics.sales.period_365 days  \\\n",
       "0                                                  0        \n",
       "1                                                  0        \n",
       "2                                                  0        \n",
       "3                                                  0        \n",
       "4                                                  0        \n",
       "\n",
       "   seller.seller_reputation.metrics.sales.period_60 days  \\\n",
       "0                                                  1       \n",
       "1                                                  1       \n",
       "2                                                  1       \n",
       "3                                                  1       \n",
       "4                                                  1       \n",
       "\n",
       "   seller.seller_reputation.metrics.sales.period_60 months  \\\n",
       "0                                                  0         \n",
       "1                                                  0         \n",
       "2                                                  0         \n",
       "3                                                  0         \n",
       "4                                                  0         \n",
       "\n",
       "   seller.seller_reputation.metrics.sales.period___NA__  \\\n",
       "0                                                  0      \n",
       "1                                                  0      \n",
       "2                                                  0      \n",
       "3                                                  0      \n",
       "4                                                  0      \n",
       "\n",
       "   seller.seller_reputation.real_level___NA__  \\\n",
       "0                                           1   \n",
       "1                                           1   \n",
       "2                                           0   \n",
       "3                                           1   \n",
       "4                                           1   \n",
       "\n",
       "   seller.seller_reputation.real_level_green  \\\n",
       "0                                          0   \n",
       "1                                          0   \n",
       "2                                          1   \n",
       "3                                          0   \n",
       "4                                          0   \n",
       "\n",
       "   seller.seller_reputation.real_level_green_gold  \\\n",
       "0                                               0   \n",
       "1                                               0   \n",
       "2                                               0   \n",
       "3                                               0   \n",
       "4                                               0   \n",
       "\n",
       "   seller.seller_reputation.real_level_green_platinum  \\\n",
       "0                                                  0    \n",
       "1                                                  0    \n",
       "2                                                  0    \n",
       "3                                                  0    \n",
       "4                                                  0    \n",
       "\n",
       "   seller.seller_reputation.real_level_green_silver  \\\n",
       "0                                                 0   \n",
       "1                                                 0   \n",
       "2                                                 0   \n",
       "3                                                 0   \n",
       "4                                                 0   \n",
       "\n",
       "   seller.seller_reputation.real_level_orange  \\\n",
       "0                                           0   \n",
       "1                                           0   \n",
       "2                                           0   \n",
       "3                                           0   \n",
       "4                                           0   \n",
       "\n",
       "   seller.seller_reputation.real_level_red  \\\n",
       "0                                        0   \n",
       "1                                        0   \n",
       "2                                        0   \n",
       "3                                        0   \n",
       "4                                        0   \n",
       "\n",
       "   seller.seller_reputation.real_level_yellow  \\\n",
       "0                                           0   \n",
       "1                                           0   \n",
       "2                                           0   \n",
       "3                                           0   \n",
       "4                                           0   \n",
       "\n",
       "   seller.seller_reputation.transactions.period___NA__  \\\n",
       "0                                                  0     \n",
       "1                                                  0     \n",
       "2                                                  0     \n",
       "3                                                  0     \n",
       "4                                                  0     \n",
       "\n",
       "   seller.seller_reputation.transactions.period_historic  \\\n",
       "0                                                  1       \n",
       "1                                                  1       \n",
       "2                                                  1       \n",
       "3                                                  1       \n",
       "4                                                  1       \n",
       "\n",
       "   shipping.logistic_type___NA__  shipping.logistic_type_cross_docking  \\\n",
       "0                              0                                     0   \n",
       "1                              0                                     1   \n",
       "2                              0                                     0   \n",
       "3                              0                                     1   \n",
       "4                              0                                     0   \n",
       "\n",
       "   shipping.logistic_type_custom  shipping.logistic_type_default  \\\n",
       "0                              0                               0   \n",
       "1                              0                               0   \n",
       "2                              0                               0   \n",
       "3                              0                               0   \n",
       "4                              0                               0   \n",
       "\n",
       "   shipping.logistic_type_drop_off  shipping.logistic_type_fulfillment  \\\n",
       "0                                0                                   0   \n",
       "1                                0                                   0   \n",
       "2                                0                                   0   \n",
       "3                                0                                   0   \n",
       "4                                0                                   1   \n",
       "\n",
       "   shipping.logistic_type_not_specified  shipping.logistic_type_xd_drop_off  \\\n",
       "0                                     0                                   1   \n",
       "1                                     0                                   0   \n",
       "2                                     0                                   1   \n",
       "3                                     0                                   0   \n",
       "4                                     0                                   0   \n",
       "\n",
       "   available_quantity  accepts_mercadopago  is_official_store  \\\n",
       "0                   1                    1                  0   \n",
       "1                   0                    1                  0   \n",
       "2                   0                    1                  0   \n",
       "3                   6                    1                  0   \n",
       "4                   0                    1                  0   \n",
       "\n",
       "   catalog_listing  seller.car_dealer  seller.real_estate_agency  \\\n",
       "0                0                  0                          0   \n",
       "1                0                  0                          0   \n",
       "2                0                  0                          0   \n",
       "3                0                  0                          0   \n",
       "4                0                  0                          0   \n",
       "\n",
       "   shipping.free_shipping  shipping.store_pick_up  installments.quantity  \\\n",
       "0                       0                       0               0.292067   \n",
       "1                       0                       0               0.292067   \n",
       "2                       0                       0               0.292067   \n",
       "3                       0                       0               0.292067   \n",
       "4                       0                       0               0.292067   \n",
       "\n",
       "   installments.rate     price  seller.seller_reputation.transactions.total  \\\n",
       "0           0.432591 -0.110504                                    -0.556285   \n",
       "1           0.432591 -0.111038                                    -0.202483   \n",
       "2           0.432591 -0.111729                                    -0.561947   \n",
       "3           0.432591 -0.109949                                    -0.454106   \n",
       "4           0.432591 -0.109936                                     0.385972   \n",
       "\n",
       "   seller.seller_reputation.transactions.canceled  \\\n",
       "0                                       -0.479515   \n",
       "1                                       -0.262958   \n",
       "2                                       -0.484032   \n",
       "3                                       -0.347109   \n",
       "4                                        0.172533   \n",
       "\n",
       "   seller.seller_reputation.transactions.ratings.negative  \\\n",
       "0                                          -0.749099        \n",
       "1                                          -0.189255        \n",
       "2                                          -0.749099        \n",
       "3                                          -0.749099        \n",
       "4                                          -0.189255        \n",
       "\n",
       "   seller.seller_reputation.transactions.ratings.positive  \\\n",
       "0                                           0.165588        \n",
       "1                                           0.278190        \n",
       "2                                           0.334491        \n",
       "3                                           0.278190        \n",
       "4                                           0.221889        \n",
       "\n",
       "   seller.seller_reputation.transactions.ratings.neutral  \\\n",
       "0                                           0.348945       \n",
       "1                                          -0.313309       \n",
       "2                                          -0.313309       \n",
       "3                                          -0.092557       \n",
       "4                                          -0.092557       \n",
       "\n",
       "   seller.seller_reputation.transactions.completed  \\\n",
       "0                                        -0.558724   \n",
       "1                                        -0.197738   \n",
       "2                                        -0.564434   \n",
       "3                                        -0.458921   \n",
       "4                                         0.397869   \n",
       "\n",
       "   seller.seller_reputation.metrics.claims.rate  \\\n",
       "0                                     -0.784924   \n",
       "1                                     -0.517923   \n",
       "2                                     -0.784924   \n",
       "3                                      1.003979   \n",
       "4                                      0.202978   \n",
       "\n",
       "   seller.seller_reputation.metrics.delayed_handling_time.rate  \\\n",
       "0                                          -0.594933             \n",
       "1                                          -0.594933             \n",
       "2                                          -0.594933             \n",
       "3                                          -0.270125             \n",
       "4                                           0.008828             \n",
       "\n",
       "   seller.seller_reputation.metrics.sales.completed  \\\n",
       "0                                         -0.455433   \n",
       "1                                         -0.267342   \n",
       "2                                         -0.469275   \n",
       "3                                         -0.381170   \n",
       "4                                          0.232212   \n",
       "\n",
       "   seller.seller_reputation.metrics.cancellations.rate  discount  \n",
       "0                                          -0.651310   -0.301447  \n",
       "1                                          -0.651310   -0.301447  \n",
       "2                                          -0.651310   -0.301447  \n",
       "3                                           0.086334   -0.301447  \n",
       "4                                          -0.144180   -0.301447  "
      ]
     },
     "execution_count": 44,
     "metadata": {},
     "output_type": "execute_result"
    }
   ],
   "source": [
    "X_copy.head()"
   ]
  },
  {
   "cell_type": "code",
   "execution_count": 46,
   "metadata": {},
   "outputs": [
    {
     "data": {
      "text/plain": [
       "['shipping.logistic_type_drop_off',\n",
       " 'shipping.logistic_type_xd_drop_off',\n",
       " 'is_official_store']"
      ]
     },
     "execution_count": 46,
     "metadata": {},
     "output_type": "execute_result"
    }
   ],
   "source": [
    "[x for x in X_copy.columns if \"off\" in x]"
   ]
  },
  {
   "cell_type": "code",
   "execution_count": 47,
   "metadata": {
    "scrolled": true
   },
   "outputs": [
    {
     "data": {
      "text/plain": [
       "-0.301447    20364\n",
       " 0.411597      296\n",
       " 1.124640      131\n",
       " 0.411597       94\n",
       " 0.554205       72\n",
       "             ...  \n",
       " 0.411779        1\n",
       " 0.577973        1\n",
       " 3.905405        1\n",
       " 4.689968        1\n",
       " 3.976815        1\n",
       "Name: discount, Length: 1394, dtype: int64"
      ]
     },
     "execution_count": 47,
     "metadata": {},
     "output_type": "execute_result"
    }
   ],
   "source": [
    "X_copy.discount.value_counts()"
   ]
  },
  {
   "cell_type": "code",
   "execution_count": 48,
   "metadata": {
    "scrolled": true
   },
   "outputs": [
    {
     "data": {
      "text/plain": [
       " 0.292067    19764\n",
       "-3.372904     1673\n",
       "-0.624176     1326\n",
       " 2.124553      376\n",
       "-2.456662       41\n",
       "Name: installments.quantity, dtype: int64"
      ]
     },
     "execution_count": 48,
     "metadata": {},
     "output_type": "execute_result"
    }
   ],
   "source": [
    "X_copy['installments.quantity'].value_counts()"
   ]
  },
  {
   "cell_type": "code",
   "execution_count": 49,
   "metadata": {
    "scrolled": true
   },
   "outputs": [
    {
     "data": {
      "text/plain": [
       "-0.112102    183\n",
       "-0.111215    140\n",
       "-0.108995    138\n",
       "-0.110328    131\n",
       "-0.111347    123\n",
       "            ... \n",
       "-0.111395      1\n",
       "-0.110619      1\n",
       "-0.111816      1\n",
       "-0.111782      1\n",
       "-0.105765      1\n",
       "Name: price, Length: 7571, dtype: int64"
      ]
     },
     "execution_count": 49,
     "metadata": {},
     "output_type": "execute_result"
    }
   ],
   "source": [
    "X_copy['price'].value_counts()"
   ]
  },
  {
   "cell_type": "code",
   "execution_count": 50,
   "metadata": {
    "scrolled": false
   },
   "outputs": [
    {
     "data": {
      "text/plain": [
       "1        13344\n",
       "50        2653\n",
       "500       2466\n",
       "250       1508\n",
       "100       1083\n",
       "150        758\n",
       "5000       658\n",
       "200        458\n",
       "50000      252\n",
       "Name: available_quantity, dtype: int64"
      ]
     },
     "execution_count": 50,
     "metadata": {},
     "output_type": "execute_result"
    }
   ],
   "source": [
    "X.available_quantity.value_counts()"
   ]
  },
  {
   "cell_type": "code",
   "execution_count": 51,
   "metadata": {
    "scrolled": false
   },
   "outputs": [
    {
     "data": {
      "text/plain": [
       "0    13344\n",
       "1     2653\n",
       "6     2466\n",
       "5     1508\n",
       "2     1083\n",
       "3      758\n",
       "7      658\n",
       "4      458\n",
       "8      252\n",
       "Name: available_quantity, dtype: int64"
      ]
     },
     "execution_count": 51,
     "metadata": {},
     "output_type": "execute_result"
    }
   ],
   "source": [
    "X_copy.available_quantity.value_counts()"
   ]
  },
  {
   "cell_type": "code",
   "execution_count": 52,
   "metadata": {
    "scrolled": false
   },
   "outputs": [
    {
     "data": {
      "text/plain": [
       "True     22457\n",
       "False      723\n",
       "Name: accepts_mercadopago, dtype: int64"
      ]
     },
     "execution_count": 52,
     "metadata": {},
     "output_type": "execute_result"
    }
   ],
   "source": [
    "X.accepts_mercadopago.value_counts()"
   ]
  },
  {
   "cell_type": "code",
   "execution_count": 53,
   "metadata": {
    "scrolled": true
   },
   "outputs": [
    {
     "data": {
      "text/plain": [
       "1    22457\n",
       "0      723\n",
       "Name: accepts_mercadopago, dtype: int64"
      ]
     },
     "execution_count": 53,
     "metadata": {},
     "output_type": "execute_result"
    }
   ],
   "source": [
    "X_copy.accepts_mercadopago.value_counts()"
   ]
  },
  {
   "cell_type": "code",
   "execution_count": null,
   "metadata": {},
   "outputs": [],
   "source": []
  },
  {
   "cell_type": "markdown",
   "metadata": {},
   "source": [
    "## Oversampling con smote"
   ]
  },
  {
   "cell_type": "code",
   "execution_count": 54,
   "metadata": {},
   "outputs": [],
   "source": [
    "oversample = SMOTE(n_jobs=7,\n",
    "                  sampling_strategy= smote_sampling_strategy)\n",
    "X_copy, y_copy = oversample.fit_resample(X_copy, y_copy)\n"
   ]
  },
  {
   "cell_type": "markdown",
   "metadata": {},
   "source": [
    "Instancias por clase post resampling:"
   ]
  },
  {
   "cell_type": "code",
   "execution_count": 55,
   "metadata": {},
   "outputs": [
    {
     "data": {
      "text/plain": [
       "1        3058\n",
       "5        2610\n",
       "25       2068\n",
       "50       3157\n",
       "100      2398\n",
       "150      1936\n",
       "200      1629\n",
       "250      3541\n",
       "500      6859\n",
       "5000      771\n",
       "50000      12\n",
       "Name: sold_quantity, dtype: int64"
      ]
     },
     "execution_count": 55,
     "metadata": {},
     "output_type": "execute_result"
    }
   ],
   "source": [
    "y_copy.value_counts().sort_index()"
   ]
  },
  {
   "cell_type": "code",
   "execution_count": null,
   "metadata": {},
   "outputs": [],
   "source": []
  },
  {
   "cell_type": "markdown",
   "metadata": {},
   "source": [
    "## Models\n",
    "Nota: podría haber probado con más modelos (KNN, Random Forest, Decision Tree, ... )"
   ]
  },
  {
   "cell_type": "code",
   "execution_count": 56,
   "metadata": {},
   "outputs": [],
   "source": [
    "models = {         \n",
    "          'lr': LogisticRegression(),\n",
    "          'xgb':XGBClassifier(),\n",
    "          'mlp':MLPClassifier(),\n",
    "}"
   ]
  },
  {
   "cell_type": "code",
   "execution_count": 57,
   "metadata": {},
   "outputs": [],
   "source": [
    "hparams = {'xgb':{'max_depth':[5,7,10], 'gamma': [1,5,10,20], 'n_jobs':[7], 'learning_rate': [0.05, 0.1], 'n_estimators':[100, 200, 500],\n",
    "                 'colsample_bytree': [0.2, 0.5], 'seed': [seed]},\n",
    "     \n",
    "          'lr': {'multi_class': ['ovr'], 'class_weight':['balanced'], 'C': [0.01, 0.1, 1, 10,], 'solver': ['saga',], 'random_state':[seed]},\n",
    "    \n",
    "          \n",
    "          'mlp':{'solver':[\"adam\", 'sgd'], 'hidden_layer_sizes' : [(64, 64, 64), (64, 64, 64, 64), (64, 64, 64, 64, 64)], 'activation' : ['relu'], 'learning_rate_init' : [0.001, 0.01, 0.05], 'alpha' : [0.0001, 0.05, 0.001],\n",
    "                 'max_iter':[1800], 'batch_size':[64, 256], 'learning_rate': ['constant','adaptive'], 'random_state':[seed]},         \n",
    "     \n",
    "}"
   ]
  },
  {
   "cell_type": "code",
   "execution_count": 58,
   "metadata": {},
   "outputs": [],
   "source": [
    "diccionario_entrenamiento = {\n",
    "                            'xgb': {},\n",
    "                            'lr': {},\n",
    "                            'mlp': {},\n",
    "}\n",
    "                                                         \n",
    "for valor in diccionario_entrenamiento.keys():\n",
    "    diccionario_entrenamiento[valor]['model'] = models[valor]\n",
    "    diccionario_entrenamiento[valor]['params'] = hparams[valor]\n"
   ]
  },
  {
   "cell_type": "code",
   "execution_count": null,
   "metadata": {},
   "outputs": [],
   "source": []
  },
  {
   "cell_type": "markdown",
   "metadata": {},
   "source": [
    "## Entrenamiento\n",
    "Nota: or defecto, el Grid Search reentrena con todo el dataset, usando los mejores hyper parámetros encontrados (refit = True)"
   ]
  },
  {
   "cell_type": "code",
   "execution_count": 59,
   "metadata": {},
   "outputs": [],
   "source": [
    "cv_n = 3 "
   ]
  },
  {
   "cell_type": "code",
   "execution_count": 60,
   "metadata": {},
   "outputs": [],
   "source": [
    "models_path_template = models_path + '{}.joblib'"
   ]
  },
  {
   "cell_type": "code",
   "execution_count": 61,
   "metadata": {},
   "outputs": [],
   "source": [
    "basic_opt_params = {'scoring': 'f1_macro', 'cv': cv_n, 'n_jobs': 7}"
   ]
  },
  {
   "cell_type": "code",
   "execution_count": 62,
   "metadata": {},
   "outputs": [
    {
     "data": {
      "application/vnd.jupyter.widget-view+json": {
       "model_id": "fc64aff9ddf04a949539dc260b46ae07",
       "version_major": 2,
       "version_minor": 0
      },
      "text/plain": [
       "  0%|          | 0/3 [00:00<?, ?it/s]"
      ]
     },
     "metadata": {},
     "output_type": "display_data"
    },
    {
     "name": "stderr",
     "output_type": "stream",
     "text": [
      "c:\\users\\a309549\\appdata\\local\\programs\\python\\python39\\lib\\site-packages\\xgboost\\sklearn.py:888: UserWarning: The use of label encoder in XGBClassifier is deprecated and will be removed in a future release. To remove this warning, do the following: 1) Pass option use_label_encoder=False when constructing XGBClassifier object; and 2) Encode your labels (y) as integers starting with 0, i.e. 0, 1, 2, ..., [num_class - 1].\n",
      "  warnings.warn(label_encoder_deprecation_msg, UserWarning)\n"
     ]
    },
    {
     "name": "stdout",
     "output_type": "stream",
     "text": [
      "[02:48:23] WARNING: C:/Users/Administrator/workspace/xgboost-win64_release_1.3.0/src/learner.cc:1061: Starting in XGBoost 1.3.0, the default evaluation metric used with the objective 'multi:softprob' was changed from 'merror' to 'mlogloss'. Explicitly set eval_metric if you'd like to restore the old behavior.\n"
     ]
    },
    {
     "name": "stderr",
     "output_type": "stream",
     "text": [
      "c:\\users\\a309549\\appdata\\local\\programs\\python\\python39\\lib\\site-packages\\sklearn\\linear_model\\_sag.py:328: ConvergenceWarning: The max_iter was reached which means the coef_ did not converge\n",
      "  warnings.warn(\"The max_iter was reached which means \"\n",
      "c:\\users\\a309549\\appdata\\local\\programs\\python\\python39\\lib\\site-packages\\sklearn\\linear_model\\_sag.py:328: ConvergenceWarning: The max_iter was reached which means the coef_ did not converge\n",
      "  warnings.warn(\"The max_iter was reached which means \"\n",
      "c:\\users\\a309549\\appdata\\local\\programs\\python\\python39\\lib\\site-packages\\sklearn\\linear_model\\_sag.py:328: ConvergenceWarning: The max_iter was reached which means the coef_ did not converge\n",
      "  warnings.warn(\"The max_iter was reached which means \"\n",
      "c:\\users\\a309549\\appdata\\local\\programs\\python\\python39\\lib\\site-packages\\sklearn\\linear_model\\_sag.py:328: ConvergenceWarning: The max_iter was reached which means the coef_ did not converge\n",
      "  warnings.warn(\"The max_iter was reached which means \"\n",
      "c:\\users\\a309549\\appdata\\local\\programs\\python\\python39\\lib\\site-packages\\sklearn\\linear_model\\_sag.py:328: ConvergenceWarning: The max_iter was reached which means the coef_ did not converge\n",
      "  warnings.warn(\"The max_iter was reached which means \"\n",
      "c:\\users\\a309549\\appdata\\local\\programs\\python\\python39\\lib\\site-packages\\sklearn\\linear_model\\_sag.py:328: ConvergenceWarning: The max_iter was reached which means the coef_ did not converge\n",
      "  warnings.warn(\"The max_iter was reached which means \"\n",
      "c:\\users\\a309549\\appdata\\local\\programs\\python\\python39\\lib\\site-packages\\sklearn\\linear_model\\_sag.py:328: ConvergenceWarning: The max_iter was reached which means the coef_ did not converge\n",
      "  warnings.warn(\"The max_iter was reached which means \"\n",
      "c:\\users\\a309549\\appdata\\local\\programs\\python\\python39\\lib\\site-packages\\sklearn\\linear_model\\_sag.py:328: ConvergenceWarning: The max_iter was reached which means the coef_ did not converge\n",
      "  warnings.warn(\"The max_iter was reached which means \"\n",
      "c:\\users\\a309549\\appdata\\local\\programs\\python\\python39\\lib\\site-packages\\sklearn\\linear_model\\_sag.py:328: ConvergenceWarning: The max_iter was reached which means the coef_ did not converge\n",
      "  warnings.warn(\"The max_iter was reached which means \"\n",
      "c:\\users\\a309549\\appdata\\local\\programs\\python\\python39\\lib\\site-packages\\sklearn\\linear_model\\_sag.py:328: ConvergenceWarning: The max_iter was reached which means the coef_ did not converge\n",
      "  warnings.warn(\"The max_iter was reached which means \"\n",
      "c:\\users\\a309549\\appdata\\local\\programs\\python\\python39\\lib\\site-packages\\sklearn\\linear_model\\_sag.py:328: ConvergenceWarning: The max_iter was reached which means the coef_ did not converge\n",
      "  warnings.warn(\"The max_iter was reached which means \"\n"
     ]
    }
   ],
   "source": [
    "for valor in tqdm(diccionario_entrenamiento.keys()):\n",
    "    model = diccionario_entrenamiento[valor]['model']\n",
    "    params = diccionario_entrenamiento[valor]['params']\n",
    "    \n",
    "    opt = GridSearchCV(estimator=model, param_grid=params, )\n",
    "    opt.set_params(**basic_opt_params)\n",
    "    fit = opt.fit(X_copy[columns_names], y_copy)\n",
    "    \n",
    "    # persisto el best estimator para cada uno\n",
    "    model_name = models_path_template.format(valor)\n",
    "    if valor == 'xgb':\n",
    "        fit.best_estimator_.save_model(model_name)\n",
    "    else:\n",
    "        joblib.dump(fit.best_estimator_, model_name)"
   ]
  },
  {
   "cell_type": "code",
   "execution_count": null,
   "metadata": {},
   "outputs": [],
   "source": []
  }
 ],
 "metadata": {
  "kernelspec": {
   "display_name": "Python 3",
   "language": "python",
   "name": "python3"
  },
  "language_info": {
   "codemirror_mode": {
    "name": "ipython",
    "version": 3
   },
   "file_extension": ".py",
   "mimetype": "text/x-python",
   "name": "python",
   "nbconvert_exporter": "python",
   "pygments_lexer": "ipython3",
   "version": "3.9.2"
  },
  "widgets": {
   "application/vnd.jupyter.widget-state+json": {
    "state": {
     "0dcb001bc2f346c8ab1d8709574a8e1d": {
      "model_module": "@jupyter-widgets/base",
      "model_module_version": "1.2.0",
      "model_name": "LayoutModel",
      "state": {}
     },
     "102ae7024d6a4366828070e978de27c4": {
      "model_module": "@jupyter-widgets/controls",
      "model_module_version": "1.5.0",
      "model_name": "FloatProgressModel",
      "state": {
       "bar_style": "success",
       "layout": "IPY_MODEL_83a0438e38634f49bada5585cc619db8",
       "max": 3,
       "style": "IPY_MODEL_98fc94a860494ae287d5c68eade122a9",
       "value": 3
      }
     },
     "34d7afb92ee54651bd5370b64c537280": {
      "model_module": "@jupyter-widgets/base",
      "model_module_version": "1.2.0",
      "model_name": "LayoutModel",
      "state": {}
     },
     "6527438324b84a0c9e9322bc4ce812fb": {
      "model_module": "@jupyter-widgets/controls",
      "model_module_version": "1.5.0",
      "model_name": "HTMLModel",
      "state": {
       "layout": "IPY_MODEL_34d7afb92ee54651bd5370b64c537280",
       "style": "IPY_MODEL_a9a8ec16e5544ffdbfebced50b7c8881",
       "value": "100%"
      }
     },
     "817a96bf8d044da9988bccd00e346f41": {
      "model_module": "@jupyter-widgets/base",
      "model_module_version": "1.2.0",
      "model_name": "LayoutModel",
      "state": {}
     },
     "83a0438e38634f49bada5585cc619db8": {
      "model_module": "@jupyter-widgets/base",
      "model_module_version": "1.2.0",
      "model_name": "LayoutModel",
      "state": {}
     },
     "91ce37d00eaa43bab41899c947b92e3d": {
      "model_module": "@jupyter-widgets/controls",
      "model_module_version": "1.5.0",
      "model_name": "DescriptionStyleModel",
      "state": {
       "description_width": ""
      }
     },
     "98fc94a860494ae287d5c68eade122a9": {
      "model_module": "@jupyter-widgets/controls",
      "model_module_version": "1.5.0",
      "model_name": "ProgressStyleModel",
      "state": {
       "description_width": ""
      }
     },
     "a9a8ec16e5544ffdbfebced50b7c8881": {
      "model_module": "@jupyter-widgets/controls",
      "model_module_version": "1.5.0",
      "model_name": "DescriptionStyleModel",
      "state": {
       "description_width": ""
      }
     },
     "e2c26b231c1e44d680fb45c8e0b986f9": {
      "model_module": "@jupyter-widgets/controls",
      "model_module_version": "1.5.0",
      "model_name": "HTMLModel",
      "state": {
       "layout": "IPY_MODEL_817a96bf8d044da9988bccd00e346f41",
       "style": "IPY_MODEL_91ce37d00eaa43bab41899c947b92e3d",
       "value": " 3/3 [8:47:20&lt;00:00, 11950.94s/it]"
      }
     },
     "fc64aff9ddf04a949539dc260b46ae07": {
      "model_module": "@jupyter-widgets/controls",
      "model_module_version": "1.5.0",
      "model_name": "HBoxModel",
      "state": {
       "children": [
        "IPY_MODEL_6527438324b84a0c9e9322bc4ce812fb",
        "IPY_MODEL_102ae7024d6a4366828070e978de27c4",
        "IPY_MODEL_e2c26b231c1e44d680fb45c8e0b986f9"
       ],
       "layout": "IPY_MODEL_0dcb001bc2f346c8ab1d8709574a8e1d"
      }
     }
    },
    "version_major": 2,
    "version_minor": 0
   }
  }
 },
 "nbformat": 4,
 "nbformat_minor": 4
}
