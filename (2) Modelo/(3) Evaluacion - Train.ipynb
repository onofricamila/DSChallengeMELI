{
 "cells": [
  {
   "cell_type": "code",
   "execution_count": 1,
   "id": "worse-pencil",
   "metadata": {},
   "outputs": [],
   "source": [
    "%load_ext autoreload\n",
    "%autoreload 2"
   ]
  },
  {
   "cell_type": "code",
   "execution_count": 2,
   "id": "elder-israel",
   "metadata": {},
   "outputs": [],
   "source": [
    "import os\n",
    "os.chdir('..')\n",
    "from utils.eval import *"
   ]
  },
  {
   "cell_type": "code",
   "execution_count": 3,
   "id": "elementary-premises",
   "metadata": {},
   "outputs": [
    {
     "data": {
      "text/html": [
       "<style>.container { width:95% !important; }</style>"
      ],
      "text/plain": [
       "<IPython.core.display.HTML object>"
      ]
     },
     "metadata": {},
     "output_type": "display_data"
    },
    {
     "data": {
      "text/html": [
       "<style>.prompt { font-size: 10px !important; }</style>"
      ],
      "text/plain": [
       "<IPython.core.display.HTML object>"
      ]
     },
     "metadata": {},
     "output_type": "display_data"
    }
   ],
   "source": [
    "from IPython.core.display import display, HTML\n",
    "display(\n",
    "   HTML(\"<style>.container { width:95% !important; }</style>\"))\n",
    "display(\n",
    "   HTML(\"<style>.prompt { font-size: 10px !important; }</style>\"))"
   ]
  },
  {
   "cell_type": "markdown",
   "id": "beneficial-rendering",
   "metadata": {},
   "source": [
    "## Config"
   ]
  },
  {
   "cell_type": "code",
   "execution_count": 4,
   "id": "desirable-princeton",
   "metadata": {},
   "outputs": [],
   "source": [
    "data_path = \"data/\""
   ]
  },
  {
   "cell_type": "code",
   "execution_count": 5,
   "id": "armed-topic",
   "metadata": {},
   "outputs": [],
   "source": [
    "cmap = plt.cm.Reds"
   ]
  },
  {
   "cell_type": "code",
   "execution_count": 6,
   "id": "hawaiian-academy",
   "metadata": {},
   "outputs": [],
   "source": [
    "data = 'train'"
   ]
  },
  {
   "cell_type": "code",
   "execution_count": null,
   "id": "included-instruction",
   "metadata": {},
   "outputs": [],
   "source": []
  },
  {
   "cell_type": "markdown",
   "id": "driving-virtue",
   "metadata": {},
   "source": [
    "## Load data"
   ]
  },
  {
   "cell_type": "code",
   "execution_count": 7,
   "id": "looking-preview",
   "metadata": {},
   "outputs": [
    {
     "data": {
      "text/html": [
       "<div>\n",
       "<style scoped>\n",
       "    .dataframe tbody tr th:only-of-type {\n",
       "        vertical-align: middle;\n",
       "    }\n",
       "\n",
       "    .dataframe tbody tr th {\n",
       "        vertical-align: top;\n",
       "    }\n",
       "\n",
       "    .dataframe thead th {\n",
       "        text-align: right;\n",
       "    }\n",
       "</style>\n",
       "<table border=\"1\" class=\"dataframe\">\n",
       "  <thead>\n",
       "    <tr style=\"text-align: right;\">\n",
       "      <th></th>\n",
       "      <th>installments.quantity</th>\n",
       "      <th>installments.rate</th>\n",
       "      <th>id</th>\n",
       "      <th>site_id</th>\n",
       "      <th>title</th>\n",
       "      <th>price</th>\n",
       "      <th>currency_id</th>\n",
       "      <th>available_quantity</th>\n",
       "      <th>sold_quantity</th>\n",
       "      <th>buying_mode</th>\n",
       "      <th>...</th>\n",
       "      <th>address.state_name</th>\n",
       "      <th>shipping.free_shipping</th>\n",
       "      <th>shipping.mode</th>\n",
       "      <th>shipping.logistic_type</th>\n",
       "      <th>shipping.store_pick_up</th>\n",
       "      <th>seller.seller_reputation.real_level</th>\n",
       "      <th>root_category_id</th>\n",
       "      <th>root_category_name</th>\n",
       "      <th>discount</th>\n",
       "      <th>category_name</th>\n",
       "    </tr>\n",
       "  </thead>\n",
       "  <tbody>\n",
       "    <tr>\n",
       "      <th>0</th>\n",
       "      <td>12.0</td>\n",
       "      <td>70.17</td>\n",
       "      <td>MLA896914637</td>\n",
       "      <td>MLA</td>\n",
       "      <td>Magnetron Para Microondas Modelo 2m219g 2m 219 G</td>\n",
       "      <td>1850.0</td>\n",
       "      <td>ARS</td>\n",
       "      <td>1</td>\n",
       "      <td>50</td>\n",
       "      <td>buy_it_now</td>\n",
       "      <td>...</td>\n",
       "      <td>Buenos Aires</td>\n",
       "      <td>0</td>\n",
       "      <td>me2</td>\n",
       "      <td>cross_docking</td>\n",
       "      <td>0</td>\n",
       "      <td>NaN</td>\n",
       "      <td>MLA5726</td>\n",
       "      <td>Electrodomésticos y Aires Ac.</td>\n",
       "      <td>NaN</td>\n",
       "      <td>Magnetrones</td>\n",
       "    </tr>\n",
       "    <tr>\n",
       "      <th>1</th>\n",
       "      <td>12.0</td>\n",
       "      <td>70.17</td>\n",
       "      <td>MLA689849716</td>\n",
       "      <td>MLA</td>\n",
       "      <td>Motor Y Pedal P/máquinas De Coser Familiar Sin...</td>\n",
       "      <td>4890.0</td>\n",
       "      <td>ARS</td>\n",
       "      <td>1</td>\n",
       "      <td>250</td>\n",
       "      <td>buy_it_now</td>\n",
       "      <td>...</td>\n",
       "      <td>Buenos Aires</td>\n",
       "      <td>1</td>\n",
       "      <td>me2</td>\n",
       "      <td>fulfillment</td>\n",
       "      <td>0</td>\n",
       "      <td>NaN</td>\n",
       "      <td>MLA5726</td>\n",
       "      <td>Electrodomésticos y Aires Ac.</td>\n",
       "      <td>NaN</td>\n",
       "      <td>Otros Accesorios</td>\n",
       "    </tr>\n",
       "    <tr>\n",
       "      <th>2</th>\n",
       "      <td>NaN</td>\n",
       "      <td>NaN</td>\n",
       "      <td>MLA909338268</td>\n",
       "      <td>MLA</td>\n",
       "      <td>Honda Civic 1.8 Exs At 140cv - 127218 - C(p)</td>\n",
       "      <td>1480000.0</td>\n",
       "      <td>ARS</td>\n",
       "      <td>1</td>\n",
       "      <td>0</td>\n",
       "      <td>classified</td>\n",
       "      <td>...</td>\n",
       "      <td>Capital Federal</td>\n",
       "      <td>0</td>\n",
       "      <td>not_specified</td>\n",
       "      <td>not_specified</td>\n",
       "      <td>0</td>\n",
       "      <td>NaN</td>\n",
       "      <td>MLA1743</td>\n",
       "      <td>Autos, Motos y Otros</td>\n",
       "      <td>NaN</td>\n",
       "      <td>Autos y Camionetas</td>\n",
       "    </tr>\n",
       "    <tr>\n",
       "      <th>3</th>\n",
       "      <td>12.0</td>\n",
       "      <td>70.17</td>\n",
       "      <td>MLA750172551</td>\n",
       "      <td>MLA</td>\n",
       "      <td>Radio Yongnuo Rf-603 Ver Ii / Nikon O Canon / ...</td>\n",
       "      <td>6688.0</td>\n",
       "      <td>ARS</td>\n",
       "      <td>1</td>\n",
       "      <td>100</td>\n",
       "      <td>buy_it_now</td>\n",
       "      <td>...</td>\n",
       "      <td>Capital Federal</td>\n",
       "      <td>1</td>\n",
       "      <td>me2</td>\n",
       "      <td>fulfillment</td>\n",
       "      <td>0</td>\n",
       "      <td>NaN</td>\n",
       "      <td>MLA1039</td>\n",
       "      <td>Cámaras y Accesorios</td>\n",
       "      <td>NaN</td>\n",
       "      <td>Disparadores</td>\n",
       "    </tr>\n",
       "    <tr>\n",
       "      <th>4</th>\n",
       "      <td>NaN</td>\n",
       "      <td>NaN</td>\n",
       "      <td>MLA853999531</td>\n",
       "      <td>MLA</td>\n",
       "      <td>1, 2 Y 3 Ambientes Con Cocheras Opcionales</td>\n",
       "      <td>110000.0</td>\n",
       "      <td>USD</td>\n",
       "      <td>1</td>\n",
       "      <td>0</td>\n",
       "      <td>classified</td>\n",
       "      <td>...</td>\n",
       "      <td>Capital Federal</td>\n",
       "      <td>0</td>\n",
       "      <td>not_specified</td>\n",
       "      <td>not_specified</td>\n",
       "      <td>0</td>\n",
       "      <td>NaN</td>\n",
       "      <td>MLA1459</td>\n",
       "      <td>Inmuebles</td>\n",
       "      <td>NaN</td>\n",
       "      <td>Emprendimientos</td>\n",
       "    </tr>\n",
       "  </tbody>\n",
       "</table>\n",
       "<p>5 rows × 43 columns</p>\n",
       "</div>"
      ],
      "text/plain": [
       "   installments.quantity  installments.rate            id site_id  \\\n",
       "0                   12.0              70.17  MLA896914637     MLA   \n",
       "1                   12.0              70.17  MLA689849716     MLA   \n",
       "2                    NaN                NaN  MLA909338268     MLA   \n",
       "3                   12.0              70.17  MLA750172551     MLA   \n",
       "4                    NaN                NaN  MLA853999531     MLA   \n",
       "\n",
       "                                               title      price currency_id  \\\n",
       "0   Magnetron Para Microondas Modelo 2m219g 2m 219 G     1850.0         ARS   \n",
       "1  Motor Y Pedal P/máquinas De Coser Familiar Sin...     4890.0         ARS   \n",
       "2       Honda Civic 1.8 Exs At 140cv - 127218 - C(p)  1480000.0         ARS   \n",
       "3  Radio Yongnuo Rf-603 Ver Ii / Nikon O Canon / ...     6688.0         ARS   \n",
       "4         1, 2 Y 3 Ambientes Con Cocheras Opcionales   110000.0         USD   \n",
       "\n",
       "   available_quantity  sold_quantity buying_mode  ... address.state_name  \\\n",
       "0                   1             50  buy_it_now  ...       Buenos Aires   \n",
       "1                   1            250  buy_it_now  ...       Buenos Aires   \n",
       "2                   1              0  classified  ...    Capital Federal   \n",
       "3                   1            100  buy_it_now  ...    Capital Federal   \n",
       "4                   1              0  classified  ...    Capital Federal   \n",
       "\n",
       "  shipping.free_shipping  shipping.mode shipping.logistic_type  \\\n",
       "0                      0            me2          cross_docking   \n",
       "1                      1            me2            fulfillment   \n",
       "2                      0  not_specified          not_specified   \n",
       "3                      1            me2            fulfillment   \n",
       "4                      0  not_specified          not_specified   \n",
       "\n",
       "   shipping.store_pick_up seller.seller_reputation.real_level  \\\n",
       "0                       0                                 NaN   \n",
       "1                       0                                 NaN   \n",
       "2                       0                                 NaN   \n",
       "3                       0                                 NaN   \n",
       "4                       0                                 NaN   \n",
       "\n",
       "   root_category_id             root_category_name  discount  \\\n",
       "0           MLA5726  Electrodomésticos y Aires Ac.       NaN   \n",
       "1           MLA5726  Electrodomésticos y Aires Ac.       NaN   \n",
       "2           MLA1743           Autos, Motos y Otros       NaN   \n",
       "3           MLA1039           Cámaras y Accesorios       NaN   \n",
       "4           MLA1459                      Inmuebles       NaN   \n",
       "\n",
       "        category_name  \n",
       "0         Magnetrones  \n",
       "1    Otros Accesorios  \n",
       "2  Autos y Camionetas  \n",
       "3        Disparadores  \n",
       "4     Emprendimientos  \n",
       "\n",
       "[5 rows x 43 columns]"
      ]
     },
     "execution_count": 7,
     "metadata": {},
     "output_type": "execute_result"
    }
   ],
   "source": [
    "df = pd.read_csv(data_path + data + '.csv', sep='\\t', encoding='utf-8', )  \n",
    "df.head()"
   ]
  },
  {
   "cell_type": "code",
   "execution_count": 8,
   "id": "found-footwear",
   "metadata": {},
   "outputs": [
    {
     "data": {
      "text/plain": [
       "(23194, 43)"
      ]
     },
     "execution_count": 8,
     "metadata": {},
     "output_type": "execute_result"
    }
   ],
   "source": [
    "df.shape"
   ]
  },
  {
   "cell_type": "code",
   "execution_count": null,
   "id": "secondary-bikini",
   "metadata": {},
   "outputs": [],
   "source": []
  },
  {
   "cell_type": "markdown",
   "id": "coordinate-newspaper",
   "metadata": {},
   "source": [
    "## IDs"
   ]
  },
  {
   "cell_type": "code",
   "execution_count": 9,
   "id": "closed-attribute",
   "metadata": {},
   "outputs": [],
   "source": [
    "id_cols = [\n",
    "'id',\n",
    "'site_id',\n",
    "'title',\n",
    "'category_id',\n",
    "'seller.id',\n",
    "'catalog_product_id',\n",
    "'root_category_id',\n",
    "'root_category_name',\n",
    "'category_name',\n",
    "]\n"
   ]
  },
  {
   "cell_type": "code",
   "execution_count": 10,
   "id": "imposed-trash",
   "metadata": {},
   "outputs": [],
   "source": [
    "df_ID = df[id_cols].copy()\n",
    "df = df.drop(id_cols, axis= 1)"
   ]
  },
  {
   "cell_type": "code",
   "execution_count": null,
   "id": "wound-orleans",
   "metadata": {},
   "outputs": [],
   "source": []
  },
  {
   "cell_type": "markdown",
   "id": "impressed-underwear",
   "metadata": {},
   "source": [
    "## Distribución de valores para el target"
   ]
  },
  {
   "cell_type": "code",
   "execution_count": 11,
   "id": "exceptional-print",
   "metadata": {
    "scrolled": false
   },
   "outputs": [
    {
     "data": {
      "text/plain": [
       "0        2340\n",
       "1         215\n",
       "2         180\n",
       "3         172\n",
       "4         154\n",
       "5        1768\n",
       "25       1384\n",
       "50       2108\n",
       "100      1556\n",
       "150      1326\n",
       "200      1078\n",
       "250      3493\n",
       "500      6885\n",
       "5000      528\n",
       "50000       7\n",
       "Name: sold_quantity, dtype: int64"
      ]
     },
     "execution_count": 11,
     "metadata": {},
     "output_type": "execute_result"
    }
   ],
   "source": [
    "df.sold_quantity.value_counts().sort_index()"
   ]
  },
  {
   "cell_type": "code",
   "execution_count": 12,
   "id": "worst-cedar",
   "metadata": {
    "scrolled": false
   },
   "outputs": [
    {
     "data": {
      "text/plain": [
       "<AxesSubplot:>"
      ]
     },
     "execution_count": 12,
     "metadata": {},
     "output_type": "execute_result"
    },
    {
     "data": {
      "image/png": "[encoded data removed]",
      "text/plain": [
       "<Figure size 432x288 with 1 Axes>"
      ]
     },
     "metadata": {
      "needs_background": "light"
     },
     "output_type": "display_data"
    }
   ],
   "source": [
    "df.sold_quantity.value_counts(normalize=True).sort_index(ascending=False).plot.barh()"
   ]
  },
  {
   "cell_type": "code",
   "execution_count": null,
   "id": "intermediate-allowance",
   "metadata": {},
   "outputs": [],
   "source": []
  },
  {
   "cell_type": "markdown",
   "id": "dying-capture",
   "metadata": {},
   "source": [
    "## Manipulación clases"
   ]
  },
  {
   "cell_type": "code",
   "execution_count": 13,
   "id": "continuous-baltimore",
   "metadata": {},
   "outputs": [],
   "source": [
    "df[\"sold_quantity\"] = [x if x >= 5 else 1 for x in df[\"sold_quantity\"]]"
   ]
  },
  {
   "cell_type": "code",
   "execution_count": 14,
   "id": "opening-suffering",
   "metadata": {},
   "outputs": [
    {
     "data": {
      "text/plain": [
       "1        3061\n",
       "5        1768\n",
       "25       1384\n",
       "50       2108\n",
       "100      1556\n",
       "150      1326\n",
       "200      1078\n",
       "250      3493\n",
       "500      6885\n",
       "5000      528\n",
       "50000       7\n",
       "Name: sold_quantity, dtype: int64"
      ]
     },
     "execution_count": 14,
     "metadata": {},
     "output_type": "execute_result"
    }
   ],
   "source": [
    "df.sold_quantity.value_counts().sort_index()"
   ]
  },
  {
   "cell_type": "code",
   "execution_count": null,
   "id": "hybrid-california",
   "metadata": {},
   "outputs": [],
   "source": []
  },
  {
   "cell_type": "markdown",
   "id": "formal-infrared",
   "metadata": {},
   "source": [
    "## Y"
   ]
  },
  {
   "cell_type": "code",
   "execution_count": 15,
   "id": "demanding-telephone",
   "metadata": {},
   "outputs": [],
   "source": [
    "y = df.sold_quantity"
   ]
  },
  {
   "cell_type": "code",
   "execution_count": 16,
   "id": "split-walker",
   "metadata": {},
   "outputs": [],
   "source": [
    "df = df.drop(['sold_quantity'], axis= 1)"
   ]
  },
  {
   "cell_type": "code",
   "execution_count": null,
   "id": "southwest-belarus",
   "metadata": {},
   "outputs": [],
   "source": []
  },
  {
   "cell_type": "markdown",
   "id": "colored-communication",
   "metadata": {},
   "source": [
    "## Paths"
   ]
  },
  {
   "cell_type": "code",
   "execution_count": 17,
   "id": "genetic-compilation",
   "metadata": {},
   "outputs": [],
   "source": [
    "cols_path = data_path + \"cols.joblib\" \n",
    "pipelines_path = data_path + \"pipeline.joblib\" \n",
    "models_path = data_path + \"models/\"\n",
    "models_path_template = models_path + '{}.joblib'"
   ]
  },
  {
   "cell_type": "code",
   "execution_count": null,
   "id": "formed-christianity",
   "metadata": {},
   "outputs": [],
   "source": []
  },
  {
   "cell_type": "markdown",
   "id": "greater-facial",
   "metadata": {},
   "source": [
    "## Load objects"
   ]
  },
  {
   "cell_type": "code",
   "execution_count": 18,
   "id": "asian-amateur",
   "metadata": {},
   "outputs": [],
   "source": [
    "# pipeline\n",
    "pipeline = joblib.load(pipelines_path)\n",
    "# cols\n",
    "cols = joblib.load(cols_path)  \n"
   ]
  },
  {
   "cell_type": "code",
   "execution_count": null,
   "id": "cosmetic-beauty",
   "metadata": {},
   "outputs": [],
   "source": []
  },
  {
   "cell_type": "markdown",
   "id": "seeing-arizona",
   "metadata": {},
   "source": [
    "## Transform df"
   ]
  },
  {
   "cell_type": "code",
   "execution_count": 19,
   "id": "engaging-college",
   "metadata": {},
   "outputs": [],
   "source": [
    "df_copy = df.copy()\n",
    "df_copy = pipeline.transform(df_copy)"
   ]
  },
  {
   "cell_type": "code",
   "execution_count": null,
   "id": "continuous-invasion",
   "metadata": {},
   "outputs": [],
   "source": []
  },
  {
   "cell_type": "markdown",
   "id": "known-judgment",
   "metadata": {},
   "source": [
    "## Load models and predict"
   ]
  },
  {
   "cell_type": "code",
   "execution_count": 20,
   "id": "appointed-moore",
   "metadata": {},
   "outputs": [],
   "source": [
    "models = [ 'xgb', \n",
    "           'mlp', \n",
    "           'lr' \n",
    "]"
   ]
  },
  {
   "cell_type": "code",
   "execution_count": 21,
   "id": "closed-request",
   "metadata": {},
   "outputs": [],
   "source": [
    "dict_res = {}\n",
    "for k in models:\n",
    "    dict_res[k] = {}\n",
    "    # ----------------- load model -------------------\n",
    "    model = get_model(k, models_path_template.format(k))\n",
    "    # ----------------- get preds -------------------\n",
    "    preds = model.predict(df_copy[cols])\n",
    "    dict_res[k]['model'] = model\n",
    "    dict_res[k]['preds'] = preds"
   ]
  },
  {
   "cell_type": "code",
   "execution_count": null,
   "id": "lightweight-dollar",
   "metadata": {},
   "outputs": [],
   "source": []
  },
  {
   "cell_type": "markdown",
   "id": "desirable-shelter",
   "metadata": {},
   "source": [
    "## --------------------------- <p style='color:blue; font-weight:bold'> XGB </p> ---------------------------"
   ]
  },
  {
   "cell_type": "code",
   "execution_count": 22,
   "id": "copyrighted-coach",
   "metadata": {},
   "outputs": [
    {
     "data": {
      "text/plain": [
       "XGBClassifier(base_score=0.5, booster='gbtree', colsample_bylevel=1,\n",
       "              colsample_bynode=1, colsample_bytree=0.5, gamma=1, gpu_id=-1,\n",
       "              importance_type='gain', interaction_constraints='',\n",
       "              learning_rate=0.1, max_delta_step=0, max_depth=10,\n",
       "              min_child_weight=1, missing=nan, monotone_constraints='()',\n",
       "              n_estimators=500, n_jobs=7, num_parallel_tree=1,\n",
       "              objective='multi:softprob', random_state=0, reg_alpha=0,\n",
       "              reg_lambda=1, scale_pos_weight=None, seed=1111, subsample=1,\n",
       "              tree_method='auto', validate_parameters=1, verbosity=None)"
      ]
     },
     "execution_count": 22,
     "metadata": {},
     "output_type": "execute_result"
    }
   ],
   "source": [
    "dict_res['xgb']['model']"
   ]
  },
  {
   "cell_type": "code",
   "execution_count": 23,
   "id": "irish-timing",
   "metadata": {},
   "outputs": [],
   "source": [
    "predicted_classes = dict_res['xgb']['preds']"
   ]
  },
  {
   "cell_type": "code",
   "execution_count": 24,
   "id": "cutting-hudson",
   "metadata": {},
   "outputs": [
    {
     "data": {
      "text/plain": [
       "array([    1,     5,    25,    50,   100,   150,   200,   250,   500,\n",
       "        5000, 50000])"
      ]
     },
     "execution_count": 24,
     "metadata": {},
     "output_type": "execute_result"
    }
   ],
   "source": [
    "classes = np.unique(predicted_classes)\n",
    "classes"
   ]
  },
  {
   "cell_type": "code",
   "execution_count": 25,
   "id": "charming-skill",
   "metadata": {},
   "outputs": [
    {
     "name": "stdout",
     "output_type": "stream",
     "text": [
      "Predicted classes proportions\n",
      "--------------\n",
      "1        0.127662\n",
      "5        0.089463\n",
      "25       0.050875\n",
      "50       0.095326\n",
      "100      0.049754\n",
      "150      0.037337\n",
      "200      0.025739\n",
      "250      0.133009\n",
      "500      0.371389\n",
      "5000     0.019186\n",
      "50000    0.000259\n",
      "dtype: float64 \n",
      "\n"
     ]
    }
   ],
   "source": [
    "print_pred_classes_prop(predicted_classes)"
   ]
  },
  {
   "cell_type": "code",
   "execution_count": 26,
   "id": "excessive-treasury",
   "metadata": {},
   "outputs": [
    {
     "name": "stdout",
     "output_type": "stream",
     "text": [
      "Confusion matrix, without normalization\n"
     ]
    },
    {
     "data": {
      "image/png": "[encoded data removed]",
      "text/plain": [
       "<Figure size 576x576 with 2 Axes>"
      ]
     },
     "metadata": {
      "needs_background": "light"
     },
     "output_type": "display_data"
    }
   ],
   "source": [
    "make_cmx(y, predicted_classes, classes, cmap=cmap)"
   ]
  },
  {
   "cell_type": "code",
   "execution_count": 27,
   "id": "timely-enough",
   "metadata": {
    "scrolled": false
   },
   "outputs": [
    {
     "data": {
      "text/html": [
       "<div>\n",
       "<style scoped>\n",
       "    .dataframe tbody tr th:only-of-type {\n",
       "        vertical-align: middle;\n",
       "    }\n",
       "\n",
       "    .dataframe tbody tr th {\n",
       "        vertical-align: top;\n",
       "    }\n",
       "\n",
       "    .dataframe thead th {\n",
       "        text-align: right;\n",
       "    }\n",
       "</style>\n",
       "<table border=\"1\" class=\"dataframe\">\n",
       "  <thead>\n",
       "    <tr style=\"text-align: right;\">\n",
       "      <th></th>\n",
       "      <th>precision</th>\n",
       "      <th>recall</th>\n",
       "      <th>f1-score</th>\n",
       "      <th>support</th>\n",
       "    </tr>\n",
       "  </thead>\n",
       "  <tbody>\n",
       "    <tr>\n",
       "      <th>1</th>\n",
       "      <td>0.97</td>\n",
       "      <td>0.93</td>\n",
       "      <td>0.95</td>\n",
       "      <td>3061.00</td>\n",
       "    </tr>\n",
       "    <tr>\n",
       "      <th>5</th>\n",
       "      <td>0.72</td>\n",
       "      <td>0.85</td>\n",
       "      <td>0.78</td>\n",
       "      <td>1768.00</td>\n",
       "    </tr>\n",
       "    <tr>\n",
       "      <th>25</th>\n",
       "      <td>0.78</td>\n",
       "      <td>0.66</td>\n",
       "      <td>0.72</td>\n",
       "      <td>1384.00</td>\n",
       "    </tr>\n",
       "    <tr>\n",
       "      <th>50</th>\n",
       "      <td>0.72</td>\n",
       "      <td>0.75</td>\n",
       "      <td>0.73</td>\n",
       "      <td>2108.00</td>\n",
       "    </tr>\n",
       "    <tr>\n",
       "      <th>100</th>\n",
       "      <td>0.77</td>\n",
       "      <td>0.57</td>\n",
       "      <td>0.66</td>\n",
       "      <td>1556.00</td>\n",
       "    </tr>\n",
       "    <tr>\n",
       "      <th>150</th>\n",
       "      <td>0.84</td>\n",
       "      <td>0.55</td>\n",
       "      <td>0.66</td>\n",
       "      <td>1326.00</td>\n",
       "    </tr>\n",
       "    <tr>\n",
       "      <th>200</th>\n",
       "      <td>0.92</td>\n",
       "      <td>0.51</td>\n",
       "      <td>0.66</td>\n",
       "      <td>1078.00</td>\n",
       "    </tr>\n",
       "    <tr>\n",
       "      <th>250</th>\n",
       "      <td>0.82</td>\n",
       "      <td>0.73</td>\n",
       "      <td>0.77</td>\n",
       "      <td>3493.00</td>\n",
       "    </tr>\n",
       "    <tr>\n",
       "      <th>500</th>\n",
       "      <td>0.78</td>\n",
       "      <td>0.97</td>\n",
       "      <td>0.86</td>\n",
       "      <td>6885.00</td>\n",
       "    </tr>\n",
       "    <tr>\n",
       "      <th>5000</th>\n",
       "      <td>0.95</td>\n",
       "      <td>0.80</td>\n",
       "      <td>0.87</td>\n",
       "      <td>528.00</td>\n",
       "    </tr>\n",
       "    <tr>\n",
       "      <th>50000</th>\n",
       "      <td>1.00</td>\n",
       "      <td>0.86</td>\n",
       "      <td>0.92</td>\n",
       "      <td>7.00</td>\n",
       "    </tr>\n",
       "    <tr>\n",
       "      <th>accuracy</th>\n",
       "      <td>0.81</td>\n",
       "      <td>0.81</td>\n",
       "      <td>0.81</td>\n",
       "      <td>0.81</td>\n",
       "    </tr>\n",
       "    <tr>\n",
       "      <th>macro avg</th>\n",
       "      <td>0.84</td>\n",
       "      <td>0.74</td>\n",
       "      <td>0.78</td>\n",
       "      <td>23194.00</td>\n",
       "    </tr>\n",
       "    <tr>\n",
       "      <th>weighted avg</th>\n",
       "      <td>0.81</td>\n",
       "      <td>0.81</td>\n",
       "      <td>0.80</td>\n",
       "      <td>23194.00</td>\n",
       "    </tr>\n",
       "  </tbody>\n",
       "</table>\n",
       "</div>"
      ],
      "text/plain": [
       "              precision  recall  f1-score   support\n",
       "1                  0.97    0.93      0.95   3061.00\n",
       "5                  0.72    0.85      0.78   1768.00\n",
       "25                 0.78    0.66      0.72   1384.00\n",
       "50                 0.72    0.75      0.73   2108.00\n",
       "100                0.77    0.57      0.66   1556.00\n",
       "150                0.84    0.55      0.66   1326.00\n",
       "200                0.92    0.51      0.66   1078.00\n",
       "250                0.82    0.73      0.77   3493.00\n",
       "500                0.78    0.97      0.86   6885.00\n",
       "5000               0.95    0.80      0.87    528.00\n",
       "50000              1.00    0.86      0.92      7.00\n",
       "accuracy           0.81    0.81      0.81      0.81\n",
       "macro avg          0.84    0.74      0.78  23194.00\n",
       "weighted avg       0.81    0.81      0.80  23194.00"
      ]
     },
     "execution_count": 27,
     "metadata": {},
     "output_type": "execute_result"
    }
   ],
   "source": [
    "make_classif_report(y, predicted_classes, classes)"
   ]
  },
  {
   "cell_type": "code",
   "execution_count": null,
   "id": "sitting-butter",
   "metadata": {},
   "outputs": [],
   "source": []
  },
  {
   "cell_type": "code",
   "execution_count": null,
   "id": "sudden-instrumentation",
   "metadata": {},
   "outputs": [],
   "source": []
  },
  {
   "cell_type": "markdown",
   "id": "worst-devon",
   "metadata": {},
   "source": [
    "## --------------------------- <p style='color:blue; font-weight:bold'> LR </p> ---------------------------"
   ]
  },
  {
   "cell_type": "code",
   "execution_count": 28,
   "id": "academic-hometown",
   "metadata": {},
   "outputs": [
    {
     "data": {
      "text/plain": [
       "LogisticRegression(C=1, class_weight='balanced', multi_class='ovr',\n",
       "                   random_state=1111, solver='saga')"
      ]
     },
     "execution_count": 28,
     "metadata": {},
     "output_type": "execute_result"
    }
   ],
   "source": [
    "dict_res['lr']['model']"
   ]
  },
  {
   "cell_type": "code",
   "execution_count": 29,
   "id": "changing-helena",
   "metadata": {},
   "outputs": [],
   "source": [
    "predicted_classes = dict_res['lr']['preds']"
   ]
  },
  {
   "cell_type": "code",
   "execution_count": 30,
   "id": "federal-separation",
   "metadata": {},
   "outputs": [
    {
     "data": {
      "text/plain": [
       "array([    1,     5,    25,    50,   100,   150,   200,   250,   500,\n",
       "        5000, 50000], dtype=int64)"
      ]
     },
     "execution_count": 30,
     "metadata": {},
     "output_type": "execute_result"
    }
   ],
   "source": [
    "classes = np.unique(predicted_classes)\n",
    "classes"
   ]
  },
  {
   "cell_type": "code",
   "execution_count": 31,
   "id": "attempted-negotiation",
   "metadata": {},
   "outputs": [
    {
     "name": "stdout",
     "output_type": "stream",
     "text": [
      "Predicted classes proportions\n",
      "--------------\n",
      "1        0.108088\n",
      "5        0.158920\n",
      "25       0.041778\n",
      "50       0.098862\n",
      "100      0.087264\n",
      "150      0.039622\n",
      "200      0.042856\n",
      "250      0.039579\n",
      "500      0.096965\n",
      "5000     0.279339\n",
      "50000    0.006726\n",
      "dtype: float64 \n",
      "\n"
     ]
    }
   ],
   "source": [
    "print_pred_classes_prop(predicted_classes)"
   ]
  },
  {
   "cell_type": "code",
   "execution_count": 32,
   "id": "weighted-sampling",
   "metadata": {},
   "outputs": [
    {
     "name": "stdout",
     "output_type": "stream",
     "text": [
      "Confusion matrix, without normalization\n"
     ]
    },
    {
     "data": {
      "image/png": "[encoded data removed]",
      "text/plain": [
       "<Figure size 576x576 with 2 Axes>"
      ]
     },
     "metadata": {
      "needs_background": "light"
     },
     "output_type": "display_data"
    }
   ],
   "source": [
    "make_cmx(y, predicted_classes, classes, cmap=cmap)"
   ]
  },
  {
   "cell_type": "code",
   "execution_count": 33,
   "id": "norman-round",
   "metadata": {
    "scrolled": false
   },
   "outputs": [
    {
     "data": {
      "text/html": [
       "<div>\n",
       "<style scoped>\n",
       "    .dataframe tbody tr th:only-of-type {\n",
       "        vertical-align: middle;\n",
       "    }\n",
       "\n",
       "    .dataframe tbody tr th {\n",
       "        vertical-align: top;\n",
       "    }\n",
       "\n",
       "    .dataframe thead th {\n",
       "        text-align: right;\n",
       "    }\n",
       "</style>\n",
       "<table border=\"1\" class=\"dataframe\">\n",
       "  <thead>\n",
       "    <tr style=\"text-align: right;\">\n",
       "      <th></th>\n",
       "      <th>precision</th>\n",
       "      <th>recall</th>\n",
       "      <th>f1-score</th>\n",
       "      <th>support</th>\n",
       "    </tr>\n",
       "  </thead>\n",
       "  <tbody>\n",
       "    <tr>\n",
       "      <th>1</th>\n",
       "      <td>0.94</td>\n",
       "      <td>0.77</td>\n",
       "      <td>0.85</td>\n",
       "      <td>3061.00</td>\n",
       "    </tr>\n",
       "    <tr>\n",
       "      <th>5</th>\n",
       "      <td>0.24</td>\n",
       "      <td>0.49</td>\n",
       "      <td>0.32</td>\n",
       "      <td>1768.00</td>\n",
       "    </tr>\n",
       "    <tr>\n",
       "      <th>25</th>\n",
       "      <td>0.14</td>\n",
       "      <td>0.10</td>\n",
       "      <td>0.12</td>\n",
       "      <td>1384.00</td>\n",
       "    </tr>\n",
       "    <tr>\n",
       "      <th>50</th>\n",
       "      <td>0.16</td>\n",
       "      <td>0.18</td>\n",
       "      <td>0.17</td>\n",
       "      <td>2108.00</td>\n",
       "    </tr>\n",
       "    <tr>\n",
       "      <th>100</th>\n",
       "      <td>0.13</td>\n",
       "      <td>0.17</td>\n",
       "      <td>0.14</td>\n",
       "      <td>1556.00</td>\n",
       "    </tr>\n",
       "    <tr>\n",
       "      <th>150</th>\n",
       "      <td>0.10</td>\n",
       "      <td>0.07</td>\n",
       "      <td>0.08</td>\n",
       "      <td>1326.00</td>\n",
       "    </tr>\n",
       "    <tr>\n",
       "      <th>200</th>\n",
       "      <td>0.08</td>\n",
       "      <td>0.08</td>\n",
       "      <td>0.08</td>\n",
       "      <td>1078.00</td>\n",
       "    </tr>\n",
       "    <tr>\n",
       "      <th>250</th>\n",
       "      <td>0.23</td>\n",
       "      <td>0.06</td>\n",
       "      <td>0.10</td>\n",
       "      <td>3493.00</td>\n",
       "    </tr>\n",
       "    <tr>\n",
       "      <th>500</th>\n",
       "      <td>0.46</td>\n",
       "      <td>0.15</td>\n",
       "      <td>0.23</td>\n",
       "      <td>6885.00</td>\n",
       "    </tr>\n",
       "    <tr>\n",
       "      <th>5000</th>\n",
       "      <td>0.06</td>\n",
       "      <td>0.77</td>\n",
       "      <td>0.12</td>\n",
       "      <td>528.00</td>\n",
       "    </tr>\n",
       "    <tr>\n",
       "      <th>50000</th>\n",
       "      <td>0.04</td>\n",
       "      <td>0.86</td>\n",
       "      <td>0.07</td>\n",
       "      <td>7.00</td>\n",
       "    </tr>\n",
       "    <tr>\n",
       "      <th>accuracy</th>\n",
       "      <td>0.25</td>\n",
       "      <td>0.25</td>\n",
       "      <td>0.25</td>\n",
       "      <td>0.25</td>\n",
       "    </tr>\n",
       "    <tr>\n",
       "      <th>macro avg</th>\n",
       "      <td>0.24</td>\n",
       "      <td>0.34</td>\n",
       "      <td>0.21</td>\n",
       "      <td>23194.00</td>\n",
       "    </tr>\n",
       "    <tr>\n",
       "      <th>weighted avg</th>\n",
       "      <td>0.36</td>\n",
       "      <td>0.25</td>\n",
       "      <td>0.26</td>\n",
       "      <td>23194.00</td>\n",
       "    </tr>\n",
       "  </tbody>\n",
       "</table>\n",
       "</div>"
      ],
      "text/plain": [
       "              precision  recall  f1-score   support\n",
       "1                  0.94    0.77      0.85   3061.00\n",
       "5                  0.24    0.49      0.32   1768.00\n",
       "25                 0.14    0.10      0.12   1384.00\n",
       "50                 0.16    0.18      0.17   2108.00\n",
       "100                0.13    0.17      0.14   1556.00\n",
       "150                0.10    0.07      0.08   1326.00\n",
       "200                0.08    0.08      0.08   1078.00\n",
       "250                0.23    0.06      0.10   3493.00\n",
       "500                0.46    0.15      0.23   6885.00\n",
       "5000               0.06    0.77      0.12    528.00\n",
       "50000              0.04    0.86      0.07      7.00\n",
       "accuracy           0.25    0.25      0.25      0.25\n",
       "macro avg          0.24    0.34      0.21  23194.00\n",
       "weighted avg       0.36    0.25      0.26  23194.00"
      ]
     },
     "execution_count": 33,
     "metadata": {},
     "output_type": "execute_result"
    }
   ],
   "source": [
    "make_classif_report(y, predicted_classes, classes)\n"
   ]
  },
  {
   "cell_type": "code",
   "execution_count": null,
   "id": "developed-local",
   "metadata": {},
   "outputs": [],
   "source": []
  },
  {
   "cell_type": "code",
   "execution_count": null,
   "id": "vulnerable-outline",
   "metadata": {},
   "outputs": [],
   "source": []
  },
  {
   "cell_type": "markdown",
   "id": "composite-cleveland",
   "metadata": {},
   "source": [
    "## --------------------------- <p style='color:blue; font-weight:bold'> MLP </p> ---------------------------"
   ]
  },
  {
   "cell_type": "code",
   "execution_count": 34,
   "id": "excited-envelope",
   "metadata": {},
   "outputs": [
    {
     "data": {
      "text/plain": [
       "MLPClassifier(alpha=0.001, batch_size=64,\n",
       "              hidden_layer_sizes=(64, 64, 64, 64, 64), learning_rate='adaptive',\n",
       "              learning_rate_init=0.01, max_iter=1800, random_state=1111,\n",
       "              solver='sgd')"
      ]
     },
     "execution_count": 34,
     "metadata": {},
     "output_type": "execute_result"
    }
   ],
   "source": [
    "dict_res['mlp']['model']"
   ]
  },
  {
   "cell_type": "code",
   "execution_count": 35,
   "id": "nuclear-tucson",
   "metadata": {},
   "outputs": [],
   "source": [
    "predicted_classes = dict_res['mlp']['preds']"
   ]
  },
  {
   "cell_type": "code",
   "execution_count": 36,
   "id": "affiliated-tattoo",
   "metadata": {},
   "outputs": [
    {
     "data": {
      "text/plain": [
       "array([    1,     5,    25,    50,   100,   150,   200,   250,   500,\n",
       "        5000, 50000], dtype=int64)"
      ]
     },
     "execution_count": 36,
     "metadata": {},
     "output_type": "execute_result"
    }
   ],
   "source": [
    "classes = np.unique(predicted_classes)\n",
    "classes"
   ]
  },
  {
   "cell_type": "code",
   "execution_count": 37,
   "id": "exciting-design",
   "metadata": {},
   "outputs": [
    {
     "name": "stdout",
     "output_type": "stream",
     "text": [
      "Predicted classes proportions\n",
      "--------------\n",
      "1        0.127533\n",
      "5        0.086186\n",
      "25       0.055359\n",
      "50       0.095801\n",
      "100      0.065922\n",
      "150      0.053936\n",
      "200      0.040053\n",
      "250      0.137579\n",
      "500      0.315944\n",
      "5000     0.021385\n",
      "50000    0.000302\n",
      "dtype: float64 \n",
      "\n"
     ]
    }
   ],
   "source": [
    "print_pred_classes_prop(predicted_classes)"
   ]
  },
  {
   "cell_type": "code",
   "execution_count": 38,
   "id": "controlled-boring",
   "metadata": {},
   "outputs": [
    {
     "name": "stdout",
     "output_type": "stream",
     "text": [
      "Confusion matrix, without normalization\n"
     ]
    },
    {
     "data": {
      "image/png": "[encoded data removed]",
      "text/plain": [
       "<Figure size 576x576 with 2 Axes>"
      ]
     },
     "metadata": {
      "needs_background": "light"
     },
     "output_type": "display_data"
    }
   ],
   "source": [
    "make_cmx(y, predicted_classes, classes, cmap=cmap)"
   ]
  },
  {
   "cell_type": "code",
   "execution_count": 39,
   "id": "weird-split",
   "metadata": {
    "scrolled": false
   },
   "outputs": [
    {
     "data": {
      "text/html": [
       "<div>\n",
       "<style scoped>\n",
       "    .dataframe tbody tr th:only-of-type {\n",
       "        vertical-align: middle;\n",
       "    }\n",
       "\n",
       "    .dataframe tbody tr th {\n",
       "        vertical-align: top;\n",
       "    }\n",
       "\n",
       "    .dataframe thead th {\n",
       "        text-align: right;\n",
       "    }\n",
       "</style>\n",
       "<table border=\"1\" class=\"dataframe\">\n",
       "  <thead>\n",
       "    <tr style=\"text-align: right;\">\n",
       "      <th></th>\n",
       "      <th>precision</th>\n",
       "      <th>recall</th>\n",
       "      <th>f1-score</th>\n",
       "      <th>support</th>\n",
       "    </tr>\n",
       "  </thead>\n",
       "  <tbody>\n",
       "    <tr>\n",
       "      <th>1</th>\n",
       "      <td>0.96</td>\n",
       "      <td>0.92</td>\n",
       "      <td>0.94</td>\n",
       "      <td>3061.00</td>\n",
       "    </tr>\n",
       "    <tr>\n",
       "      <th>5</th>\n",
       "      <td>0.71</td>\n",
       "      <td>0.80</td>\n",
       "      <td>0.75</td>\n",
       "      <td>1768.00</td>\n",
       "    </tr>\n",
       "    <tr>\n",
       "      <th>25</th>\n",
       "      <td>0.75</td>\n",
       "      <td>0.70</td>\n",
       "      <td>0.72</td>\n",
       "      <td>1384.00</td>\n",
       "    </tr>\n",
       "    <tr>\n",
       "      <th>50</th>\n",
       "      <td>0.72</td>\n",
       "      <td>0.75</td>\n",
       "      <td>0.73</td>\n",
       "      <td>2108.00</td>\n",
       "    </tr>\n",
       "    <tr>\n",
       "      <th>100</th>\n",
       "      <td>0.73</td>\n",
       "      <td>0.72</td>\n",
       "      <td>0.72</td>\n",
       "      <td>1556.00</td>\n",
       "    </tr>\n",
       "    <tr>\n",
       "      <th>150</th>\n",
       "      <td>0.78</td>\n",
       "      <td>0.73</td>\n",
       "      <td>0.76</td>\n",
       "      <td>1326.00</td>\n",
       "    </tr>\n",
       "    <tr>\n",
       "      <th>200</th>\n",
       "      <td>0.81</td>\n",
       "      <td>0.70</td>\n",
       "      <td>0.75</td>\n",
       "      <td>1078.00</td>\n",
       "    </tr>\n",
       "    <tr>\n",
       "      <th>250</th>\n",
       "      <td>0.81</td>\n",
       "      <td>0.74</td>\n",
       "      <td>0.77</td>\n",
       "      <td>3493.00</td>\n",
       "    </tr>\n",
       "    <tr>\n",
       "      <th>500</th>\n",
       "      <td>0.87</td>\n",
       "      <td>0.92</td>\n",
       "      <td>0.89</td>\n",
       "      <td>6885.00</td>\n",
       "    </tr>\n",
       "    <tr>\n",
       "      <th>5000</th>\n",
       "      <td>0.85</td>\n",
       "      <td>0.80</td>\n",
       "      <td>0.82</td>\n",
       "      <td>528.00</td>\n",
       "    </tr>\n",
       "    <tr>\n",
       "      <th>50000</th>\n",
       "      <td>1.00</td>\n",
       "      <td>1.00</td>\n",
       "      <td>1.00</td>\n",
       "      <td>7.00</td>\n",
       "    </tr>\n",
       "    <tr>\n",
       "      <th>accuracy</th>\n",
       "      <td>0.82</td>\n",
       "      <td>0.82</td>\n",
       "      <td>0.82</td>\n",
       "      <td>0.82</td>\n",
       "    </tr>\n",
       "    <tr>\n",
       "      <th>macro avg</th>\n",
       "      <td>0.82</td>\n",
       "      <td>0.80</td>\n",
       "      <td>0.81</td>\n",
       "      <td>23194.00</td>\n",
       "    </tr>\n",
       "    <tr>\n",
       "      <th>weighted avg</th>\n",
       "      <td>0.82</td>\n",
       "      <td>0.82</td>\n",
       "      <td>0.82</td>\n",
       "      <td>23194.00</td>\n",
       "    </tr>\n",
       "  </tbody>\n",
       "</table>\n",
       "</div>"
      ],
      "text/plain": [
       "              precision  recall  f1-score   support\n",
       "1                  0.96    0.92      0.94   3061.00\n",
       "5                  0.71    0.80      0.75   1768.00\n",
       "25                 0.75    0.70      0.72   1384.00\n",
       "50                 0.72    0.75      0.73   2108.00\n",
       "100                0.73    0.72      0.72   1556.00\n",
       "150                0.78    0.73      0.76   1326.00\n",
       "200                0.81    0.70      0.75   1078.00\n",
       "250                0.81    0.74      0.77   3493.00\n",
       "500                0.87    0.92      0.89   6885.00\n",
       "5000               0.85    0.80      0.82    528.00\n",
       "50000              1.00    1.00      1.00      7.00\n",
       "accuracy           0.82    0.82      0.82      0.82\n",
       "macro avg          0.82    0.80      0.81  23194.00\n",
       "weighted avg       0.82    0.82      0.82  23194.00"
      ]
     },
     "execution_count": 39,
     "metadata": {},
     "output_type": "execute_result"
    }
   ],
   "source": [
    "make_classif_report(y, predicted_classes, classes)"
   ]
  },
  {
   "cell_type": "code",
   "execution_count": null,
   "id": "distributed-bacon",
   "metadata": {},
   "outputs": [],
   "source": []
  },
  {
   "cell_type": "code",
   "execution_count": null,
   "id": "functional-anderson",
   "metadata": {},
   "outputs": [],
   "source": []
  }
 ],
 "metadata": {
  "kernelspec": {
   "display_name": "Python 3",
   "language": "python",
   "name": "python3"
  },
  "language_info": {
   "codemirror_mode": {
    "name": "ipython",
    "version": 3
   },
   "file_extension": ".py",
   "mimetype": "text/x-python",
   "name": "python",
   "nbconvert_exporter": "python",
   "pygments_lexer": "ipython3",
   "version": "3.9.2"
  }
 },
 "nbformat": 4,
 "nbformat_minor": 5
}
