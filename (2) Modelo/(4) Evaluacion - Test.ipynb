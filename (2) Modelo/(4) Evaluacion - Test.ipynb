{
 "cells": [
  {
   "cell_type": "markdown",
   "id": "recorded-march",
   "metadata": {},
   "source": [
    "TODO:  \n",
    "    \n",
    "    - revisar clasification report con lo que habia dicho mati (make_classif_report)\n",
    "    - DONE llevar fxs a utils \n",
    "    - DONE replicar este notebook para training (tiene sentido? se vieron todos los datos al entrenar)\n",
    "    - ver como mostrar cada modelo"
   ]
  },
  {
   "cell_type": "code",
   "execution_count": 1,
   "id": "worse-pencil",
   "metadata": {},
   "outputs": [],
   "source": [
    "%load_ext autoreload\n",
    "%autoreload 2"
   ]
  },
  {
   "cell_type": "code",
   "execution_count": 2,
   "id": "elder-israel",
   "metadata": {},
   "outputs": [],
   "source": [
    "import os\n",
    "os.chdir('..')\n",
    "from utils.eval import *"
   ]
  },
  {
   "cell_type": "code",
   "execution_count": 3,
   "id": "elementary-premises",
   "metadata": {},
   "outputs": [
    {
     "data": {
      "text/html": [
       "<style>.container { width:95% !important; }</style>"
      ],
      "text/plain": [
       "<IPython.core.display.HTML object>"
      ]
     },
     "metadata": {},
     "output_type": "display_data"
    },
    {
     "data": {
      "text/html": [
       "<style>.prompt { font-size: 10px !important; }</style>"
      ],
      "text/plain": [
       "<IPython.core.display.HTML object>"
      ]
     },
     "metadata": {},
     "output_type": "display_data"
    }
   ],
   "source": [
    "from IPython.core.display import display, HTML\n",
    "display(\n",
    "   HTML(\"<style>.container { width:95% !important; }</style>\"))\n",
    "display(\n",
    "   HTML(\"<style>.prompt { font-size: 10px !important; }</style>\"))"
   ]
  },
  {
   "cell_type": "markdown",
   "id": "beneficial-rendering",
   "metadata": {},
   "source": [
    "## Config"
   ]
  },
  {
   "cell_type": "code",
   "execution_count": 4,
   "id": "desirable-princeton",
   "metadata": {},
   "outputs": [],
   "source": [
    "data_path = \"data/\""
   ]
  },
  {
   "cell_type": "code",
   "execution_count": 5,
   "id": "armed-topic",
   "metadata": {},
   "outputs": [],
   "source": [
    "cmap = plt.cm.Blues"
   ]
  },
  {
   "cell_type": "code",
   "execution_count": 6,
   "id": "hawaiian-academy",
   "metadata": {},
   "outputs": [],
   "source": [
    "data = 'test'"
   ]
  },
  {
   "cell_type": "code",
   "execution_count": null,
   "id": "spiritual-sterling",
   "metadata": {},
   "outputs": [],
   "source": []
  },
  {
   "cell_type": "markdown",
   "id": "driving-virtue",
   "metadata": {},
   "source": [
    "## Load data"
   ]
  },
  {
   "cell_type": "code",
   "execution_count": 7,
   "id": "looking-preview",
   "metadata": {},
   "outputs": [
    {
     "data": {
      "text/html": [
       "<div>\n",
       "<style scoped>\n",
       "    .dataframe tbody tr th:only-of-type {\n",
       "        vertical-align: middle;\n",
       "    }\n",
       "\n",
       "    .dataframe tbody tr th {\n",
       "        vertical-align: top;\n",
       "    }\n",
       "\n",
       "    .dataframe thead th {\n",
       "        text-align: right;\n",
       "    }\n",
       "</style>\n",
       "<table border=\"1\" class=\"dataframe\">\n",
       "  <thead>\n",
       "    <tr style=\"text-align: right;\">\n",
       "      <th></th>\n",
       "      <th>installments.quantity</th>\n",
       "      <th>installments.rate</th>\n",
       "      <th>id</th>\n",
       "      <th>site_id</th>\n",
       "      <th>title</th>\n",
       "      <th>price</th>\n",
       "      <th>currency_id</th>\n",
       "      <th>available_quantity</th>\n",
       "      <th>sold_quantity</th>\n",
       "      <th>buying_mode</th>\n",
       "      <th>...</th>\n",
       "      <th>address.state_name</th>\n",
       "      <th>shipping.free_shipping</th>\n",
       "      <th>shipping.mode</th>\n",
       "      <th>shipping.logistic_type</th>\n",
       "      <th>shipping.store_pick_up</th>\n",
       "      <th>seller.seller_reputation.real_level</th>\n",
       "      <th>root_category_id</th>\n",
       "      <th>root_category_name</th>\n",
       "      <th>discount</th>\n",
       "      <th>category_name</th>\n",
       "    </tr>\n",
       "  </thead>\n",
       "  <tbody>\n",
       "    <tr>\n",
       "      <th>0</th>\n",
       "      <td>12.0</td>\n",
       "      <td>70.17</td>\n",
       "      <td>MLA901948080</td>\n",
       "      <td>MLA</td>\n",
       "      <td>Estéreo Para Auto Pioneer Mvh S215bt Con Usb Y...</td>\n",
       "      <td>12600.0</td>\n",
       "      <td>ARS</td>\n",
       "      <td>1</td>\n",
       "      <td>5</td>\n",
       "      <td>buy_it_now</td>\n",
       "      <td>...</td>\n",
       "      <td>Buenos Aires</td>\n",
       "      <td>1</td>\n",
       "      <td>me2</td>\n",
       "      <td>drop_off</td>\n",
       "      <td>0</td>\n",
       "      <td>NaN</td>\n",
       "      <td>MLA5725</td>\n",
       "      <td>Accesorios para Vehículos</td>\n",
       "      <td>NaN</td>\n",
       "      <td>Estéreos</td>\n",
       "    </tr>\n",
       "    <tr>\n",
       "      <th>1</th>\n",
       "      <td>12.0</td>\n",
       "      <td>70.17</td>\n",
       "      <td>MLA869356478</td>\n",
       "      <td>MLA</td>\n",
       "      <td>Neumático Pirelli Formula Energy 185/60 R14 82h</td>\n",
       "      <td>10250.0</td>\n",
       "      <td>ARS</td>\n",
       "      <td>50</td>\n",
       "      <td>500</td>\n",
       "      <td>buy_it_now</td>\n",
       "      <td>...</td>\n",
       "      <td>Buenos Aires</td>\n",
       "      <td>1</td>\n",
       "      <td>me2</td>\n",
       "      <td>cross_docking</td>\n",
       "      <td>1</td>\n",
       "      <td>NaN</td>\n",
       "      <td>MLA5725</td>\n",
       "      <td>Accesorios para Vehículos</td>\n",
       "      <td>NaN</td>\n",
       "      <td>Neumáticos de Auto y Camioneta</td>\n",
       "    </tr>\n",
       "    <tr>\n",
       "      <th>2</th>\n",
       "      <td>12.0</td>\n",
       "      <td>70.17</td>\n",
       "      <td>MLA862644604</td>\n",
       "      <td>MLA</td>\n",
       "      <td>Casco Para Moto Integral Halcon H57 Negro Tall...</td>\n",
       "      <td>2289.5</td>\n",
       "      <td>ARS</td>\n",
       "      <td>1</td>\n",
       "      <td>250</td>\n",
       "      <td>buy_it_now</td>\n",
       "      <td>...</td>\n",
       "      <td>Capital Federal</td>\n",
       "      <td>0</td>\n",
       "      <td>me2</td>\n",
       "      <td>cross_docking</td>\n",
       "      <td>0</td>\n",
       "      <td>NaN</td>\n",
       "      <td>MLA5725</td>\n",
       "      <td>Accesorios para Vehículos</td>\n",
       "      <td>0.05</td>\n",
       "      <td>Cascos</td>\n",
       "    </tr>\n",
       "    <tr>\n",
       "      <th>3</th>\n",
       "      <td>12.0</td>\n",
       "      <td>70.17</td>\n",
       "      <td>MLA835929721</td>\n",
       "      <td>MLA</td>\n",
       "      <td>Soporte Respaldo Apoyo Lumbar Masajeador Asien...</td>\n",
       "      <td>700.0</td>\n",
       "      <td>ARS</td>\n",
       "      <td>150</td>\n",
       "      <td>500</td>\n",
       "      <td>buy_it_now</td>\n",
       "      <td>...</td>\n",
       "      <td>Capital Federal</td>\n",
       "      <td>0</td>\n",
       "      <td>me2</td>\n",
       "      <td>fulfillment</td>\n",
       "      <td>0</td>\n",
       "      <td>NaN</td>\n",
       "      <td>MLA5725</td>\n",
       "      <td>Accesorios para Vehículos</td>\n",
       "      <td>0.44</td>\n",
       "      <td>Fundas para Asientos</td>\n",
       "    </tr>\n",
       "    <tr>\n",
       "      <th>4</th>\n",
       "      <td>12.0</td>\n",
       "      <td>70.17</td>\n",
       "      <td>MLA634125192</td>\n",
       "      <td>MLA</td>\n",
       "      <td>Kit Reglamentario Auto Vtv 7 En 1 Con Matafueg...</td>\n",
       "      <td>1890.0</td>\n",
       "      <td>ARS</td>\n",
       "      <td>5000</td>\n",
       "      <td>5000</td>\n",
       "      <td>buy_it_now</td>\n",
       "      <td>...</td>\n",
       "      <td>Capital Federal</td>\n",
       "      <td>0</td>\n",
       "      <td>me2</td>\n",
       "      <td>cross_docking</td>\n",
       "      <td>0</td>\n",
       "      <td>NaN</td>\n",
       "      <td>MLA5725</td>\n",
       "      <td>Accesorios para Vehículos</td>\n",
       "      <td>NaN</td>\n",
       "      <td>Kit de Seguridad para Autos</td>\n",
       "    </tr>\n",
       "  </tbody>\n",
       "</table>\n",
       "<p>5 rows × 43 columns</p>\n",
       "</div>"
      ],
      "text/plain": [
       "   installments.quantity  installments.rate            id site_id  \\\n",
       "0                   12.0              70.17  MLA901948080     MLA   \n",
       "1                   12.0              70.17  MLA869356478     MLA   \n",
       "2                   12.0              70.17  MLA862644604     MLA   \n",
       "3                   12.0              70.17  MLA835929721     MLA   \n",
       "4                   12.0              70.17  MLA634125192     MLA   \n",
       "\n",
       "                                               title    price currency_id  \\\n",
       "0  Estéreo Para Auto Pioneer Mvh S215bt Con Usb Y...  12600.0         ARS   \n",
       "1    Neumático Pirelli Formula Energy 185/60 R14 82h  10250.0         ARS   \n",
       "2  Casco Para Moto Integral Halcon H57 Negro Tall...   2289.5         ARS   \n",
       "3  Soporte Respaldo Apoyo Lumbar Masajeador Asien...    700.0         ARS   \n",
       "4  Kit Reglamentario Auto Vtv 7 En 1 Con Matafueg...   1890.0         ARS   \n",
       "\n",
       "   available_quantity  sold_quantity buying_mode  ... address.state_name  \\\n",
       "0                   1              5  buy_it_now  ...       Buenos Aires   \n",
       "1                  50            500  buy_it_now  ...       Buenos Aires   \n",
       "2                   1            250  buy_it_now  ...    Capital Federal   \n",
       "3                 150            500  buy_it_now  ...    Capital Federal   \n",
       "4                5000           5000  buy_it_now  ...    Capital Federal   \n",
       "\n",
       "  shipping.free_shipping  shipping.mode shipping.logistic_type  \\\n",
       "0                      1            me2               drop_off   \n",
       "1                      1            me2          cross_docking   \n",
       "2                      0            me2          cross_docking   \n",
       "3                      0            me2            fulfillment   \n",
       "4                      0            me2          cross_docking   \n",
       "\n",
       "   shipping.store_pick_up seller.seller_reputation.real_level  \\\n",
       "0                       0                                 NaN   \n",
       "1                       1                                 NaN   \n",
       "2                       0                                 NaN   \n",
       "3                       0                                 NaN   \n",
       "4                       0                                 NaN   \n",
       "\n",
       "   root_category_id         root_category_name  discount  \\\n",
       "0           MLA5725  Accesorios para Vehículos       NaN   \n",
       "1           MLA5725  Accesorios para Vehículos       NaN   \n",
       "2           MLA5725  Accesorios para Vehículos      0.05   \n",
       "3           MLA5725  Accesorios para Vehículos      0.44   \n",
       "4           MLA5725  Accesorios para Vehículos       NaN   \n",
       "\n",
       "                    category_name  \n",
       "0                        Estéreos  \n",
       "1  Neumáticos de Auto y Camioneta  \n",
       "2                          Cascos  \n",
       "3            Fundas para Asientos  \n",
       "4     Kit de Seguridad para Autos  \n",
       "\n",
       "[5 rows x 43 columns]"
      ]
     },
     "execution_count": 7,
     "metadata": {},
     "output_type": "execute_result"
    }
   ],
   "source": [
    "df = pd.read_csv(data_path + data + '.csv', sep='\\t', encoding='utf-8', )  \n",
    "df.head()"
   ]
  },
  {
   "cell_type": "code",
   "execution_count": 8,
   "id": "found-footwear",
   "metadata": {},
   "outputs": [
    {
     "data": {
      "text/plain": [
       "(7731, 43)"
      ]
     },
     "execution_count": 8,
     "metadata": {},
     "output_type": "execute_result"
    }
   ],
   "source": [
    "df.shape"
   ]
  },
  {
   "cell_type": "code",
   "execution_count": null,
   "id": "secondary-bikini",
   "metadata": {},
   "outputs": [],
   "source": []
  },
  {
   "cell_type": "markdown",
   "id": "coordinate-newspaper",
   "metadata": {},
   "source": [
    "## IDs"
   ]
  },
  {
   "cell_type": "code",
   "execution_count": 9,
   "id": "closed-attribute",
   "metadata": {},
   "outputs": [],
   "source": [
    "id_cols = [\n",
    "'id',\n",
    "'site_id',\n",
    "'title',\n",
    "'category_id',\n",
    "'seller.id',\n",
    "'catalog_product_id',\n",
    "'root_category_id',\n",
    "'root_category_name',\n",
    "'category_name',\n",
    "]\n"
   ]
  },
  {
   "cell_type": "code",
   "execution_count": 10,
   "id": "imposed-trash",
   "metadata": {},
   "outputs": [],
   "source": [
    "df_ID = df[id_cols].copy()\n",
    "df = df.drop(id_cols, axis= 1)"
   ]
  },
  {
   "cell_type": "code",
   "execution_count": null,
   "id": "wound-orleans",
   "metadata": {},
   "outputs": [],
   "source": []
  },
  {
   "cell_type": "markdown",
   "id": "impressed-underwear",
   "metadata": {},
   "source": [
    "## Distribución de valores para el target"
   ]
  },
  {
   "cell_type": "code",
   "execution_count": 11,
   "id": "exceptional-print",
   "metadata": {
    "scrolled": false
   },
   "outputs": [
    {
     "data": {
      "text/plain": [
       "0         817\n",
       "1          72\n",
       "2          61\n",
       "3          63\n",
       "4          49\n",
       "5         574\n",
       "25        438\n",
       "50        684\n",
       "100       512\n",
       "150       430\n",
       "200       360\n",
       "250      1213\n",
       "500      2266\n",
       "5000      190\n",
       "50000       2\n",
       "Name: sold_quantity, dtype: int64"
      ]
     },
     "execution_count": 11,
     "metadata": {},
     "output_type": "execute_result"
    }
   ],
   "source": [
    "df.sold_quantity.value_counts().sort_index()"
   ]
  },
  {
   "cell_type": "code",
   "execution_count": 12,
   "id": "worst-cedar",
   "metadata": {
    "scrolled": false
   },
   "outputs": [
    {
     "data": {
      "text/plain": [
       "<AxesSubplot:>"
      ]
     },
     "execution_count": 12,
     "metadata": {},
     "output_type": "execute_result"
    },
    {
     "data": {
      "image/png": "[encoded data removed]",
      "text/plain": [
       "<Figure size 432x288 with 1 Axes>"
      ]
     },
     "metadata": {
      "needs_background": "light"
     },
     "output_type": "display_data"
    }
   ],
   "source": [
    "df.sold_quantity.value_counts(normalize=True).sort_index(ascending=False).plot.barh()"
   ]
  },
  {
   "cell_type": "code",
   "execution_count": null,
   "id": "intermediate-allowance",
   "metadata": {},
   "outputs": [],
   "source": []
  },
  {
   "cell_type": "markdown",
   "id": "dying-capture",
   "metadata": {},
   "source": [
    "## Manipulación clases"
   ]
  },
  {
   "cell_type": "code",
   "execution_count": 13,
   "id": "continuous-baltimore",
   "metadata": {},
   "outputs": [],
   "source": [
    "df[\"sold_quantity\"] = [x if x >= 5 else 1 for x in df[\"sold_quantity\"]]"
   ]
  },
  {
   "cell_type": "code",
   "execution_count": 14,
   "id": "opening-suffering",
   "metadata": {},
   "outputs": [
    {
     "data": {
      "text/plain": [
       "1        1062\n",
       "5         574\n",
       "25        438\n",
       "50        684\n",
       "100       512\n",
       "150       430\n",
       "200       360\n",
       "250      1213\n",
       "500      2266\n",
       "5000      190\n",
       "50000       2\n",
       "Name: sold_quantity, dtype: int64"
      ]
     },
     "execution_count": 14,
     "metadata": {},
     "output_type": "execute_result"
    }
   ],
   "source": [
    "df.sold_quantity.value_counts().sort_index()"
   ]
  },
  {
   "cell_type": "code",
   "execution_count": null,
   "id": "hybrid-california",
   "metadata": {},
   "outputs": [],
   "source": []
  },
  {
   "cell_type": "markdown",
   "id": "formal-infrared",
   "metadata": {},
   "source": [
    "## Y"
   ]
  },
  {
   "cell_type": "code",
   "execution_count": 15,
   "id": "demanding-telephone",
   "metadata": {},
   "outputs": [],
   "source": [
    "y = df.sold_quantity"
   ]
  },
  {
   "cell_type": "code",
   "execution_count": 16,
   "id": "split-walker",
   "metadata": {},
   "outputs": [],
   "source": [
    "df = df.drop(['sold_quantity'], axis= 1)"
   ]
  },
  {
   "cell_type": "code",
   "execution_count": null,
   "id": "southwest-belarus",
   "metadata": {},
   "outputs": [],
   "source": []
  },
  {
   "cell_type": "markdown",
   "id": "colored-communication",
   "metadata": {},
   "source": [
    "## Paths"
   ]
  },
  {
   "cell_type": "code",
   "execution_count": 17,
   "id": "genetic-compilation",
   "metadata": {},
   "outputs": [],
   "source": [
    "cols_path = data_path + \"cols.joblib\" \n",
    "pipelines_path = data_path + \"pipeline.joblib\" \n",
    "models_path = data_path + \"models/\"\n",
    "models_path_template = models_path + '{}.joblib'"
   ]
  },
  {
   "cell_type": "code",
   "execution_count": null,
   "id": "formed-christianity",
   "metadata": {},
   "outputs": [],
   "source": []
  },
  {
   "cell_type": "markdown",
   "id": "greater-facial",
   "metadata": {},
   "source": [
    "## Load objects"
   ]
  },
  {
   "cell_type": "code",
   "execution_count": 18,
   "id": "asian-amateur",
   "metadata": {},
   "outputs": [],
   "source": [
    "# pipeline\n",
    "pipeline = joblib.load(pipelines_path)\n",
    "# cols\n",
    "cols = joblib.load(cols_path)  \n"
   ]
  },
  {
   "cell_type": "code",
   "execution_count": null,
   "id": "cosmetic-beauty",
   "metadata": {},
   "outputs": [],
   "source": []
  },
  {
   "cell_type": "markdown",
   "id": "seeing-arizona",
   "metadata": {},
   "source": [
    "## Transform df"
   ]
  },
  {
   "cell_type": "code",
   "execution_count": 19,
   "id": "engaging-college",
   "metadata": {},
   "outputs": [],
   "source": [
    "df_copy = df.copy()\n",
    "df_copy = pipeline.transform(df_copy)"
   ]
  },
  {
   "cell_type": "code",
   "execution_count": null,
   "id": "continuous-invasion",
   "metadata": {},
   "outputs": [],
   "source": []
  },
  {
   "cell_type": "markdown",
   "id": "known-judgment",
   "metadata": {},
   "source": [
    "## Load models and predict"
   ]
  },
  {
   "cell_type": "code",
   "execution_count": 20,
   "id": "appointed-moore",
   "metadata": {},
   "outputs": [],
   "source": [
    "models = [ 'xgb', \n",
    "           'mlp', \n",
    "           'lr' \n",
    "]"
   ]
  },
  {
   "cell_type": "code",
   "execution_count": 21,
   "id": "closed-request",
   "metadata": {},
   "outputs": [],
   "source": [
    "dict_res = {}\n",
    "for k in models:\n",
    "    dict_res[k] = {}\n",
    "    # ----------------- load model -------------------\n",
    "    model = get_model(k, models_path_template.format(k))\n",
    "    # ----------------- get preds -------------------\n",
    "    preds = model.predict(df_copy[cols])\n",
    "    dict_res[k]['model'] = model\n",
    "    dict_res[k]['preds'] = preds"
   ]
  },
  {
   "cell_type": "code",
   "execution_count": null,
   "id": "lightweight-dollar",
   "metadata": {},
   "outputs": [],
   "source": []
  },
  {
   "cell_type": "markdown",
   "id": "desirable-shelter",
   "metadata": {},
   "source": [
    "## --------------------------- <p style='color:blue; font-weight:bold'> XGB </p> ---------------------------"
   ]
  },
  {
   "cell_type": "code",
   "execution_count": 22,
   "id": "english-duration",
   "metadata": {},
   "outputs": [
    {
     "data": {
      "text/plain": [
       "XGBClassifier(base_score=0.5, booster='gbtree', colsample_bylevel=1,\n",
       "              colsample_bynode=1, colsample_bytree=0.5, gamma=1, gpu_id=-1,\n",
       "              importance_type='gain', interaction_constraints='',\n",
       "              learning_rate=0.1, max_delta_step=0, max_depth=10,\n",
       "              min_child_weight=1, missing=nan, monotone_constraints='()',\n",
       "              n_estimators=500, n_jobs=7, num_parallel_tree=1,\n",
       "              objective='multi:softprob', random_state=0, reg_alpha=0,\n",
       "              reg_lambda=1, scale_pos_weight=None, seed=1111, subsample=1,\n",
       "              tree_method='auto', validate_parameters=1, verbosity=None)"
      ]
     },
     "execution_count": 22,
     "metadata": {},
     "output_type": "execute_result"
    }
   ],
   "source": [
    "dict_res['xgb']['model']"
   ]
  },
  {
   "cell_type": "code",
   "execution_count": 23,
   "id": "irish-timing",
   "metadata": {},
   "outputs": [],
   "source": [
    "predicted_classes = dict_res['xgb']['preds']"
   ]
  },
  {
   "cell_type": "code",
   "execution_count": 24,
   "id": "cutting-hudson",
   "metadata": {},
   "outputs": [
    {
     "data": {
      "text/plain": [
       "array([    1,     5,    25,    50,   100,   150,   200,   250,   500,\n",
       "        5000, 50000])"
      ]
     },
     "execution_count": 24,
     "metadata": {},
     "output_type": "execute_result"
    }
   ],
   "source": [
    "classes = np.unique(predicted_classes)\n",
    "classes"
   ]
  },
  {
   "cell_type": "code",
   "execution_count": 25,
   "id": "charming-skill",
   "metadata": {},
   "outputs": [
    {
     "name": "stdout",
     "output_type": "stream",
     "text": [
      "Predicted classes proportions\n",
      "--------------\n",
      "1        0.130643\n",
      "5        0.088734\n",
      "25       0.041650\n",
      "50       0.105808\n",
      "100      0.039452\n",
      "150      0.026387\n",
      "200      0.014616\n",
      "250      0.120424\n",
      "500      0.420903\n",
      "5000     0.011253\n",
      "50000    0.000129\n",
      "dtype: float64 \n",
      "\n"
     ]
    }
   ],
   "source": [
    "print_pred_classes_prop(predicted_classes)"
   ]
  },
  {
   "cell_type": "code",
   "execution_count": 26,
   "id": "excessive-treasury",
   "metadata": {},
   "outputs": [
    {
     "name": "stdout",
     "output_type": "stream",
     "text": [
      "Confusion matrix, without normalization\n"
     ]
    },
    {
     "data": {
      "image/png": "[encoded data removed]",
      "text/plain": [
       "<Figure size 576x576 with 2 Axes>"
      ]
     },
     "metadata": {
      "needs_background": "light"
     },
     "output_type": "display_data"
    }
   ],
   "source": [
    "make_cmx(y, predicted_classes, classes, cmap=cmap)"
   ]
  },
  {
   "cell_type": "code",
   "execution_count": 27,
   "id": "timely-enough",
   "metadata": {
    "scrolled": false
   },
   "outputs": [
    {
     "data": {
      "text/html": [
       "<div>\n",
       "<style scoped>\n",
       "    .dataframe tbody tr th:only-of-type {\n",
       "        vertical-align: middle;\n",
       "    }\n",
       "\n",
       "    .dataframe tbody tr th {\n",
       "        vertical-align: top;\n",
       "    }\n",
       "\n",
       "    .dataframe thead th {\n",
       "        text-align: right;\n",
       "    }\n",
       "</style>\n",
       "<table border=\"1\" class=\"dataframe\">\n",
       "  <thead>\n",
       "    <tr style=\"text-align: right;\">\n",
       "      <th></th>\n",
       "      <th>precision</th>\n",
       "      <th>recall</th>\n",
       "      <th>f1-score</th>\n",
       "      <th>support</th>\n",
       "    </tr>\n",
       "  </thead>\n",
       "  <tbody>\n",
       "    <tr>\n",
       "      <th>1</th>\n",
       "      <td>0.90</td>\n",
       "      <td>0.85</td>\n",
       "      <td>0.88</td>\n",
       "      <td>1062.00</td>\n",
       "    </tr>\n",
       "    <tr>\n",
       "      <th>5</th>\n",
       "      <td>0.35</td>\n",
       "      <td>0.42</td>\n",
       "      <td>0.38</td>\n",
       "      <td>574.00</td>\n",
       "    </tr>\n",
       "    <tr>\n",
       "      <th>25</th>\n",
       "      <td>0.16</td>\n",
       "      <td>0.11</td>\n",
       "      <td>0.13</td>\n",
       "      <td>438.00</td>\n",
       "    </tr>\n",
       "    <tr>\n",
       "      <th>50</th>\n",
       "      <td>0.25</td>\n",
       "      <td>0.30</td>\n",
       "      <td>0.28</td>\n",
       "      <td>684.00</td>\n",
       "    </tr>\n",
       "    <tr>\n",
       "      <th>100</th>\n",
       "      <td>0.18</td>\n",
       "      <td>0.11</td>\n",
       "      <td>0.14</td>\n",
       "      <td>512.00</td>\n",
       "    </tr>\n",
       "    <tr>\n",
       "      <th>150</th>\n",
       "      <td>0.21</td>\n",
       "      <td>0.10</td>\n",
       "      <td>0.13</td>\n",
       "      <td>430.00</td>\n",
       "    </tr>\n",
       "    <tr>\n",
       "      <th>200</th>\n",
       "      <td>0.19</td>\n",
       "      <td>0.06</td>\n",
       "      <td>0.09</td>\n",
       "      <td>360.00</td>\n",
       "    </tr>\n",
       "    <tr>\n",
       "      <th>250</th>\n",
       "      <td>0.30</td>\n",
       "      <td>0.23</td>\n",
       "      <td>0.26</td>\n",
       "      <td>1213.00</td>\n",
       "    </tr>\n",
       "    <tr>\n",
       "      <th>500</th>\n",
       "      <td>0.55</td>\n",
       "      <td>0.79</td>\n",
       "      <td>0.65</td>\n",
       "      <td>2266.00</td>\n",
       "    </tr>\n",
       "    <tr>\n",
       "      <th>5000</th>\n",
       "      <td>0.56</td>\n",
       "      <td>0.26</td>\n",
       "      <td>0.35</td>\n",
       "      <td>190.00</td>\n",
       "    </tr>\n",
       "    <tr>\n",
       "      <th>50000</th>\n",
       "      <td>1.00</td>\n",
       "      <td>0.50</td>\n",
       "      <td>0.67</td>\n",
       "      <td>2.00</td>\n",
       "    </tr>\n",
       "    <tr>\n",
       "      <th>accuracy</th>\n",
       "      <td>0.47</td>\n",
       "      <td>0.47</td>\n",
       "      <td>0.47</td>\n",
       "      <td>0.47</td>\n",
       "    </tr>\n",
       "    <tr>\n",
       "      <th>macro avg</th>\n",
       "      <td>0.42</td>\n",
       "      <td>0.34</td>\n",
       "      <td>0.36</td>\n",
       "      <td>7731.00</td>\n",
       "    </tr>\n",
       "    <tr>\n",
       "      <th>weighted avg</th>\n",
       "      <td>0.44</td>\n",
       "      <td>0.47</td>\n",
       "      <td>0.44</td>\n",
       "      <td>7731.00</td>\n",
       "    </tr>\n",
       "  </tbody>\n",
       "</table>\n",
       "</div>"
      ],
      "text/plain": [
       "              precision  recall  f1-score  support\n",
       "1                  0.90    0.85      0.88  1062.00\n",
       "5                  0.35    0.42      0.38   574.00\n",
       "25                 0.16    0.11      0.13   438.00\n",
       "50                 0.25    0.30      0.28   684.00\n",
       "100                0.18    0.11      0.14   512.00\n",
       "150                0.21    0.10      0.13   430.00\n",
       "200                0.19    0.06      0.09   360.00\n",
       "250                0.30    0.23      0.26  1213.00\n",
       "500                0.55    0.79      0.65  2266.00\n",
       "5000               0.56    0.26      0.35   190.00\n",
       "50000              1.00    0.50      0.67     2.00\n",
       "accuracy           0.47    0.47      0.47     0.47\n",
       "macro avg          0.42    0.34      0.36  7731.00\n",
       "weighted avg       0.44    0.47      0.44  7731.00"
      ]
     },
     "execution_count": 27,
     "metadata": {},
     "output_type": "execute_result"
    }
   ],
   "source": [
    "make_classif_report(y, predicted_classes, classes)"
   ]
  },
  {
   "cell_type": "code",
   "execution_count": null,
   "id": "sitting-butter",
   "metadata": {},
   "outputs": [],
   "source": []
  },
  {
   "cell_type": "code",
   "execution_count": null,
   "id": "sudden-instrumentation",
   "metadata": {},
   "outputs": [],
   "source": []
  },
  {
   "cell_type": "markdown",
   "id": "worst-devon",
   "metadata": {},
   "source": [
    "## --------------------------- <p style='color:blue; font-weight:bold'> LR </p> ---------------------------"
   ]
  },
  {
   "cell_type": "code",
   "execution_count": 28,
   "id": "virgin-orleans",
   "metadata": {},
   "outputs": [
    {
     "data": {
      "text/plain": [
       "LogisticRegression(C=1, class_weight='balanced', multi_class='ovr',\n",
       "                   random_state=1111, solver='saga')"
      ]
     },
     "execution_count": 28,
     "metadata": {},
     "output_type": "execute_result"
    }
   ],
   "source": [
    "dict_res['lr']['model']"
   ]
  },
  {
   "cell_type": "code",
   "execution_count": 29,
   "id": "insured-despite",
   "metadata": {},
   "outputs": [],
   "source": [
    "predicted_classes = dict_res['lr']['preds']"
   ]
  },
  {
   "cell_type": "code",
   "execution_count": 30,
   "id": "federal-separation",
   "metadata": {},
   "outputs": [
    {
     "data": {
      "text/plain": [
       "array([    1,     5,    25,    50,   100,   150,   200,   250,   500,\n",
       "        5000, 50000], dtype=int64)"
      ]
     },
     "execution_count": 30,
     "metadata": {},
     "output_type": "execute_result"
    }
   ],
   "source": [
    "classes = np.unique(predicted_classes)\n",
    "classes"
   ]
  },
  {
   "cell_type": "code",
   "execution_count": 31,
   "id": "attempted-negotiation",
   "metadata": {},
   "outputs": [
    {
     "name": "stdout",
     "output_type": "stream",
     "text": [
      "Predicted classes proportions\n",
      "--------------\n",
      "1        0.111370\n",
      "5        0.150821\n",
      "25       0.038417\n",
      "50       0.100504\n",
      "100      0.084336\n",
      "150      0.039322\n",
      "200      0.039452\n",
      "250      0.040616\n",
      "500      0.106325\n",
      "5000     0.281335\n",
      "50000    0.007502\n",
      "dtype: float64 \n",
      "\n"
     ]
    }
   ],
   "source": [
    "print_pred_classes_prop(predicted_classes)"
   ]
  },
  {
   "cell_type": "code",
   "execution_count": 32,
   "id": "weighted-sampling",
   "metadata": {},
   "outputs": [
    {
     "name": "stdout",
     "output_type": "stream",
     "text": [
      "Confusion matrix, without normalization\n"
     ]
    },
    {
     "data": {
      "image/png": "[encoded data removed]",
      "text/plain": [
       "<Figure size 576x576 with 2 Axes>"
      ]
     },
     "metadata": {
      "needs_background": "light"
     },
     "output_type": "display_data"
    }
   ],
   "source": [
    "make_cmx(y, predicted_classes, classes, cmap=cmap)"
   ]
  },
  {
   "cell_type": "code",
   "execution_count": 33,
   "id": "norman-round",
   "metadata": {
    "scrolled": false
   },
   "outputs": [
    {
     "data": {
      "text/html": [
       "<div>\n",
       "<style scoped>\n",
       "    .dataframe tbody tr th:only-of-type {\n",
       "        vertical-align: middle;\n",
       "    }\n",
       "\n",
       "    .dataframe tbody tr th {\n",
       "        vertical-align: top;\n",
       "    }\n",
       "\n",
       "    .dataframe thead th {\n",
       "        text-align: right;\n",
       "    }\n",
       "</style>\n",
       "<table border=\"1\" class=\"dataframe\">\n",
       "  <thead>\n",
       "    <tr style=\"text-align: right;\">\n",
       "      <th></th>\n",
       "      <th>precision</th>\n",
       "      <th>recall</th>\n",
       "      <th>f1-score</th>\n",
       "      <th>support</th>\n",
       "    </tr>\n",
       "  </thead>\n",
       "  <tbody>\n",
       "    <tr>\n",
       "      <th>1</th>\n",
       "      <td>0.95</td>\n",
       "      <td>0.77</td>\n",
       "      <td>0.85</td>\n",
       "      <td>1062.00</td>\n",
       "    </tr>\n",
       "    <tr>\n",
       "      <th>5</th>\n",
       "      <td>0.22</td>\n",
       "      <td>0.45</td>\n",
       "      <td>0.30</td>\n",
       "      <td>574.00</td>\n",
       "    </tr>\n",
       "    <tr>\n",
       "      <th>25</th>\n",
       "      <td>0.12</td>\n",
       "      <td>0.08</td>\n",
       "      <td>0.10</td>\n",
       "      <td>438.00</td>\n",
       "    </tr>\n",
       "    <tr>\n",
       "      <th>50</th>\n",
       "      <td>0.15</td>\n",
       "      <td>0.17</td>\n",
       "      <td>0.16</td>\n",
       "      <td>684.00</td>\n",
       "    </tr>\n",
       "    <tr>\n",
       "      <th>100</th>\n",
       "      <td>0.11</td>\n",
       "      <td>0.14</td>\n",
       "      <td>0.12</td>\n",
       "      <td>512.00</td>\n",
       "    </tr>\n",
       "    <tr>\n",
       "      <th>150</th>\n",
       "      <td>0.08</td>\n",
       "      <td>0.06</td>\n",
       "      <td>0.07</td>\n",
       "      <td>430.00</td>\n",
       "    </tr>\n",
       "    <tr>\n",
       "      <th>200</th>\n",
       "      <td>0.05</td>\n",
       "      <td>0.04</td>\n",
       "      <td>0.05</td>\n",
       "      <td>360.00</td>\n",
       "    </tr>\n",
       "    <tr>\n",
       "      <th>250</th>\n",
       "      <td>0.23</td>\n",
       "      <td>0.06</td>\n",
       "      <td>0.09</td>\n",
       "      <td>1213.00</td>\n",
       "    </tr>\n",
       "    <tr>\n",
       "      <th>500</th>\n",
       "      <td>0.48</td>\n",
       "      <td>0.17</td>\n",
       "      <td>0.25</td>\n",
       "      <td>2266.00</td>\n",
       "    </tr>\n",
       "    <tr>\n",
       "      <th>5000</th>\n",
       "      <td>0.07</td>\n",
       "      <td>0.78</td>\n",
       "      <td>0.13</td>\n",
       "      <td>190.00</td>\n",
       "    </tr>\n",
       "    <tr>\n",
       "      <th>50000</th>\n",
       "      <td>0.03</td>\n",
       "      <td>1.00</td>\n",
       "      <td>0.07</td>\n",
       "      <td>2.00</td>\n",
       "    </tr>\n",
       "    <tr>\n",
       "      <th>accuracy</th>\n",
       "      <td>0.25</td>\n",
       "      <td>0.25</td>\n",
       "      <td>0.25</td>\n",
       "      <td>0.25</td>\n",
       "    </tr>\n",
       "    <tr>\n",
       "      <th>macro avg</th>\n",
       "      <td>0.23</td>\n",
       "      <td>0.34</td>\n",
       "      <td>0.20</td>\n",
       "      <td>7731.00</td>\n",
       "    </tr>\n",
       "    <tr>\n",
       "      <th>weighted avg</th>\n",
       "      <td>0.36</td>\n",
       "      <td>0.25</td>\n",
       "      <td>0.26</td>\n",
       "      <td>7731.00</td>\n",
       "    </tr>\n",
       "  </tbody>\n",
       "</table>\n",
       "</div>"
      ],
      "text/plain": [
       "              precision  recall  f1-score  support\n",
       "1                  0.95    0.77      0.85  1062.00\n",
       "5                  0.22    0.45      0.30   574.00\n",
       "25                 0.12    0.08      0.10   438.00\n",
       "50                 0.15    0.17      0.16   684.00\n",
       "100                0.11    0.14      0.12   512.00\n",
       "150                0.08    0.06      0.07   430.00\n",
       "200                0.05    0.04      0.05   360.00\n",
       "250                0.23    0.06      0.09  1213.00\n",
       "500                0.48    0.17      0.25  2266.00\n",
       "5000               0.07    0.78      0.13   190.00\n",
       "50000              0.03    1.00      0.07     2.00\n",
       "accuracy           0.25    0.25      0.25     0.25\n",
       "macro avg          0.23    0.34      0.20  7731.00\n",
       "weighted avg       0.36    0.25      0.26  7731.00"
      ]
     },
     "execution_count": 33,
     "metadata": {},
     "output_type": "execute_result"
    }
   ],
   "source": [
    "make_classif_report(y, predicted_classes, classes)\n"
   ]
  },
  {
   "cell_type": "code",
   "execution_count": null,
   "id": "developed-local",
   "metadata": {},
   "outputs": [],
   "source": []
  },
  {
   "cell_type": "code",
   "execution_count": null,
   "id": "vulnerable-outline",
   "metadata": {},
   "outputs": [],
   "source": []
  },
  {
   "cell_type": "markdown",
   "id": "composite-cleveland",
   "metadata": {},
   "source": [
    "## --------------------------- <p style='color:blue; font-weight:bold'> MLP </p> ---------------------------"
   ]
  },
  {
   "cell_type": "code",
   "execution_count": 34,
   "id": "pointed-packing",
   "metadata": {},
   "outputs": [
    {
     "data": {
      "text/plain": [
       "MLPClassifier(alpha=0.001, batch_size=64,\n",
       "              hidden_layer_sizes=(64, 64, 64, 64, 64), learning_rate='adaptive',\n",
       "              learning_rate_init=0.01, max_iter=1800, random_state=1111,\n",
       "              solver='sgd')"
      ]
     },
     "execution_count": 34,
     "metadata": {},
     "output_type": "execute_result"
    }
   ],
   "source": [
    "dict_res['mlp']['model']"
   ]
  },
  {
   "cell_type": "code",
   "execution_count": 35,
   "id": "sought-yorkshire",
   "metadata": {},
   "outputs": [],
   "source": [
    "predicted_classes = dict_res['mlp']['preds']"
   ]
  },
  {
   "cell_type": "code",
   "execution_count": 36,
   "id": "affiliated-tattoo",
   "metadata": {},
   "outputs": [
    {
     "data": {
      "text/plain": [
       "array([    1,     5,    25,    50,   100,   150,   200,   250,   500,\n",
       "        5000, 50000], dtype=int64)"
      ]
     },
     "execution_count": 36,
     "metadata": {},
     "output_type": "execute_result"
    }
   ],
   "source": [
    "classes = np.unique(predicted_classes)\n",
    "classes"
   ]
  },
  {
   "cell_type": "code",
   "execution_count": 37,
   "id": "exciting-design",
   "metadata": {},
   "outputs": [
    {
     "name": "stdout",
     "output_type": "stream",
     "text": [
      "Predicted classes proportions\n",
      "--------------\n",
      "1        0.128961\n",
      "5        0.082008\n",
      "25       0.058207\n",
      "50       0.094684\n",
      "100      0.065192\n",
      "150      0.064028\n",
      "200      0.045014\n",
      "250      0.135687\n",
      "500      0.305394\n",
      "5000     0.020567\n",
      "50000    0.000259\n",
      "dtype: float64 \n",
      "\n"
     ]
    }
   ],
   "source": [
    "print_pred_classes_prop(predicted_classes)"
   ]
  },
  {
   "cell_type": "code",
   "execution_count": 38,
   "id": "controlled-boring",
   "metadata": {},
   "outputs": [
    {
     "name": "stdout",
     "output_type": "stream",
     "text": [
      "Confusion matrix, without normalization\n"
     ]
    },
    {
     "data": {
      "image/png": "[encoded data removed]",
      "text/plain": [
       "<Figure size 576x576 with 2 Axes>"
      ]
     },
     "metadata": {
      "needs_background": "light"
     },
     "output_type": "display_data"
    }
   ],
   "source": [
    "make_cmx(y, predicted_classes, classes, cmap=cmap)"
   ]
  },
  {
   "cell_type": "code",
   "execution_count": 39,
   "id": "weird-split",
   "metadata": {
    "scrolled": false
   },
   "outputs": [
    {
     "data": {
      "text/html": [
       "<div>\n",
       "<style scoped>\n",
       "    .dataframe tbody tr th:only-of-type {\n",
       "        vertical-align: middle;\n",
       "    }\n",
       "\n",
       "    .dataframe tbody tr th {\n",
       "        vertical-align: top;\n",
       "    }\n",
       "\n",
       "    .dataframe thead th {\n",
       "        text-align: right;\n",
       "    }\n",
       "</style>\n",
       "<table border=\"1\" class=\"dataframe\">\n",
       "  <thead>\n",
       "    <tr style=\"text-align: right;\">\n",
       "      <th></th>\n",
       "      <th>precision</th>\n",
       "      <th>recall</th>\n",
       "      <th>f1-score</th>\n",
       "      <th>support</th>\n",
       "    </tr>\n",
       "  </thead>\n",
       "  <tbody>\n",
       "    <tr>\n",
       "      <th>1</th>\n",
       "      <td>0.87</td>\n",
       "      <td>0.82</td>\n",
       "      <td>0.85</td>\n",
       "      <td>1062.00</td>\n",
       "    </tr>\n",
       "    <tr>\n",
       "      <th>5</th>\n",
       "      <td>0.33</td>\n",
       "      <td>0.36</td>\n",
       "      <td>0.34</td>\n",
       "      <td>574.00</td>\n",
       "    </tr>\n",
       "    <tr>\n",
       "      <th>25</th>\n",
       "      <td>0.12</td>\n",
       "      <td>0.13</td>\n",
       "      <td>0.13</td>\n",
       "      <td>438.00</td>\n",
       "    </tr>\n",
       "    <tr>\n",
       "      <th>50</th>\n",
       "      <td>0.21</td>\n",
       "      <td>0.23</td>\n",
       "      <td>0.22</td>\n",
       "      <td>684.00</td>\n",
       "    </tr>\n",
       "    <tr>\n",
       "      <th>100</th>\n",
       "      <td>0.15</td>\n",
       "      <td>0.15</td>\n",
       "      <td>0.15</td>\n",
       "      <td>512.00</td>\n",
       "    </tr>\n",
       "    <tr>\n",
       "      <th>150</th>\n",
       "      <td>0.16</td>\n",
       "      <td>0.19</td>\n",
       "      <td>0.18</td>\n",
       "      <td>430.00</td>\n",
       "    </tr>\n",
       "    <tr>\n",
       "      <th>200</th>\n",
       "      <td>0.11</td>\n",
       "      <td>0.10</td>\n",
       "      <td>0.10</td>\n",
       "      <td>360.00</td>\n",
       "    </tr>\n",
       "    <tr>\n",
       "      <th>250</th>\n",
       "      <td>0.27</td>\n",
       "      <td>0.23</td>\n",
       "      <td>0.25</td>\n",
       "      <td>1213.00</td>\n",
       "    </tr>\n",
       "    <tr>\n",
       "      <th>500</th>\n",
       "      <td>0.58</td>\n",
       "      <td>0.60</td>\n",
       "      <td>0.59</td>\n",
       "      <td>2266.00</td>\n",
       "    </tr>\n",
       "    <tr>\n",
       "      <th>5000</th>\n",
       "      <td>0.35</td>\n",
       "      <td>0.29</td>\n",
       "      <td>0.32</td>\n",
       "      <td>190.00</td>\n",
       "    </tr>\n",
       "    <tr>\n",
       "      <th>50000</th>\n",
       "      <td>0.00</td>\n",
       "      <td>0.00</td>\n",
       "      <td>0.00</td>\n",
       "      <td>2.00</td>\n",
       "    </tr>\n",
       "    <tr>\n",
       "      <th>accuracy</th>\n",
       "      <td>0.41</td>\n",
       "      <td>0.41</td>\n",
       "      <td>0.41</td>\n",
       "      <td>0.41</td>\n",
       "    </tr>\n",
       "    <tr>\n",
       "      <th>macro avg</th>\n",
       "      <td>0.29</td>\n",
       "      <td>0.28</td>\n",
       "      <td>0.28</td>\n",
       "      <td>7731.00</td>\n",
       "    </tr>\n",
       "    <tr>\n",
       "      <th>weighted avg</th>\n",
       "      <td>0.42</td>\n",
       "      <td>0.41</td>\n",
       "      <td>0.41</td>\n",
       "      <td>7731.00</td>\n",
       "    </tr>\n",
       "  </tbody>\n",
       "</table>\n",
       "</div>"
      ],
      "text/plain": [
       "              precision  recall  f1-score  support\n",
       "1                  0.87    0.82      0.85  1062.00\n",
       "5                  0.33    0.36      0.34   574.00\n",
       "25                 0.12    0.13      0.13   438.00\n",
       "50                 0.21    0.23      0.22   684.00\n",
       "100                0.15    0.15      0.15   512.00\n",
       "150                0.16    0.19      0.18   430.00\n",
       "200                0.11    0.10      0.10   360.00\n",
       "250                0.27    0.23      0.25  1213.00\n",
       "500                0.58    0.60      0.59  2266.00\n",
       "5000               0.35    0.29      0.32   190.00\n",
       "50000              0.00    0.00      0.00     2.00\n",
       "accuracy           0.41    0.41      0.41     0.41\n",
       "macro avg          0.29    0.28      0.28  7731.00\n",
       "weighted avg       0.42    0.41      0.41  7731.00"
      ]
     },
     "execution_count": 39,
     "metadata": {},
     "output_type": "execute_result"
    }
   ],
   "source": [
    "make_classif_report(y, predicted_classes, classes)"
   ]
  },
  {
   "cell_type": "code",
   "execution_count": null,
   "id": "distributed-bacon",
   "metadata": {},
   "outputs": [],
   "source": []
  },
  {
   "cell_type": "code",
   "execution_count": null,
   "id": "functional-anderson",
   "metadata": {},
   "outputs": [],
   "source": []
  }
 ],
 "metadata": {
  "kernelspec": {
   "display_name": "Python 3",
   "language": "python",
   "name": "python3"
  },
  "language_info": {
   "codemirror_mode": {
    "name": "ipython",
    "version": 3
   },
   "file_extension": ".py",
   "mimetype": "text/x-python",
   "name": "python",
   "nbconvert_exporter": "python",
   "pygments_lexer": "ipython3",
   "version": "3.9.2"
  }
 },
 "nbformat": 4,
 "nbformat_minor": 5
}
